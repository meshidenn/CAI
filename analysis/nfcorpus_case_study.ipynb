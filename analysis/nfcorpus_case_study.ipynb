{
 "cells": [
  {
   "cell_type": "code",
   "execution_count": 1,
   "id": "48d16cb3",
   "metadata": {},
   "outputs": [
    {
     "name": "stderr",
     "output_type": "stream",
     "text": [
      "2023-10-30 21:45:12.942328: W tensorflow/stream_executor/platform/default/dso_loader.cc:64] Could not load dynamic library 'libcudart.so.11.0'; dlerror: libcudart.so.11.0: cannot open shared object file: No such file or directory\n",
      "2023-10-30 21:45:12.942350: I tensorflow/stream_executor/cuda/cudart_stub.cc:29] Ignore above cudart dlerror if you do not have a GPU set up on your machine.\n"
     ]
    }
   ],
   "source": [
    "import os\n",
    "import sys\n",
    "import json\n",
    "import numpy as np\n",
    "import pandas as pd\n",
    "import torch\n",
    "from collections import Counter, defaultdict\n",
    "from transformers import AutoTokenizer, BasicTokenizer, AutoModelForMaskedLM\n",
    "from beir.datasets.data_loader import GenericDataLoader\n",
    "from beir.retrieval.search.dense import DenseRetrievalExactSearch as DRES\n",
    "from beir.retrieval.evaluation import EvaluateRetrieval\n",
    "from pyserini.analysis import Analyzer, get_lucene_analyzer\n",
    "from tqdm import tqdm_notebook\n",
    "import pytrec_eval"
   ]
  },
  {
   "cell_type": "code",
   "execution_count": 2,
   "id": "215e8122",
   "metadata": {},
   "outputs": [],
   "source": [
    "analyzer = Analyzer(get_lucene_analyzer())"
   ]
  },
  {
   "cell_type": "code",
   "execution_count": 3,
   "id": "6f38bf4e",
   "metadata": {},
   "outputs": [
    {
     "data": {
      "application/vnd.jupyter.widget-view+json": {
       "model_id": "660c56e980014bb6b7a002bef197337f",
       "version_major": 2,
       "version_minor": 0
      },
      "text/plain": [
       "  0%|          | 0/3633 [00:00<?, ?it/s]"
      ]
     },
     "metadata": {},
     "output_type": "display_data"
    }
   ],
   "source": [
    "data_path = \"/home/gaia_data/iida.h/BEIR/datasets/nfcorpus\"\n",
    "corpus, queries, qrels = GenericDataLoader(data_folder=data_path).load(split=\"test\")"
   ]
  },
  {
   "cell_type": "code",
   "execution_count": 5,
   "id": "812b13b9",
   "metadata": {},
   "outputs": [],
   "source": [
    "# result_path = {\"mlm-splade-71694\": \"/home/gaia_data/iida.h/BEIR/splade_vocab/evaluate/nfcorpus/mlm-splade-idf/71694/analysis.json\",\n",
    "#                \"splade\": \"/home/gaia_data/iida.h/BEIR/splade_vocab/evaluate/nfcorpus/splade-org/analysis.json\",\n",
    "#               \"bm25\": \"/home/gaia_data/iida.h/BEIR/splade_vocab/evaluate/nfcorpus/bm25/analysis.json\"}\n",
    "result_path = {\"mlm-splade-71694\": \"/home/gaia_data/iida.h/BEIR/splade_vocab/evaluate/nfcorpus/mlm-splade-org/71694/analysis.json\",\n",
    "               \"mlm-dense-71694\": \"/home/gaia_data/iida.h/BEIR/splade_vocab/evaluate/nfcorpus/mlm-dense-org/71694/analysis.json\",\n",
    "               \"splade\": \"/home/gaia_data/iida.h/BEIR/splade_vocab/evaluate/nfcorpus/splade-org/analysis.json\",\n",
    "              \"bm25\": \"/home/gaia_data/iida.h/BEIR/splade_vocab/evaluate/nfcorpus/bm25/analysis.json\"}"
   ]
  },
  {
   "cell_type": "code",
   "execution_count": 6,
   "id": "a405d38e",
   "metadata": {},
   "outputs": [],
   "source": [
    "model_pathes = {\"mlm-splade-71694\": \"/home/gaia_data/iida.h/BEIR/model/pubmed_abst/bert-base-uncased/splade_model/raw/remove/71694/distilSplade_0.1_0.08_-groups-gcb50243-iida.h-BEIR-model-pubmed_abst-bert-base-uncased-mlm_model-raw-remove--71694-batch_size_40-2022-04-12_08-52-34/\",\n",
    "               \"mlm-splade-30522\": \"/home/gaia_data/iida.h/BEIR/model/pubmed_abst/bert-base-uncased/splade_model/raw/remove/30522/distilSplade_0.1_0.08_-groups-gcb50243-iida.h-BEIR-model-pubmed_abst-bert-base-uncased-mlm_model-raw-remove--30522-batch_size_24-2022-04-11_23-21-18/\",\n",
    "                \"splade-71694\": \"/home/gaia_data/iida.h/BEIR/model/pubmed_abst/bert-base-uncased/splade_model_init/raw/remove/71694/distilSplade_0.1_0.08_-groups-gcb50243-iida.h-BEIR-model-pubmed_abst-bert-base-uncased-init_model-raw-remove--71694-batch_size_40-2022-04-24_00-46-31/\",\n",
    "               \"splade\": \"/home/gaia_data/iida.h/BEIR/model/msmarco/splade/distilSplade_0.1_0.08_bert-base-uncased-batch_size_40-2022-05-01_12-37-20\"}"
   ]
  },
  {
   "cell_type": "code",
   "execution_count": 7,
   "id": "498b5639",
   "metadata": {},
   "outputs": [],
   "source": [
    "tks = {\"mlm-splade-71694\": AutoTokenizer.from_pretrained(os.path.join(model_pathes[\"mlm-splade-71694\"], \"0_MLMTransformer\")),\n",
    "       \"splade\": AutoTokenizer.from_pretrained(os.path.join(model_pathes[\"splade\"], \"0_MLMTransformer\")),\n",
    "      \"space\": BasicTokenizer(),\n",
    "      \"bm25\": analyzer.analyze}"
   ]
  },
  {
   "cell_type": "code",
   "execution_count": 8,
   "id": "26746544",
   "metadata": {},
   "outputs": [],
   "source": [
    "all_results ={}\n",
    "for k, v in result_path.items():\n",
    "    with open(v) as fIn:\n",
    "        all_results[k] = json.load(fIn)"
   ]
  },
  {
   "cell_type": "code",
   "execution_count": 9,
   "id": "01516d47",
   "metadata": {},
   "outputs": [],
   "source": [
    "evaluator = pytrec_eval.RelevanceEvaluator(qrels, {'ndcg_cut_10', \"P.1\"})\n",
    "all_ndcg = {}\n",
    "all_ave_ndcg = {}\n",
    "for k, result in all_results.items():\n",
    "    if k != \"bm25\":\n",
    "        result = list(result.values())[0]\n",
    "    ndcg = evaluator.evaluate(result)\n",
    "    all_ndcg[k] = ndcg\n",
    "    all_ave_ndcg[k] = np.mean([val[\"ndcg_cut_10\"] for val in ndcg.values()])"
   ]
  },
  {
   "cell_type": "code",
   "execution_count": 10,
   "id": "71a7cf54",
   "metadata": {},
   "outputs": [
    {
     "data": {
      "text/plain": [
       "{'mlm-splade-71694': 0.34793522628074985,\n",
       " 'mlm-dense-71694': 0.3276735881003512,\n",
       " 'splade': 0.3360477401299443,\n",
       " 'bm25': 0.3352957425731824}"
      ]
     },
     "execution_count": 10,
     "metadata": {},
     "output_type": "execute_result"
    }
   ],
   "source": [
    "all_ave_ndcg"
   ]
  },
  {
   "cell_type": "code",
   "execution_count": 14,
   "id": "441e3a02",
   "metadata": {},
   "outputs": [
    {
     "name": "stdout",
     "output_type": "stream",
     "text": [
      "323\n",
      "323\n",
      "323\n",
      "323\n"
     ]
    },
    {
     "data": {
      "text/html": [
       "<div>\n",
       "<style scoped>\n",
       "    .dataframe tbody tr th:only-of-type {\n",
       "        vertical-align: middle;\n",
       "    }\n",
       "\n",
       "    .dataframe tbody tr th {\n",
       "        vertical-align: top;\n",
       "    }\n",
       "\n",
       "    .dataframe thead th {\n",
       "        text-align: right;\n",
       "    }\n",
       "</style>\n",
       "<table border=\"1\" class=\"dataframe\">\n",
       "  <thead>\n",
       "    <tr style=\"text-align: right;\">\n",
       "      <th></th>\n",
       "      <th>mlm-splade-71694</th>\n",
       "      <th>mlm-dense-71694</th>\n",
       "      <th>splade</th>\n",
       "      <th>bm25</th>\n",
       "    </tr>\n",
       "  </thead>\n",
       "  <tbody>\n",
       "    <tr>\n",
       "      <th>PLAIN-1398</th>\n",
       "      <td>1.0</td>\n",
       "      <td>1.0</td>\n",
       "      <td>1.0</td>\n",
       "      <td>1.0</td>\n",
       "    </tr>\n",
       "    <tr>\n",
       "      <th>PLAIN-2880</th>\n",
       "      <td>0.0</td>\n",
       "      <td>0.0</td>\n",
       "      <td>0.0</td>\n",
       "      <td>0.0</td>\n",
       "    </tr>\n",
       "    <tr>\n",
       "      <th>PLAIN-3116</th>\n",
       "      <td>0.0</td>\n",
       "      <td>0.0</td>\n",
       "      <td>0.0</td>\n",
       "      <td>0.0</td>\n",
       "    </tr>\n",
       "    <tr>\n",
       "      <th>PLAIN-551</th>\n",
       "      <td>1.0</td>\n",
       "      <td>0.0</td>\n",
       "      <td>0.0</td>\n",
       "      <td>0.0</td>\n",
       "    </tr>\n",
       "    <tr>\n",
       "      <th>PLAIN-2560</th>\n",
       "      <td>1.0</td>\n",
       "      <td>1.0</td>\n",
       "      <td>1.0</td>\n",
       "      <td>1.0</td>\n",
       "    </tr>\n",
       "  </tbody>\n",
       "</table>\n",
       "</div>"
      ],
      "text/plain": [
       "            mlm-splade-71694  mlm-dense-71694  splade  bm25\n",
       "PLAIN-1398               1.0              1.0     1.0   1.0\n",
       "PLAIN-2880               0.0              0.0     0.0   0.0\n",
       "PLAIN-3116               0.0              0.0     0.0   0.0\n",
       "PLAIN-551                1.0              0.0     0.0   0.0\n",
       "PLAIN-2560               1.0              1.0     1.0   1.0"
      ]
     },
     "execution_count": 14,
     "metadata": {},
     "output_type": "execute_result"
    }
   ],
   "source": [
    "df_all_ndcg = {}\n",
    "df_all_p1 = {}\n",
    "# model_names = [\"mlm-splade-71694\", \"splade\", \"bm25\"]\n",
    "model_names = [\"mlm-splade-71694\", \"mlm-dense-71694\", \"splade\", \"bm25\"]\n",
    "qids = set()\n",
    "for k in model_names:\n",
    "    target = all_ndcg[k]\n",
    "    qids |= set(list(target.keys()))\n",
    "    \n",
    "for k in model_names:\n",
    "    target = all_ndcg[k]\n",
    "    # df_all_ndcg[k] = [val['ndcg_cut_10'] for val in target.values()]\n",
    "    df_all_ndcg[k] = [target[qid]['ndcg_cut_10'] if qid in target else 0.0 for qid in qids]\n",
    "    df_all_p1[k] = [target[qid]['P_1'] if qid in target else 0.0 for qid in qids]\n",
    "    print(len(df_all_ndcg[k]))\n",
    "    \n",
    "df_all_ndcg = pd.DataFrame(df_all_ndcg)\n",
    "df_all_ndcg.index = list(qids)\n",
    "df_all_ndcg.head()\n",
    "\n",
    "df_all_p1 = pd.DataFrame(df_all_p1)\n",
    "df_all_p1.index = list(qids)\n",
    "df_all_p1.head()\n"
   ]
  },
  {
   "cell_type": "code",
   "execution_count": 15,
   "id": "8bd1ac57",
   "metadata": {},
   "outputs": [
    {
     "data": {
      "text/html": [
       "<div>\n",
       "<style scoped>\n",
       "    .dataframe tbody tr th:only-of-type {\n",
       "        vertical-align: middle;\n",
       "    }\n",
       "\n",
       "    .dataframe tbody tr th {\n",
       "        vertical-align: top;\n",
       "    }\n",
       "\n",
       "    .dataframe thead th {\n",
       "        text-align: right;\n",
       "    }\n",
       "</style>\n",
       "<table border=\"1\" class=\"dataframe\">\n",
       "  <thead>\n",
       "    <tr style=\"text-align: right;\">\n",
       "      <th></th>\n",
       "      <th>mlm-splade-71694</th>\n",
       "      <th>mlm-dense-71694</th>\n",
       "      <th>splade</th>\n",
       "      <th>bm25</th>\n",
       "    </tr>\n",
       "  </thead>\n",
       "  <tbody>\n",
       "    <tr>\n",
       "      <th>PLAIN-551</th>\n",
       "      <td>1.000000</td>\n",
       "      <td>0.204382</td>\n",
       "      <td>0.000000</td>\n",
       "      <td>0.000000</td>\n",
       "    </tr>\n",
       "    <tr>\n",
       "      <th>PLAIN-1109</th>\n",
       "      <td>0.677273</td>\n",
       "      <td>0.701973</td>\n",
       "      <td>0.598395</td>\n",
       "      <td>0.469000</td>\n",
       "    </tr>\n",
       "    <tr>\n",
       "      <th>PLAIN-468</th>\n",
       "      <td>0.421421</td>\n",
       "      <td>0.431885</td>\n",
       "      <td>0.301874</td>\n",
       "      <td>0.254882</td>\n",
       "    </tr>\n",
       "    <tr>\n",
       "      <th>PLAIN-2680</th>\n",
       "      <td>0.397951</td>\n",
       "      <td>0.098584</td>\n",
       "      <td>0.288200</td>\n",
       "      <td>0.369118</td>\n",
       "    </tr>\n",
       "    <tr>\n",
       "      <th>PLAIN-2500</th>\n",
       "      <td>0.114266</td>\n",
       "      <td>0.000000</td>\n",
       "      <td>0.000000</td>\n",
       "      <td>0.000000</td>\n",
       "    </tr>\n",
       "    <tr>\n",
       "      <th>...</th>\n",
       "      <td>...</td>\n",
       "      <td>...</td>\n",
       "      <td>...</td>\n",
       "      <td>...</td>\n",
       "    </tr>\n",
       "    <tr>\n",
       "      <th>PLAIN-1419</th>\n",
       "      <td>0.510352</td>\n",
       "      <td>0.444097</td>\n",
       "      <td>0.383633</td>\n",
       "      <td>0.432318</td>\n",
       "    </tr>\n",
       "    <tr>\n",
       "      <th>PLAIN-2019</th>\n",
       "      <td>0.469279</td>\n",
       "      <td>0.000000</td>\n",
       "      <td>0.181542</td>\n",
       "      <td>0.469279</td>\n",
       "    </tr>\n",
       "    <tr>\n",
       "      <th>PLAIN-2177</th>\n",
       "      <td>0.391703</td>\n",
       "      <td>0.538886</td>\n",
       "      <td>0.307015</td>\n",
       "      <td>0.268455</td>\n",
       "    </tr>\n",
       "    <tr>\n",
       "      <th>PLAIN-827</th>\n",
       "      <td>0.738192</td>\n",
       "      <td>0.870125</td>\n",
       "      <td>0.672693</td>\n",
       "      <td>0.782739</td>\n",
       "    </tr>\n",
       "    <tr>\n",
       "      <th>PLAIN-3412</th>\n",
       "      <td>0.289751</td>\n",
       "      <td>0.271426</td>\n",
       "      <td>0.210711</td>\n",
       "      <td>0.270739</td>\n",
       "    </tr>\n",
       "  </tbody>\n",
       "</table>\n",
       "<p>64 rows × 4 columns</p>\n",
       "</div>"
      ],
      "text/plain": [
       "            mlm-splade-71694  mlm-dense-71694    splade      bm25\n",
       "PLAIN-551           1.000000         0.204382  0.000000  0.000000\n",
       "PLAIN-1109          0.677273         0.701973  0.598395  0.469000\n",
       "PLAIN-468           0.421421         0.431885  0.301874  0.254882\n",
       "PLAIN-2680          0.397951         0.098584  0.288200  0.369118\n",
       "PLAIN-2500          0.114266         0.000000  0.000000  0.000000\n",
       "...                      ...              ...       ...       ...\n",
       "PLAIN-1419          0.510352         0.444097  0.383633  0.432318\n",
       "PLAIN-2019          0.469279         0.000000  0.181542  0.469279\n",
       "PLAIN-2177          0.391703         0.538886  0.307015  0.268455\n",
       "PLAIN-827           0.738192         0.870125  0.672693  0.782739\n",
       "PLAIN-3412          0.289751         0.271426  0.210711  0.270739\n",
       "\n",
       "[64 rows x 4 columns]"
      ]
     },
     "execution_count": 15,
     "metadata": {},
     "output_type": "execute_result"
    }
   ],
   "source": [
    "da_sup = df_all_ndcg[ df_all_ndcg[\"mlm-splade-71694\"] > df_all_ndcg[\"splade\"] + 0.05]\n",
    "da_sup"
   ]
  },
  {
   "cell_type": "code",
   "execution_count": 16,
   "id": "2ef767d9",
   "metadata": {},
   "outputs": [
    {
     "data": {
      "text/html": [
       "<div>\n",
       "<style scoped>\n",
       "    .dataframe tbody tr th:only-of-type {\n",
       "        vertical-align: middle;\n",
       "    }\n",
       "\n",
       "    .dataframe tbody tr th {\n",
       "        vertical-align: top;\n",
       "    }\n",
       "\n",
       "    .dataframe thead th {\n",
       "        text-align: right;\n",
       "    }\n",
       "</style>\n",
       "<table border=\"1\" class=\"dataframe\">\n",
       "  <thead>\n",
       "    <tr style=\"text-align: right;\">\n",
       "      <th></th>\n",
       "      <th>mlm-splade-71694</th>\n",
       "      <th>mlm-dense-71694</th>\n",
       "      <th>splade</th>\n",
       "      <th>bm25</th>\n",
       "    </tr>\n",
       "  </thead>\n",
       "  <tbody>\n",
       "    <tr>\n",
       "      <th>PLAIN-551</th>\n",
       "      <td>1.0</td>\n",
       "      <td>0.0</td>\n",
       "      <td>0.0</td>\n",
       "      <td>0.0</td>\n",
       "    </tr>\n",
       "    <tr>\n",
       "      <th>PLAIN-468</th>\n",
       "      <td>1.0</td>\n",
       "      <td>1.0</td>\n",
       "      <td>0.0</td>\n",
       "      <td>0.0</td>\n",
       "    </tr>\n",
       "    <tr>\n",
       "      <th>PLAIN-1557</th>\n",
       "      <td>1.0</td>\n",
       "      <td>0.0</td>\n",
       "      <td>0.0</td>\n",
       "      <td>0.0</td>\n",
       "    </tr>\n",
       "    <tr>\n",
       "      <th>PLAIN-1667</th>\n",
       "      <td>1.0</td>\n",
       "      <td>1.0</td>\n",
       "      <td>0.0</td>\n",
       "      <td>1.0</td>\n",
       "    </tr>\n",
       "    <tr>\n",
       "      <th>PLAIN-1225</th>\n",
       "      <td>1.0</td>\n",
       "      <td>1.0</td>\n",
       "      <td>0.0</td>\n",
       "      <td>0.0</td>\n",
       "    </tr>\n",
       "    <tr>\n",
       "      <th>PLAIN-3432</th>\n",
       "      <td>1.0</td>\n",
       "      <td>0.0</td>\n",
       "      <td>0.0</td>\n",
       "      <td>0.0</td>\n",
       "    </tr>\n",
       "    <tr>\n",
       "      <th>PLAIN-2620</th>\n",
       "      <td>1.0</td>\n",
       "      <td>1.0</td>\n",
       "      <td>0.0</td>\n",
       "      <td>1.0</td>\n",
       "    </tr>\n",
       "    <tr>\n",
       "      <th>PLAIN-2550</th>\n",
       "      <td>1.0</td>\n",
       "      <td>0.0</td>\n",
       "      <td>0.0</td>\n",
       "      <td>0.0</td>\n",
       "    </tr>\n",
       "    <tr>\n",
       "      <th>PLAIN-2019</th>\n",
       "      <td>1.0</td>\n",
       "      <td>0.0</td>\n",
       "      <td>0.0</td>\n",
       "      <td>1.0</td>\n",
       "    </tr>\n",
       "  </tbody>\n",
       "</table>\n",
       "</div>"
      ],
      "text/plain": [
       "            mlm-splade-71694  mlm-dense-71694  splade  bm25\n",
       "PLAIN-551                1.0              0.0     0.0   0.0\n",
       "PLAIN-468                1.0              1.0     0.0   0.0\n",
       "PLAIN-1557               1.0              0.0     0.0   0.0\n",
       "PLAIN-1667               1.0              1.0     0.0   1.0\n",
       "PLAIN-1225               1.0              1.0     0.0   0.0\n",
       "PLAIN-3432               1.0              0.0     0.0   0.0\n",
       "PLAIN-2620               1.0              1.0     0.0   1.0\n",
       "PLAIN-2550               1.0              0.0     0.0   0.0\n",
       "PLAIN-2019               1.0              0.0     0.0   1.0"
      ]
     },
     "execution_count": 16,
     "metadata": {},
     "output_type": "execute_result"
    }
   ],
   "source": [
    "da_top1 = df_all_p1[(df_all_p1[\"splade\"] < df_all_p1[\"mlm-splade-71694\"]) & (df_all_p1[\"mlm-splade-71694\"] == 1)]\n",
    "da_top1"
   ]
  },
  {
   "cell_type": "code",
   "execution_count": 17,
   "id": "de1c7b20",
   "metadata": {},
   "outputs": [
    {
     "name": "stdout",
     "output_type": "stream",
     "text": [
      "PLAIN-551 amnesia\n",
      "PLAIN-468 Is vitamin D3 (cholecalciferol) preferable to D2 (ergocalciferol)?\n",
      "PLAIN-1557 magnesium\n",
      "PLAIN-1667 muscle health\n",
      "PLAIN-1225 fructose\n",
      "PLAIN-3432 Healthy Chocolate Milkshakes\n",
      "PLAIN-2620 Phytates for the Treatment of Cancer\n",
      "PLAIN-2550 Barriers to Heart Disease Prevention\n",
      "PLAIN-2019 rickets\n"
     ]
    }
   ],
   "source": [
    "for qid in da_top1.index:\n",
    "    print(qid, queries[qid])"
   ]
  },
  {
   "cell_type": "code",
   "execution_count": 19,
   "id": "426d5c68-bca7-486f-8502-188cabffae97",
   "metadata": {},
   "outputs": [
    {
     "data": {
      "text/plain": [
       "[('MED-4380', 1), ('MED-4381', 1)]"
      ]
     },
     "execution_count": 19,
     "metadata": {},
     "output_type": "execute_result"
    }
   ],
   "source": [
    "sorted(qrels[\"PLAIN-551\"].items(), key=lambda x: -x[1])[:10]"
   ]
  },
  {
   "cell_type": "code",
   "execution_count": 14,
   "id": "f9fe2848",
   "metadata": {},
   "outputs": [
    {
     "data": {
      "text/html": [
       "<div>\n",
       "<style scoped>\n",
       "    .dataframe tbody tr th:only-of-type {\n",
       "        vertical-align: middle;\n",
       "    }\n",
       "\n",
       "    .dataframe tbody tr th {\n",
       "        vertical-align: top;\n",
       "    }\n",
       "\n",
       "    .dataframe thead th {\n",
       "        text-align: right;\n",
       "    }\n",
       "</style>\n",
       "<table border=\"1\" class=\"dataframe\">\n",
       "  <thead>\n",
       "    <tr style=\"text-align: right;\">\n",
       "      <th></th>\n",
       "      <th>mlm-splade-71694</th>\n",
       "      <th>splade</th>\n",
       "      <th>bm25</th>\n",
       "    </tr>\n",
       "  </thead>\n",
       "  <tbody>\n",
       "    <tr>\n",
       "      <th>PLAIN-1667</th>\n",
       "      <td>1.0</td>\n",
       "      <td>0.0</td>\n",
       "      <td>1.0</td>\n",
       "    </tr>\n",
       "    <tr>\n",
       "      <th>PLAIN-2620</th>\n",
       "      <td>1.0</td>\n",
       "      <td>0.0</td>\n",
       "      <td>1.0</td>\n",
       "    </tr>\n",
       "    <tr>\n",
       "      <th>PLAIN-2019</th>\n",
       "      <td>1.0</td>\n",
       "      <td>0.0</td>\n",
       "      <td>1.0</td>\n",
       "    </tr>\n",
       "  </tbody>\n",
       "</table>\n",
       "</div>"
      ],
      "text/plain": [
       "            mlm-splade-71694  splade  bm25\n",
       "PLAIN-1667               1.0     0.0   1.0\n",
       "PLAIN-2620               1.0     0.0   1.0\n",
       "PLAIN-2019               1.0     0.0   1.0"
      ]
     },
     "execution_count": 14,
     "metadata": {},
     "output_type": "execute_result"
    }
   ],
   "source": [
    "df_all_p1[(df_all_p1[\"splade\"] < df_all_p1[\"bm25\"]) & (df_all_p1[\"mlm-splade-71694\"] == 1)]"
   ]
  },
  {
   "cell_type": "code",
   "execution_count": 15,
   "id": "54b26201",
   "metadata": {},
   "outputs": [
    {
     "data": {
      "text/html": [
       "<div>\n",
       "<style scoped>\n",
       "    .dataframe tbody tr th:only-of-type {\n",
       "        vertical-align: middle;\n",
       "    }\n",
       "\n",
       "    .dataframe tbody tr th {\n",
       "        vertical-align: top;\n",
       "    }\n",
       "\n",
       "    .dataframe thead th {\n",
       "        text-align: right;\n",
       "    }\n",
       "</style>\n",
       "<table border=\"1\" class=\"dataframe\">\n",
       "  <thead>\n",
       "    <tr style=\"text-align: right;\">\n",
       "      <th></th>\n",
       "      <th>mlm-splade-71694</th>\n",
       "      <th>splade</th>\n",
       "      <th>bm25</th>\n",
       "    </tr>\n",
       "  </thead>\n",
       "  <tbody>\n",
       "    <tr>\n",
       "      <th>PLAIN-1667</th>\n",
       "      <td>0.646402</td>\n",
       "      <td>0.442022</td>\n",
       "      <td>0.742125</td>\n",
       "    </tr>\n",
       "    <tr>\n",
       "      <th>PLAIN-2620</th>\n",
       "      <td>0.510584</td>\n",
       "      <td>0.094788</td>\n",
       "      <td>0.626043</td>\n",
       "    </tr>\n",
       "    <tr>\n",
       "      <th>PLAIN-2019</th>\n",
       "      <td>0.469279</td>\n",
       "      <td>0.181542</td>\n",
       "      <td>0.469279</td>\n",
       "    </tr>\n",
       "  </tbody>\n",
       "</table>\n",
       "</div>"
      ],
      "text/plain": [
       "            mlm-splade-71694    splade      bm25\n",
       "PLAIN-1667          0.646402  0.442022  0.742125\n",
       "PLAIN-2620          0.510584  0.094788  0.626043\n",
       "PLAIN-2019          0.469279  0.181542  0.469279"
      ]
     },
     "execution_count": 15,
     "metadata": {},
     "output_type": "execute_result"
    }
   ],
   "source": [
    "da_p1 = df_all_ndcg[(df_all_p1[\"splade\"] < df_all_p1[\"bm25\"]) & (df_all_p1[\"mlm-splade-71694\"] == 1)]\n",
    "da_p1"
   ]
  },
  {
   "cell_type": "code",
   "execution_count": 19,
   "id": "aaaac820-fdc6-40b3-bb1e-356f33afaf9b",
   "metadata": {},
   "outputs": [
    {
     "name": "stdout",
     "output_type": "stream",
     "text": [
      "{'text': 'Aromatase is a cytochrome P450 enzyme (CYP19) and is the rate limiting enzyme in the conversion of androgens to estrogens. Suppression of in situ estrogen production through aromatase inhibition is the current treatment strategy for hormone-responsive breast cancers. Drugs that inhibit aromatase have been developed and are currently utilized as adjuvant therapy for breast cancer in post-menopausal women with hormone dependent breast cancer. Natural compounds have been studied extensively for important biologic effects such as antioxidant, anti-tumor and anti-viral effects. A significant number of studies have also investigated the aromatase inhibitory properties of a variety of plant extracts and phytochemicals. The identification of natural compounds that inhibit aromatase could be useful both from a chemopreventive standpoint and in the development of new aromatase inhibitory drugs. This review will discuss whole food extracts and the common classes of phytochemicals which have been investigated for potential aromatase inhibitory activity. We will review reported aromatase inhibition, kinetic data and possible structural variations that may inhibit or enhance the interaction of phytochemicals with the aromatase enzyme.', 'title': 'Phytochemicals for breast cancer prevention by targeting aromatase.'}\n",
      "['ph', '##yt', '##ates', 'for', 'the', 'treatment', 'of', 'cancer']\n",
      "['phytate', '##s', 'for', 'the', 'treatment', 'of', 'cancer']\n",
      "['ph', '##yt', '##oche', '##mic', '##als', 'for', 'breast', 'cancer', 'prevention', 'by', 'targeting', 'aroma', '##tase', '.']\n"
     ]
    }
   ],
   "source": [
    "qid = \"PLAIN-2620\"\n",
    "q = queries[qid]\n",
    "top_d = sorted(all_results[\"splade\"][\"org\"][qid].items(), key=lambda x: -x[1])[0][0]\n",
    "print(corpus[top_d])\n",
    "\n",
    "print(tks[\"splade\"].tokenize(q))\n",
    "print(tks[\"mlm-splade-71694\"].tokenize(q))\n",
    "print(tks[\"splade\"].tokenize(corpus[top_d][\"title\"]))"
   ]
  },
  {
   "cell_type": "code",
   "execution_count": 20,
   "id": "78bede8c",
   "metadata": {},
   "outputs": [],
   "source": [
    "def calc_idf(corpus, tokenizer):\n",
    "    N = len(corpus)\n",
    "    idf = defaultdict(float)\n",
    "    df = Counter()\n",
    "    for cid, doc in tqdm_notebook(corpus.items()):\n",
    "        text = doc[\"title\"] + \" \" + doc[\"text\"]\n",
    "        t_doc = tokenizer(text)\n",
    "        df.update(list(set(t_doc)))\n",
    "    \n",
    "    for v, freq in df.items():\n",
    "        idf[v] = np.log(N/freq)\n",
    "    return df, idf\n",
    "\n",
    "def calc_q_idf(queries, tokenizer):\n",
    "    N = len(queries)\n",
    "    idf = defaultdict(float)\n",
    "    df = Counter()\n",
    "    for qid, query in tqdm_notebook(queries.items()):\n",
    "        t_q = tokenizer(query)\n",
    "        df.update(list(set(t_q)))\n",
    "    \n",
    "    for v, freq in df.items():\n",
    "        idf[v] = np.log(N/freq)\n",
    "    return df, idf"
   ]
  },
  {
   "cell_type": "code",
   "execution_count": 21,
   "id": "0d15842d",
   "metadata": {},
   "outputs": [],
   "source": [
    "def calc_rsj(index_corpus, queries, qrels, N):\n",
    "    rsj = {}\n",
    "    for qid, q_qrels in qrels.items():\n",
    "        try:\n",
    "            query = queries[qid]\n",
    "        except KeyError:\n",
    "            continue\n",
    "        t_query = analyzer.analyze(query)\n",
    "        rel_q_qrels = {k: v for k, v in q_qrels.items() if v > 0}\n",
    "        Nr = len([i for i in q_qrels.values() if i > 0])\n",
    "        if Nr < 1:\n",
    "            continue\n",
    "        wtq = defaultdict(float)\n",
    "        for t in t_query:\n",
    "            Dt = index_corpus[t]\n",
    "            Nt = len(Dt)\n",
    "            Ntr = 0\n",
    "            for did in Dt:\n",
    "                if did in rel_q_qrels:\n",
    "                    Ntr+= 1\n",
    "                   \n",
    "            pt = Ntr / Nr\n",
    "            not_pt = (Nt - Ntr) / (N - Nr)\n",
    "            wtq[t] = np.log(((Ntr + 0.5)*(N - Nt - Nr + Ntr + 0.5))/((Nr - Ntr + 0.5)*(Nt - Ntr + 0.5)) )\n",
    "            # print(qid, t, N, Nt, Nr, Ntr, wtq[t], ((Ntr + 0.5)*(N - Nt - Nr + Ntr + 0.5)), (Nr - Ntr + 0.5)*(Nt - Ntr + 0.5))\n",
    "        rsj[qid] = wtq\n",
    "    return rsj"
   ]
  },
  {
   "cell_type": "code",
   "execution_count": 22,
   "id": "c9202f5d",
   "metadata": {},
   "outputs": [
    {
     "name": "stderr",
     "output_type": "stream",
     "text": [
      "/tmp/ipykernel_2900404/2271427616.py:5: TqdmDeprecationWarning: This function will be removed in tqdm==5.0.0\n",
      "Please use `tqdm.notebook.tqdm` instead of `tqdm.tqdm_notebook`\n",
      "  for cid, doc in tqdm_notebook(corpus.items()):\n"
     ]
    },
    {
     "data": {
      "application/vnd.jupyter.widget-view+json": {
       "model_id": "b08c12a7bd4f487daf710ac71cd57098",
       "version_major": 2,
       "version_minor": 0
      },
      "text/plain": [
       "  0%|          | 0/3633 [00:00<?, ?it/s]"
      ]
     },
     "metadata": {},
     "output_type": "display_data"
    }
   ],
   "source": [
    "df, idf = calc_idf(corpus, analyzer.analyze)\n",
    "N = len(corpus)"
   ]
  },
  {
   "cell_type": "code",
   "execution_count": 23,
   "id": "ab7d7fac",
   "metadata": {},
   "outputs": [
    {
     "name": "stderr",
     "output_type": "stream",
     "text": [
      "/tmp/ipykernel_2900404/2271427616.py:5: TqdmDeprecationWarning: This function will be removed in tqdm==5.0.0\n",
      "Please use `tqdm.notebook.tqdm` instead of `tqdm.tqdm_notebook`\n",
      "  for cid, doc in tqdm_notebook(corpus.items()):\n"
     ]
    },
    {
     "data": {
      "application/vnd.jupyter.widget-view+json": {
       "model_id": "a5dfde7bb2d1453ab0d965c634376a8c",
       "version_major": 2,
       "version_minor": 0
      },
      "text/plain": [
       "  0%|          | 0/3633 [00:00<?, ?it/s]"
      ]
     },
     "metadata": {},
     "output_type": "display_data"
    },
    {
     "data": {
      "application/vnd.jupyter.widget-view+json": {
       "model_id": "bed587bf194f4d1abe76dce1fc0f04d7",
       "version_major": 2,
       "version_minor": 0
      },
      "text/plain": [
       "  0%|          | 0/3633 [00:00<?, ?it/s]"
      ]
     },
     "metadata": {},
     "output_type": "display_data"
    },
    {
     "name": "stderr",
     "output_type": "stream",
     "text": [
      "Token indices sequence length is longer than the specified maximum sequence length for this model (525 > 512). Running this sequence through the model will result in indexing errors\n"
     ]
    },
    {
     "data": {
      "application/vnd.jupyter.widget-view+json": {
       "model_id": "b451d10675c64f59985907106c3e2d2f",
       "version_major": 2,
       "version_minor": 0
      },
      "text/plain": [
       "  0%|          | 0/3633 [00:00<?, ?it/s]"
      ]
     },
     "metadata": {},
     "output_type": "display_data"
    },
    {
     "data": {
      "application/vnd.jupyter.widget-view+json": {
       "model_id": "693504529aff4d00aefadccae85d769f",
       "version_major": 2,
       "version_minor": 0
      },
      "text/plain": [
       "  0%|          | 0/3633 [00:00<?, ?it/s]"
      ]
     },
     "metadata": {},
     "output_type": "display_data"
    }
   ],
   "source": [
    "idf_tk = {}\n",
    "df_tk = {}\n",
    "\n",
    "for name, tk in tks.items():\n",
    "    if name != \"bm25\":\n",
    "        tokenizer = tk.tokenize\n",
    "    else:\n",
    "        tokenizer = tk\n",
    "    df_, idf_ = calc_idf(corpus, tokenizer)\n",
    "    idf_tk[name] = idf_\n",
    "    df_tk[name] = df_"
   ]
  },
  {
   "cell_type": "code",
   "execution_count": 24,
   "id": "6bfac621",
   "metadata": {},
   "outputs": [
    {
     "data": {
      "text/plain": [
       "24166"
      ]
     },
     "execution_count": 24,
     "metadata": {},
     "output_type": "execute_result"
    }
   ],
   "source": [
    "len(idf_tk[\"mlm-splade-71694\"])"
   ]
  },
  {
   "cell_type": "code",
   "execution_count": 22,
   "id": "f70f19c7",
   "metadata": {},
   "outputs": [
    {
     "data": {
      "application/vnd.jupyter.widget-view+json": {
       "model_id": "4eb68f4a495b42a1b47f2833c23eb055",
       "version_major": 2,
       "version_minor": 0
      },
      "text/plain": [
       "  0%|          | 0/8841823 [00:00<?, ?it/s]"
      ]
     },
     "metadata": {},
     "output_type": "display_data"
    }
   ],
   "source": [
    "data_path = \"/home/gaia_data/iida.h/BEIR/datasets/msmarco\"\n",
    "ms_corpus, ms_queries, ms_qrels = GenericDataLoader(data_folder=data_path).load(split=\"test\")"
   ]
  },
  {
   "cell_type": "code",
   "execution_count": 23,
   "id": "7c74f6d0",
   "metadata": {},
   "outputs": [
    {
     "name": "stderr",
     "output_type": "stream",
     "text": [
      "/tmp/ipykernel_19344/3501768668.py:5: TqdmDeprecationWarning: This function will be removed in tqdm==5.0.0\n",
      "Please use `tqdm.notebook.tqdm` instead of `tqdm.tqdm_notebook`\n",
      "  for cid, doc in tqdm_notebook(corpus.items()):\n"
     ]
    },
    {
     "data": {
      "application/vnd.jupyter.widget-view+json": {
       "model_id": "c5bb014f940045fd93434bcbc0fc9313",
       "version_major": 2,
       "version_minor": 0
      },
      "text/plain": [
       "  0%|          | 0/8841823 [00:00<?, ?it/s]"
      ]
     },
     "metadata": {},
     "output_type": "display_data"
    }
   ],
   "source": [
    "ms_df, ms_idf = calc_idf(ms_corpus, analyzer.analyze)\n",
    "ms_N = len(ms_corpus)"
   ]
  },
  {
   "cell_type": "code",
   "execution_count": 30,
   "id": "1f3077d0-4791-4f6b-9606-150aa45e4dcd",
   "metadata": {},
   "outputs": [
    {
     "data": {
      "application/vnd.jupyter.widget-view+json": {
       "model_id": "d699fe654e61440db588e1001a0f417d",
       "version_major": 2,
       "version_minor": 0
      },
      "text/plain": [
       "  0%|          | 0/8841823 [00:00<?, ?it/s]"
      ]
     },
     "metadata": {},
     "output_type": "display_data"
    }
   ],
   "source": [
    "_, ms_train_queries, _  = GenericDataLoader(data_folder=data_path).load(split=\"train\")"
   ]
  },
  {
   "cell_type": "code",
   "execution_count": 33,
   "id": "35756cfc-480c-4c38-bb0c-d9ebc7ae4d66",
   "metadata": {},
   "outputs": [
    {
     "name": "stderr",
     "output_type": "stream",
     "text": [
      "/tmp/ipykernel_19344/2271427616.py:18: TqdmDeprecationWarning: This function will be removed in tqdm==5.0.0\n",
      "Please use `tqdm.notebook.tqdm` instead of `tqdm.tqdm_notebook`\n",
      "  for qid, query in tqdm_notebook(queries.items()):\n"
     ]
    },
    {
     "data": {
      "application/vnd.jupyter.widget-view+json": {
       "model_id": "4364dbe14e3348e4abf95a075d53e259",
       "version_major": 2,
       "version_minor": 0
      },
      "text/plain": [
       "  0%|          | 0/502939 [00:00<?, ?it/s]"
      ]
     },
     "metadata": {},
     "output_type": "display_data"
    }
   ],
   "source": [
    "ms_q_df, ms_q_idf = calc_q_idf(ms_train_queries, analyzer.analyze)"
   ]
  },
  {
   "cell_type": "code",
   "execution_count": 34,
   "id": "d1c6bc67-cb67-46eb-bee4-5c2404723ec2",
   "metadata": {},
   "outputs": [
    {
     "name": "stdout",
     "output_type": "stream",
     "text": [
      "2 502939\n"
     ]
    }
   ],
   "source": [
    "ms_q_N = len(ms_train_queries)\n",
    "print(ms_q_df[\"phytat\"], ms_q_N)"
   ]
  },
  {
   "cell_type": "code",
   "execution_count": 42,
   "id": "13659bc3-99d0-4efd-ae09-faf73e4487d9",
   "metadata": {},
   "outputs": [
    {
     "name": "stdout",
     "output_type": "stream",
     "text": [
      "694789 what is a phytate\n",
      "783728 what is phytate\n",
      "MED-2022,MED-2253,MED-2578,MED-2979,MED-2983,MED-2984,MED-2985,MED-2986,MED-2987,MED-2988,MED-2989,MED-4319,"
     ]
    }
   ],
   "source": [
    "for qid, query in ms_train_queries.items():\n",
    "    if \"phytat\" in query.lower():\n",
    "        print(qid ,query)\n",
    "        \n",
    "for did, doc in corpus.items():\n",
    "    text = doc[\"title\"] + \" \" + doc[\"text\"]\n",
    "    if \"phytat\" in text.lower():\n",
    "        print(did, end=\",\")"
   ]
  },
  {
   "cell_type": "code",
   "execution_count": 24,
   "id": "a7efed26",
   "metadata": {},
   "outputs": [
    {
     "name": "stdout",
     "output_type": "stream",
     "text": [
      "150 8841823\n",
      "10.984368340976252\n",
      "5.712907382433201\n"
     ]
    }
   ],
   "source": [
    "print(ms_df[\"phytat\"], ms_N)\n",
    "print(np.log((ms_N / ms_df[\"phytat\"])))\n",
    "print(np.log((len(corpus)/df[\"phytat\"])))"
   ]
  },
  {
   "cell_type": "code",
   "execution_count": 25,
   "id": "f62bb496",
   "metadata": {},
   "outputs": [
    {
     "data": {
      "text/plain": [
       "['probiot']"
      ]
     },
     "execution_count": 25,
     "metadata": {},
     "output_type": "execute_result"
    }
   ],
   "source": [
    "tks[\"bm25\"](\"probiotics\")"
   ]
  },
  {
   "cell_type": "code",
   "execution_count": 26,
   "id": "2afc7167",
   "metadata": {},
   "outputs": [
    {
     "name": "stdout",
     "output_type": "stream",
     "text": [
      "3167 8841823 0.00035818405322069895\n",
      "27 3633 0.007431874483897605\n",
      "7.934463588533868\n",
      "4.901977166216873\n"
     ]
    }
   ],
   "source": [
    "print(ms_df[\"probiot\"], ms_N, ms_df[\"probiot\"] / ms_N)\n",
    "print(df[\"probiot\"], N, df[\"probiot\"] / N)\n",
    "print(np.log((ms_N / ms_df[\"probiot\"])))\n",
    "print(np.log((len(corpus)/df[\"probiot\"])))"
   ]
  },
  {
   "cell_type": "code",
   "execution_count": null,
   "id": "fe968395",
   "metadata": {},
   "outputs": [],
   "source": [
    "print(len(ms_df))\n",
    "i_ms_phytat = sorted(ms_df.values()).index(ms_df[\"phytat\"])\n",
    "i_phytat = sorted(df.values()).index(df[\"phytat\"])\n",
    "print(i_ms_phytat, i_ms_phytat / len(ms_df))\n",
    "print(i_phytat, i_phytat / len(df))"
   ]
  },
  {
   "cell_type": "code",
   "execution_count": null,
   "id": "e719d9f5",
   "metadata": {},
   "outputs": [],
   "source": [
    "idf_val = np.unique([round(v, 2) for k, v in ms_idf.items()])\n",
    "list(idf_val).index(round(ms_idf[\"probiot\"], 2)) / len(idf_val)"
   ]
  },
  {
   "cell_type": "code",
   "execution_count": null,
   "id": "28e0344a",
   "metadata": {},
   "outputs": [],
   "source": [
    "q100, q75, q50, q25, q10, q0 = np.percentile(list(ms_idf.values()), [100, 75, 50, 25, 10, 0], interpolation=\"nearest\")\n",
    "s_ms_idf = sorted(ms_idf.values())\n",
    "percentile = [int(len(ms_idf) * p) for p in [0.001, 0.05, 0.1, 0.25, 0.5, 0.75, 1]]\n",
    "print([s_ms_idf[p-1] for p in percentile])"
   ]
  },
  {
   "cell_type": "code",
   "execution_count": null,
   "id": "82f21da8",
   "metadata": {},
   "outputs": [],
   "source": [
    "all_query_term = set()\n",
    "for query in queries.values():\n",
    "    t_query = analyzer.analyze(query)\n",
    "    all_query_term |= set(t_query)\n",
    "    \n",
    "index_corpus = defaultdict(list)\n",
    "for cid, doc in corpus.items():\n",
    "    text = doc[\"title\"] + \" \" + doc[\"text\"]\n",
    "    t_doc = analyzer.analyze(text)\n",
    "    for t in set(t_doc):\n",
    "        index_corpus[t].append(cid)"
   ]
  },
  {
   "cell_type": "code",
   "execution_count": null,
   "id": "1279a62e",
   "metadata": {},
   "outputs": [],
   "source": [
    "median_idf = np.median([v for t, v in idf.items() if t in all_query_term] )\n",
    "q75, q25 = np.percentile(list(idf.values()), [75 ,25])\n",
    "\n",
    "rsj_u = calc_rsj(index_corpus, queries, qrels, N)\n",
    "mq75, mq25 = np.percentile([v for qid, term_value in rsj_u.items() for t, v in term_value.items()], [75, 25])\n",
    "print(median_idf, q75, q25)\n",
    "print(mq75, mq25)\n",
    "\n",
    "bin_rsj_u = {}\n",
    "for t in idf:\n",
    "    for qid, rsj_uq in rsj_u.items():\n",
    "        if qid not in bin_rsj_u:\n",
    "            bin_rsj_u[qid] = {}\n",
    "        if t not in rsj_uq:\n",
    "            bin_rsj_u[qid][t] = \"OOV\"\n",
    "            continue\n",
    "        if idf[t] < median_idf:\n",
    "#             bin_rsj_u[qid][t] = \"LowIDF\"\n",
    "            if rsj_uq[t] > mq75:\n",
    "                bin_rsj_u[qid][t] = \"HighRSJ:LowIDF\"\n",
    "            else:\n",
    "                bin_rsj_u[qid][t] = \"LowRSJ:LowIDF\"\n",
    "        else:\n",
    "#             bin_rsj_u[qid][t] = \"HighIDF\"\n",
    "            if rsj_uq[t] > mq75:\n",
    "                bin_rsj_u[qid][t] = \"HighRSJ:HighIDF\"\n",
    "            else:\n",
    "                bin_rsj_u[qid][t] = \"LowRSJ:HighIDF\""
   ]
  },
  {
   "cell_type": "code",
   "execution_count": null,
   "id": "3cf41bb7",
   "metadata": {},
   "outputs": [],
   "source": [
    "high_rsj_high_idf = set()\n",
    "\n",
    "\n",
    "for qid, rsj_uq in bin_rsj_u.items():\n",
    "    for t, bin_ in rsj_uq.items():\n",
    "        if bin_ == \"HighRSJ:HighIDF\":\n",
    "            high_rsj_high_idf.add(t)"
   ]
  },
  {
   "cell_type": "code",
   "execution_count": null,
   "id": "ccb19d01",
   "metadata": {},
   "outputs": [],
   "source": [
    "def display(corpus, query, result_qid, qrel_qid, analyzer, top_k, target_term, idf):\n",
    "    sorted_did_score = sorted(result_qid.items(), key=lambda x: -x[1])[:top_k]\n",
    "    t_query = analyzer.analyze(query)\n",
    "    domain_term = []\n",
    "    for t in t_query:\n",
    "        if t in target_term:\n",
    "            domain_term.append(t)\n",
    "            \n",
    "    if not domain_term or len(t_query) < 2:\n",
    "        return\n",
    "    \n",
    "    domain_term = {t:round(idf[t], 2) for t in domain_term if t in idf}\n",
    "            \n",
    "    print(f\"query: {query}, domain_term: {domain_term}\")\n",
    "    for i, (did, score) in enumerate(sorted_did_score):\n",
    "        qrel = qrel_qid.get(did, -1)\n",
    "        if qrel > 0 or i == 0:\n",
    "            print(f\"rank: {i+1}, qrel: {qrel}, did: {did}\")\n",
    "            line = corpus[did]\n",
    "            text = line[\"title\"] + \" \" + line[\"text\"]\n",
    "            print(text)"
   ]
  },
  {
   "cell_type": "code",
   "execution_count": null,
   "id": "efaf8e71",
   "metadata": {},
   "outputs": [],
   "source": [
    "top_k = 10\n",
    "for qid in da_sup.index:\n",
    "    query = queries[qid]\n",
    "    print(f\"===================={qid}===================\")\n",
    "    print(da_sup.loc[qid,:])\n",
    "    for model in result_path.keys():\n",
    "        print(f\"--------------{model}----------------\")  \n",
    "        if model != \"bm25\":\n",
    "            tk_query = tks[model].tokenize(query)\n",
    "        else:\n",
    "            tk_query = tks[model](query)\n",
    "        q_idfs = {t: round(idf_tk[model][t], 2) for t in tk_query if t in idf_tk[model]}\n",
    "        print(tk_query, q_idfs)\n",
    "        if model != \"bm25\":\n",
    "            result_qid = list(all_results[model].values())[0][qid]\n",
    "        else:\n",
    "            try:\n",
    "                result_qid = all_results[model][qid]\n",
    "            except:\n",
    "                qrel_qid = qrels[qid]\n",
    "                display(corpus, query, result_qid, qrel_qid, analyzer, top_k, high_rsj_high_idf, idf)\n",
    "                continue\n",
    "        qrel_qid = qrels[qid]\n",
    "        display(corpus, query, result_qid, qrel_qid, analyzer, top_k, high_rsj_high_idf, idf)"
   ]
  },
  {
   "cell_type": "markdown",
   "id": "17b01a17",
   "metadata": {},
   "source": [
    "# Actual Vector"
   ]
  },
  {
   "cell_type": "code",
   "execution_count": 29,
   "id": "e7d3ee1b",
   "metadata": {},
   "outputs": [],
   "source": [
    "def analysis(model_name, qid, all_results, idf, model_type = \"idf\", top_k = 10):\n",
    "    def encode_vec(model, query, e_query, text):\n",
    "        tok_query = model.tokenizer.tokenize(query)\n",
    "        tok_text = model.tokenizer.tokenize(text)\n",
    "        t_text = model.tokenizer(text, max_length=512, return_tensors=\"pt\")\n",
    "        with torch.no_grad():\n",
    "            e_text = model.encode(**t_text)\n",
    "            print(e_query.shape, e_text.shape)\n",
    "            if model_type == \"idf\":\n",
    "                # match_scores = torch.log(1 + e_query * e_text) * idf\n",
    "                match_scores = e_query * e_text * idf\n",
    "            else:\n",
    "                # match_scores = torch.log(1 + e_query * e_text)\n",
    "                match_scores = e_query * e_text\n",
    "            wq, qids = torch.topk(e_query, k=20)\n",
    "            wd, dids = torch.topk(e_text, k=50)\n",
    "            score, ids = torch.topk(match_scores, k=20)\n",
    "            ids = ids[0][score[0] > 0.01]\n",
    "            score = score[0][score[0] > 0.01]\n",
    "            tqids = model.tokenizer.convert_ids_to_tokens(qids[0])\n",
    "            tdids = model.tokenizer.convert_ids_to_tokens(dids[0])\n",
    "            tids = model.tokenizer.convert_ids_to_tokens(ids)\n",
    "        print([round(s, 2) for s in score.tolist()])\n",
    "        print(tids)\n",
    "        print([round(s, 2) for s in wq[0][wq[0] > 0.1].tolist()])\n",
    "        display(HTML(\" \".join([str(t) if t not in tok_query else f'<font color=\"red\">{str(t)}</font>' for t in tqids])))\n",
    "        print([round(s, 2) for s in wd[0][wd[0] > 0.1].tolist()])\n",
    "        display_text = []\n",
    "        for t in tdids:\n",
    "            if t in tok_query and t in tok_text:\n",
    "                display_text.append(f'<font color=\"purple\">{t}</font>')\n",
    "            elif t in tok_query and t not in tok_text:\n",
    "                display_text.append(f'<font color=\"blue\">{t}</font>')\n",
    "            elif t in tqids and t in tok_text:\n",
    "                display_text.append(f'<font color=\"green\">{t}</font>')\n",
    "            elif t in tqids and t not in tok_text:\n",
    "                display_text.append(f'<font color=\"orange\">{t}</font>')\n",
    "            elif t not in tok_text:\n",
    "                display_text.append(f'<font color=\"red\">{t}</font>')\n",
    "            else:\n",
    "                display_text.append(t)\n",
    "        display(HTML(\" \".join(display_text)))\n",
    "        # print(tdids)\n",
    "    \n",
    "    model_path = model_pathes[model_name]\n",
    "    query = queries[qid]\n",
    "    top_10_doc = sorted(all_results[model_name][model_type][qid].items(), key=lambda x: -x[1])[:top_k]\n",
    "    model = Splade(model_path)\n",
    "    t_query = model.tokenizer(query, max_length=512, return_tensors=\"pt\")\n",
    "    print(qid, query)\n",
    "    with torch.no_grad():    \n",
    "        e_query = model.encode(**t_query)\n",
    "    for i, (cid, score) in enumerate(top_10_doc):\n",
    "        try:\n",
    "            qrel = qrels[qid][cid]\n",
    "        except:\n",
    "            qrel = \"not-eval\"\n",
    "        print(\"-------------------\")\n",
    "        print(i, cid, score, qrel)\n",
    "        text = corpus[cid][\"title\"] + \" \" + corpus[cid][\"text\"]\n",
    "        encode_vec(model, query, e_query, text)\n",
    "        \n",
    "    del model\n",
    "              "
   ]
  },
  {
   "cell_type": "code",
   "execution_count": 30,
   "id": "03668b99",
   "metadata": {},
   "outputs": [],
   "source": [
    "sys.path.append(os.pardir)\n",
    "from splade_vocab.models  import Splade, BEIRSpladeModel, BEIRSpladeModelIDF\n",
    "from pprint import pprint\n",
    "from IPython.display import display, HTML\n"
   ]
  },
  {
   "cell_type": "code",
   "execution_count": 42,
   "id": "40ec0475",
   "metadata": {},
   "outputs": [
    {
     "name": "stdout",
     "output_type": "stream",
     "text": [
      "path /home/gaia_data/iida.h/BEIR/model/pubmed_abst/bert-base-uncased/splade_model/raw/remove/71694/distilSplade_0.1_0.08_-groups-gcb50243-iida.h-BEIR-model-pubmed_abst-bert-base-uncased-mlm_model-raw-remove--71694-batch_size_40-2022-04-12_08-52-34/\n"
     ]
    },
    {
     "name": "stderr",
     "output_type": "stream",
     "text": [
      "Truncation was not explicitly activated but `max_length` is provided a specific value, please use `truncation=True` to explicitly truncate examples to max length. Defaulting to 'longest_first' truncation strategy. If you encode pairs of sequences (GLUE-style) with the tokenizer you can select this strategy more precisely by providing a specific strategy to `truncation`.\n"
     ]
    },
    {
     "name": "stdout",
     "output_type": "stream",
     "text": [
      "PLAIN-2620 Phytates for the Treatment of Cancer\n",
      "-------------------\n",
      "0 MED-2578 18.061906814575195 2\n",
      "torch.Size([1, 71694]) torch.Size([1, 71694])\n",
      "[4.04, 3.73, 2.37, 2.33, 2.0, 0.77, 0.61, 0.51, 0.49, 0.42, 0.19, 0.13, 0.13, 0.09, 0.09, 0.08, 0.02, 0.02, 0.02]\n",
      "['cancer', 'phytate', 'phyto', 'carcinoma', 'ph', '##yt', 'phos', 'treatment', 'drug', 'help', 'is', 'benefit', 'contain', 'phyt', 'effect', 'chemical', 'nutrient', 'vitamin', 'medication']\n",
      "[2.43, 2.33, 1.88, 1.72, 1.72, 1.53, 1.0, 0.94, 0.83, 0.83, 0.82, 0.76, 0.76, 0.71, 0.63, 0.54, 0.45, 0.42, 0.34, 0.33]\n"
     ]
    },
    {
     "data": {
      "text/html": [
       "<font color=\"red\">cancer</font> <font color=\"red\">phytate</font> phyto carcinoma <font color=\"red\">treatment</font> ph help <font color=\"red\">for</font> drug treatments <font color=\"red\">##s</font> ##yt cure phos used treat use benefit dose is"
      ],
      "text/plain": [
       "<IPython.core.display.HTML object>"
      ]
     },
     "metadata": {},
     "output_type": "display_data"
    },
    {
     "name": "stdout",
     "output_type": "stream",
     "text": [
      "[1.92, 1.9, 1.75, 1.67, 1.66, 1.61, 1.6, 1.6, 1.51, 1.48, 1.45, 1.44, 1.44, 1.43, 1.35, 1.35, 1.31, 1.26, 1.24, 1.2, 1.07, 1.05, 1.05, 1.04, 1.03, 1.02, 1.01, 1.01, 0.99, 0.99, 0.94, 0.93, 0.92, 0.92, 0.9, 0.89, 0.89, 0.88, 0.88, 0.86, 0.86, 0.86, 0.86, 0.85, 0.84, 0.84, 0.84, 0.84, 0.83, 0.81]\n"
     ]
    },
    {
     "data": {
      "text/html": [
       "fiber phytic inositol <font color=\"purple\">cancer</font> colonic <font color=\"red\">colon</font> <font color=\"purple\">phytate</font> suppression ##phate <font color=\"red\">suppress</font> acid bowel iron <font color=\"red\">fibers</font> <font color=\"orange\">carcinoma</font> dietary <font color=\"orange\">ph</font> <font color=\"orange\">phyto</font> radical incidence <font color=\"red\">diet</font> hydroxyl <font color=\"red\">radicals</font> <font color=\"red\">hydroxy</font> correlated content hexap <font color=\"orange\">##yt</font> <font color=\"red\">##ytic</font> <font color=\"red\">phagocytic</font> inhibitor inversely <font color=\"red\">phytase</font> <font color=\"red\">physic</font> <font color=\"red\">myo</font> constituents <font color=\"red\">correlation</font> <font color=\"red\">hexa</font> always <font color=\"orange\">phos</font> related frequency <font color=\"red\">phosphate</font> <font color=\"red\">fibre</font> <font color=\"red\">erythritol</font> ##olo <font color=\"red\">phyt</font> abundant inflammatory high"
      ],
      "text/plain": [
       "<IPython.core.display.HTML object>"
      ]
     },
     "metadata": {},
     "output_type": "display_data"
    },
    {
     "name": "stdout",
     "output_type": "stream",
     "text": [
      "-------------------\n",
      "1 MED-2435 15.862707138061523 not-eval\n",
      "torch.Size([1, 71694]) torch.Size([1, 71694])\n",
      "[3.86, 2.45, 2.13, 1.17, 0.98, 0.87, 0.68, 0.54, 0.48, 0.45, 0.36, 0.35, 0.34, 0.26, 0.23, 0.23, 0.15, 0.12, 0.06, 0.05]\n",
      "['cancer', 'phyto', 'carcinoma', 'phytate', 'treatment', 'ph', 'help', 'drug', '##yt', 'used', 'for', 'treatments', 'cure', 'benefit', 'use', 'is', 'treat', 'effect', 'chemical', 'medication']\n",
      "[2.43, 2.33, 1.88, 1.72, 1.72, 1.53, 1.0, 0.94, 0.83, 0.83, 0.82, 0.76, 0.76, 0.71, 0.63, 0.54, 0.45, 0.42, 0.34, 0.33]\n"
     ]
    },
    {
     "data": {
      "text/html": [
       "<font color=\"red\">cancer</font> <font color=\"red\">phytate</font> phyto carcinoma <font color=\"red\">treatment</font> ph help <font color=\"red\">for</font> drug treatments <font color=\"red\">##s</font> ##yt cure phos used treat use benefit dose is"
      ],
      "text/plain": [
       "<IPython.core.display.HTML object>"
      ]
     },
     "metadata": {},
     "output_type": "display_data"
    },
    {
     "name": "stdout",
     "output_type": "stream",
     "text": [
      "[1.8, 1.74, 1.59, 1.56, 1.56, 1.55, 1.4, 1.34, 1.31, 1.29, 1.23, 1.19, 1.18, 1.15, 1.15, 1.11, 1.09, 1.06, 1.05, 1.0, 0.99, 0.99, 0.98, 0.98, 0.97, 0.96, 0.95, 0.91, 0.9, 0.89, 0.87, 0.83, 0.83, 0.82, 0.8, 0.79, 0.76, 0.76, 0.76, 0.76, 0.75, 0.74, 0.74, 0.73, 0.73, 0.73, 0.73, 0.72, 0.71, 0.71]\n"
     ]
    },
    {
     "data": {
      "text/html": [
       "phytochemicals breast <font color=\"purple\">cancer</font> <font color=\"red\">phytochemical</font> chemoprevention dietary natural <font color=\"red\">chemopreventive</font> <font color=\"orange\">phyto</font> toxic <font color=\"orange\">carcinoma</font> <font color=\"red\">compound</font> <font color=\"red\">phytoc</font> preventive <font color=\"red\">diet</font> compounds women reverse anticancer toxicity inhibit <font color=\"red\">prevention</font> cancers <font color=\"red\">death</font> <font color=\"red\">##oche</font> <font color=\"red\">anti</font> <font color=\"red\">detoxification</font> leading daily apoptosis <font color=\"red\">breasts</font> <font color=\"red\">chemo</font> <font color=\"red\">detox</font> active <font color=\"red\">us</font> effective mechanistic tested therapeutic <font color=\"red\">causes</font> <font color=\"red\">##pre</font> related <font color=\"red\">carcinogenic</font> transduction <font color=\"red\">die</font> products carcinogenesis antioxidant <font color=\"green\">used</font> cause"
      ],
      "text/plain": [
       "<IPython.core.display.HTML object>"
      ]
     },
     "metadata": {},
     "output_type": "display_data"
    },
    {
     "name": "stdout",
     "output_type": "stream",
     "text": [
      "-------------------\n",
      "2 MED-2988 14.851570129394531 2\n",
      "torch.Size([1, 71694]) torch.Size([1, 71694])\n",
      "[3.9, 2.47, 2.38, 1.64, 0.78, 0.66, 0.66, 0.61, 0.36, 0.3, 0.3, 0.19, 0.17, 0.11, 0.08, 0.07, 0.06, 0.05, 0.03, 0.02]\n",
      "['phytate', 'phyto', 'ph', 'cancer', 'carcinoma', '##yt', 'phos', 'help', 'drug', 'benefit', 'is', 'contain', 'effect', 'chemical', 'phyt', 'for', '##s', 'use', 'vitamin', 'used']\n",
      "[2.43, 2.33, 1.88, 1.72, 1.72, 1.53, 1.0, 0.94, 0.83, 0.83, 0.82, 0.76, 0.76, 0.71, 0.63, 0.54, 0.45, 0.42, 0.34, 0.33]\n"
     ]
    },
    {
     "data": {
      "text/html": [
       "<font color=\"red\">cancer</font> <font color=\"red\">phytate</font> phyto carcinoma <font color=\"red\">treatment</font> ph help <font color=\"red\">for</font> drug treatments <font color=\"red\">##s</font> ##yt cure phos used treat use benefit dose is"
      ],
      "text/plain": [
       "<IPython.core.display.HTML object>"
      ]
     },
     "metadata": {},
     "output_type": "display_data"
    },
    {
     "name": "stdout",
     "output_type": "stream",
     "text": [
      "[2.02, 1.84, 1.68, 1.67, 1.65, 1.56, 1.51, 1.42, 1.36, 1.35, 1.34, 1.32, 1.32, 1.28, 1.26, 1.23, 1.2, 1.17, 1.17, 1.16, 1.16, 1.07, 1.06, 1.05, 1.05, 1.02, 1.01, 0.99, 0.98, 0.94, 0.94, 0.94, 0.93, 0.93, 0.92, 0.92, 0.92, 0.9, 0.9, 0.87, 0.87, 0.86, 0.86, 0.83, 0.82, 0.81, 0.81, 0.8, 0.79, 0.78]\n"
     ]
    },
    {
     "data": {
      "text/html": [
       "phytic legume acid <font color=\"purple\">phytate</font> legumes <font color=\"orange\">ph</font> phytase chelating inositol reactive phosphate <font color=\"red\">anti</font> <font color=\"orange\">phyto</font> ##rien hydrolysis phosphoric <font color=\"red\">che</font> phosphates role antin ##ut ##rit beneficial <font color=\"red\">phagocytic</font> <font color=\"red\">##ytic</font> cleavage <font color=\"red\">seed</font> <font color=\"red\">physic</font> ##phate mineral function strong nonenzymatic minerals seeds <font color=\"orange\">phos</font> effect <font color=\"red\">acidic</font> <font color=\"green\">is</font> <font color=\"orange\">##yt</font> present enzymes associated <font color=\"red\">hydrolyzed</font> phosphorylation effects complex proteins <font color=\"red\">binding</font> ##ional"
      ],
      "text/plain": [
       "<IPython.core.display.HTML object>"
      ]
     },
     "metadata": {},
     "output_type": "display_data"
    },
    {
     "name": "stdout",
     "output_type": "stream",
     "text": [
      "-------------------\n",
      "3 MED-4543 14.681050300598145 1\n",
      "torch.Size([1, 71694]) torch.Size([1, 71694])\n",
      "[3.73, 2.01, 1.99, 1.09, 1.08, 0.62, 0.62, 0.48, 0.36, 0.35, 0.33, 0.31, 0.25, 0.24, 0.22, 0.22, 0.22, 0.19, 0.09, 0.08]\n",
      "['cancer', 'ph', 'carcinoma', 'treatment', 'phyto', 'help', 'drug', 'used', 'is', 'cure', 'for', 'phos', 'treatments', 'dose', 'use', 'effect', 'benefit', 'treat', 'medication', 'contain']\n",
      "[2.43, 2.33, 1.88, 1.72, 1.72, 1.53, 1.0, 0.94, 0.83, 0.83, 0.82, 0.76, 0.76, 0.71, 0.63, 0.54, 0.45, 0.42, 0.34, 0.33]\n"
     ]
    },
    {
     "data": {
      "text/html": [
       "<font color=\"red\">cancer</font> <font color=\"red\">phytate</font> phyto carcinoma <font color=\"red\">treatment</font> ph help <font color=\"red\">for</font> drug treatments <font color=\"red\">##s</font> ##yt cure phos used treat use benefit dose is"
      ],
      "text/plain": [
       "<IPython.core.display.HTML object>"
      ]
     },
     "metadata": {},
     "output_type": "display_data"
    },
    {
     "name": "stdout",
     "output_type": "stream",
     "text": [
      "[2.17, 1.61, 1.58, 1.58, 1.57, 1.56, 1.54, 1.53, 1.52, 1.45, 1.45, 1.43, 1.42, 1.42, 1.42, 1.33, 1.32, 1.3, 1.24, 1.19, 1.19, 1.18, 1.17, 1.16, 1.16, 1.15, 1.15, 1.15, 1.14, 1.14, 1.14, 1.13, 1.11, 1.1, 1.1, 1.07, 1.06, 1.04, 1.03, 1.03, 1.03, 1.03, 1.03, 1.02, 1.01, 0.99, 0.98, 0.98, 0.98, 0.96]\n"
     ]
    },
    {
     "data": {
      "text/html": [
       "pe embl antitumour ##hus ##ant ##ica <font color=\"purple\">cancer</font> linn phyll <font color=\"red\">em</font> aqueous extract <font color=\"red\">lin</font> apoptosis mb <font color=\"red\">pes</font> <font color=\"orange\">ph</font> 231 anti invasion microg tpa invasiveness fruit induction p <font color=\"orange\">carcinoma</font> <font color=\"red\">effect</font> matrigel anticancer dmba <font color=\"red\">apoptotic</font> <font color=\"green\">is</font> asian mouse vitro mda effects hela <font color=\"red\">md</font> a549 skin traditional ml <font color=\"red\">peo</font> cell <font color=\"red\">extraction</font> tumourigenesis <font color=\"red\">antitumor</font> <font color=\"red\">inhibit</font>"
      ],
      "text/plain": [
       "<IPython.core.display.HTML object>"
      ]
     },
     "metadata": {},
     "output_type": "display_data"
    },
    {
     "name": "stdout",
     "output_type": "stream",
     "text": [
      "-------------------\n",
      "4 MED-4650 14.214611053466797 not-eval\n",
      "torch.Size([1, 71694]) torch.Size([1, 71694])\n",
      "[3.54, 1.97, 1.8, 1.41, 0.84, 0.67, 0.65, 0.6, 0.51, 0.4, 0.29, 0.29, 0.25, 0.25, 0.12, 0.12, 0.11, 0.1, 0.09, 0.08]\n",
      "['cancer', 'carcinoma', 'phyto', 'treatment', 'drug', 'phytate', 'ph', 'help', 'treatments', 'is', '##yt', 'for', 'used', 'cure', 'medication', 'effect', 'treat', 'use', 'benefit', 'contain']\n",
      "[2.43, 2.33, 1.88, 1.72, 1.72, 1.53, 1.0, 0.94, 0.83, 0.83, 0.82, 0.76, 0.76, 0.71, 0.63, 0.54, 0.45, 0.42, 0.34, 0.33]\n"
     ]
    },
    {
     "data": {
      "text/html": [
       "<font color=\"red\">cancer</font> <font color=\"red\">phytate</font> phyto carcinoma <font color=\"red\">treatment</font> ph help <font color=\"red\">for</font> drug treatments <font color=\"red\">##s</font> ##yt cure phos used treat use benefit dose is"
      ],
      "text/plain": [
       "<IPython.core.display.HTML object>"
      ]
     },
     "metadata": {},
     "output_type": "display_data"
    },
    {
     "name": "stdout",
     "output_type": "stream",
     "text": [
      "[2.29, 1.76, 1.61, 1.49, 1.48, 1.46, 1.43, 1.41, 1.4, 1.33, 1.31, 1.28, 1.28, 1.28, 1.27, 1.22, 1.21, 1.21, 1.17, 1.15, 1.14, 1.14, 1.13, 1.09, 1.07, 1.06, 1.05, 1.05, 1.04, 1.04, 1.03, 1.02, 1.01, 1.0, 1.0, 1.0, 0.99, 0.97, 0.97, 0.97, 0.96, 0.95, 0.95, 0.93, 0.9, 0.88, 0.86, 0.85, 0.84, 0.84]\n"
     ]
    },
    {
     "data": {
      "text/html": [
       "aromatase breast phytochemicals cyp19 <font color=\"red\">ovarian</font> <font color=\"purple\">cancer</font> enzyme <font color=\"red\">phytochemical</font> situ p450 cytochrome menopausal inhibit suppression <font color=\"red\">aroma</font> <font color=\"green\">is</font> natural <font color=\"red\">cy</font> <font color=\"red\">reductase</font> adjuvant <font color=\"orange\">carcinoma</font> <font color=\"red\">suppress</font> hormone limiting estrogen <font color=\"red\">phytoc</font> <font color=\"red\">cyp17</font> <font color=\"red\">cyp</font> <font color=\"red\">androgen</font> chemopreventive inhibitory <font color=\"red\">inhibitor</font> <font color=\"orange\">drug</font> <font color=\"red\">limit</font> responsive <font color=\"red\">cyp19a1</font> production <font color=\"red\">enzymes</font> dependent rate <font color=\"orange\">phyto</font> prevention <font color=\"red\">anatase</font> drugs <font color=\"red\">compound</font> inhibition compounds <font color=\"red\">extract</font> <font color=\"red\">hormonal</font> targeting"
      ],
      "text/plain": [
       "<IPython.core.display.HTML object>"
      ]
     },
     "metadata": {},
     "output_type": "display_data"
    }
   ],
   "source": [
    "model_name = \"mlm-splade-71694\"\n",
    "this_idf = idf_tk[model_name]\n",
    "idf_vec = torch.tensor([this_idf[k] if k  in this_idf else 1 for k, v in sorted(tks[model_name].vocab.items(), key=lambda x: x[1])])\n",
    "analysis(model_name, \"PLAIN-2620\", all_results, idf_vec, \"org\", 5)"
   ]
  },
  {
   "cell_type": "code",
   "execution_count": 44,
   "id": "d9c0bc19-ec60-42c5-9d39-a93b30e2fc26",
   "metadata": {},
   "outputs": [
    {
     "name": "stdout",
     "output_type": "stream",
     "text": [
      "path /home/gaia_data/iida.h/BEIR/model/msmarco/splade/distilSplade_0.1_0.08_bert-base-uncased-batch_size_40-2022-05-01_12-37-20\n"
     ]
    },
    {
     "name": "stderr",
     "output_type": "stream",
     "text": [
      "Truncation was not explicitly activated but `max_length` is provided a specific value, please use `truncation=True` to explicitly truncate examples to max length. Defaulting to 'longest_first' truncation strategy. If you encode pairs of sequences (GLUE-style) with the tokenizer you can select this strategy more precisely by providing a specific strategy to `truncation`.\n"
     ]
    },
    {
     "name": "stdout",
     "output_type": "stream",
     "text": [
      "PLAIN-2620 Phytates for the Treatment of Cancer\n",
      "-------------------\n",
      "0 MED-4650 20.422813415527344 not-eval\n",
      "torch.Size([1, 30522]) torch.Size([1, 30522])\n",
      "[5.1, 4.47, 2.64, 2.56, 2.24, 1.34, 0.82, 0.44, 0.31, 0.17, 0.14, 0.11, 0.08, 0.02]\n",
      "['cancer', '##yt', 'ph', 'tumor', 'treatment', 'for', 'drug', 'therapy', 'function', 'hormone', 'used', 'medication', 'benefit', 'biology']\n",
      "[2.86, 2.84, 2.26, 2.0, 1.87, 1.83, 1.72, 1.39, 0.78, 0.74, 0.54, 0.46, 0.45, 0.42, 0.36, 0.27, 0.26, 0.26, 0.24, 0.22]\n"
     ]
    },
    {
     "data": {
      "text/html": [
       "<font color=\"red\">cancer</font> <font color=\"red\">##yt</font> <font color=\"red\">treatment</font> <font color=\"red\">ph</font> tumor ##ate <font color=\"red\">for</font> <font color=\"red\">##ates</font> drug specialist function used therapy species medical are medication receptor benefit <font color=\"red\">of</font>"
      ],
      "text/plain": [
       "<IPython.core.display.HTML object>"
      ]
     },
     "metadata": {},
     "output_type": "display_data"
    },
    {
     "name": "stdout",
     "output_type": "stream",
     "text": [
      "[2.29, 2.04, 2.04, 1.9, 1.79, 1.79, 1.79, 1.64, 1.63, 1.62, 1.57, 1.56, 1.54, 1.41, 1.39, 1.37, 1.37, 1.34, 1.32, 1.3, 1.25, 1.22, 1.22, 1.13, 1.11, 1.11, 1.1, 1.08, 1.05, 1.02, 1.02, 1.02, 0.99, 0.99, 0.98, 0.96, 0.95, 0.95, 0.95, 0.94, 0.93, 0.91, 0.91, 0.89, 0.87, 0.86, 0.84, 0.81, 0.81, 0.8]\n"
     ]
    },
    {
     "data": {
      "text/html": [
       "aroma ##tase breast situ ##oche <font color=\"red\">smell</font> <font color=\"purple\">cancer</font> cy enzyme ##chrome <font color=\"purple\">##yt</font> ##45 ##19 inhibit natural inhibitor <font color=\"green\">tumor</font> ##mic <font color=\"purple\">ph</font> <font color=\"red\">limit</font> ##opa ##vant inhibition hormone prevention bio strategy ##rogen <font color=\"orange\">drug</font> ##p p est <font color=\"purple\">treatment</font> <font color=\"green\">therapy</font> limiting ##0 ##logic ##ju ##to <font color=\"red\">##al</font> <font color=\"red\">target</font> <font color=\"red\">purpose</font> ##usa suppression <font color=\"red\">enzymes</font> <font color=\"red\">19</font> responsive production targeting <font color=\"red\">suppress</font>"
      ],
      "text/plain": [
       "<IPython.core.display.HTML object>"
      ]
     },
     "metadata": {},
     "output_type": "display_data"
    },
    {
     "name": "stdout",
     "output_type": "stream",
     "text": [
      "-------------------\n",
      "1 MED-2435 20.205482482910156 not-eval\n",
      "torch.Size([1, 30522]) torch.Size([1, 30522])\n",
      "[5.5, 4.63, 2.83, 2.72, 1.5, 1.33, 0.44, 0.4, 0.33, 0.26, 0.15, 0.04, 0.03, 0.03]\n",
      "['cancer', '##yt', 'ph', 'tumor', 'treatment', 'for', 'therapy', 'drug', 'used', 'function', 'benefit', 'medical', 'of', 'medication']\n",
      "[2.86, 2.84, 2.26, 2.0, 1.87, 1.83, 1.72, 1.39, 0.78, 0.74, 0.54, 0.46, 0.45, 0.42, 0.36, 0.27, 0.26, 0.26, 0.24, 0.22]\n"
     ]
    },
    {
     "data": {
      "text/html": [
       "<font color=\"red\">cancer</font> <font color=\"red\">##yt</font> <font color=\"red\">treatment</font> <font color=\"red\">ph</font> tumor ##ate <font color=\"red\">for</font> <font color=\"red\">##ates</font> drug specialist function used therapy species medical are medication receptor benefit <font color=\"red\">of</font>"
      ],
      "text/plain": [
       "<IPython.core.display.HTML object>"
      ]
     },
     "metadata": {},
     "output_type": "display_data"
    },
    {
     "name": "stdout",
     "output_type": "stream",
     "text": [
      "[2.11, 1.93, 1.85, 1.63, 1.62, 1.56, 1.53, 1.46, 1.45, 1.42, 1.41, 1.39, 1.38, 1.26, 1.22, 1.22, 1.18, 1.17, 1.16, 1.12, 1.1, 1.09, 1.07, 1.07, 1.06, 1.06, 1.05, 1.04, 1.04, 1.04, 1.03, 1.01, 1.0, 1.0, 1.0, 0.99, 0.99, 0.98, 0.97, 0.96, 0.95, 0.93, 0.92, 0.91, 0.91, 0.9, 0.9, 0.89, 0.88, 0.84]\n"
     ]
    },
    {
     "data": {
      "text/html": [
       "breast <font color=\"purple\">cancer</font> ##oche <font color=\"purple\">##yt</font> ##pre dietary ##vent <font color=\"orange\">tumor</font> <font color=\"red\">compound</font> natural <font color=\"purple\">ph</font> toxic ##mic ##cer ##cino <font color=\"red\">death</font> compounds <font color=\"red\">diet</font> det ##ox potent leading ##mo <font color=\"red\">woman</font> cause reverse therapeutic anti ##tosis <font color=\"red\">chemotherapy</font> active cancers effective ##can strategies ##genesis <font color=\"orange\">therapy</font> inhibit enzymes daily women <font color=\"red\">##zine</font> <font color=\"red\">agent</font> prevent <font color=\"red\">##al</font> related immediate ##ive <font color=\"red\">strategy</font> che"
      ],
      "text/plain": [
       "<IPython.core.display.HTML object>"
      ]
     },
     "metadata": {},
     "output_type": "display_data"
    },
    {
     "name": "stdout",
     "output_type": "stream",
     "text": [
      "-------------------\n",
      "2 MED-3832 19.724517822265625 not-eval\n",
      "torch.Size([1, 30522]) torch.Size([1, 30522])\n",
      "[5.27, 5.04, 3.1, 2.38, 1.6, 1.17, 0.64, 0.26, 0.17, 0.17, 0.16, 0.15, 0.14, 0.06]\n",
      "['##yt', 'cancer', 'ph', 'tumor', 'treatment', 'for', 'drug', 'receptor', 'used', 'hormone', 'function', 'benefit', 'therapy', 'medication']\n",
      "[2.86, 2.84, 2.26, 2.0, 1.87, 1.83, 1.72, 1.39, 0.78, 0.74, 0.54, 0.46, 0.45, 0.42, 0.36, 0.27, 0.26, 0.26, 0.24, 0.22]\n"
     ]
    },
    {
     "data": {
      "text/html": [
       "<font color=\"red\">cancer</font> <font color=\"red\">##yt</font> <font color=\"red\">treatment</font> <font color=\"red\">ph</font> tumor ##ate <font color=\"red\">for</font> <font color=\"red\">##ates</font> drug specialist function used therapy species medical are medication receptor benefit <font color=\"red\">of</font>"
      ],
      "text/plain": [
       "<IPython.core.display.HTML object>"
      ]
     },
     "metadata": {},
     "output_type": "display_data"
    },
    {
     "name": "stdout",
     "output_type": "stream",
     "text": [
      "[2.06, 1.97, 1.86, 1.86, 1.76, 1.7, 1.61, 1.61, 1.57, 1.56, 1.55, 1.51, 1.49, 1.48, 1.45, 1.43, 1.34, 1.33, 1.3, 1.27, 1.22, 1.22, 1.21, 1.21, 1.19, 1.17, 1.17, 1.14, 1.13, 1.1, 1.09, 1.08, 1.05, 1.04, 1.04, 1.01, 1.01, 1.0, 0.97, 0.97, 0.93, 0.9, 0.88, 0.87, 0.87, 0.86, 0.86, 0.83, 0.82, 0.81]\n"
     ]
    },
    {
     "data": {
      "text/html": [
       "breast iso mimic <font color=\"purple\">##yt</font> <font color=\"purple\">cancer</font> li deter risk ##tro ##av <font color=\"purple\">ph</font> ##gnan ##opa rec ##mina o ##fl ##est reduce <font color=\"orange\">tumor</font> bind ##oes ##ur ##rence ##rogen <font color=\"red\">compound</font> plant ##one <font color=\"red\">hormone</font> ##gens effect intervention adverse compounds survival ##ones <font color=\"orange\">receptor</font> <font color=\"red\">##gen</font> consumption supplements ##usa <font color=\"red\">survive</font> tissue <font color=\"red\">interventions</font> <font color=\"red\">##oe</font> supplement diet <font color=\"orange\">drug</font> short receptors"
      ],
      "text/plain": [
       "<IPython.core.display.HTML object>"
      ]
     },
     "metadata": {},
     "output_type": "display_data"
    },
    {
     "name": "stdout",
     "output_type": "stream",
     "text": [
      "-------------------\n",
      "3 MED-2578 19.36952781677246 2\n",
      "torch.Size([1, 30522]) torch.Size([1, 30522])\n",
      "[5.38, 5.25, 2.97, 2.49, 2.08, 0.53, 0.4, 0.1, 0.07, 0.05, 0.03, 0.02]\n",
      "['##yt', 'cancer', 'ph', 'tumor', '##ate', 'for', 'drug', 'benefit', 'of', 'function', 'contain', 'help']\n",
      "[2.86, 2.84, 2.26, 2.0, 1.87, 1.83, 1.72, 1.39, 0.78, 0.74, 0.54, 0.46, 0.45, 0.42, 0.36, 0.27, 0.26, 0.26, 0.24, 0.22]\n"
     ]
    },
    {
     "data": {
      "text/html": [
       "<font color=\"red\">cancer</font> <font color=\"red\">##yt</font> <font color=\"red\">treatment</font> <font color=\"red\">ph</font> tumor ##ate <font color=\"red\">for</font> <font color=\"red\">##ates</font> drug specialist function used therapy species medical are medication receptor benefit <font color=\"red\">of</font>"
      ],
      "text/plain": [
       "<IPython.core.display.HTML object>"
      ]
     },
     "metadata": {},
     "output_type": "display_data"
    },
    {
     "name": "stdout",
     "output_type": "stream",
     "text": [
      "[2.27, 2.2, 2.03, 1.89, 1.84, 1.75, 1.74, 1.7, 1.55, 1.55, 1.5, 1.49, 1.45, 1.41, 1.4, 1.36, 1.34, 1.34, 1.33, 1.32, 1.28, 1.23, 1.18, 1.18, 1.15, 1.14, 1.14, 1.1, 1.1, 1.09, 1.08, 1.08, 1.05, 1.05, 1.04, 1.04, 1.04, 1.03, 1.03, 1.01, 0.96, 0.92, 0.92, 0.91, 0.9, 0.9, 0.89, 0.88, 0.88, 0.87]\n"
     ]
    },
    {
     "data": {
      "text/html": [
       "fiber ##ytic colon <font color=\"purple\">##yt</font> <font color=\"purple\">cancer</font> ##phate iron suppression <font color=\"red\">suppress</font> dietary acid <font color=\"purple\">ph</font> radical reactive ##osi incidence ##xy <font color=\"orange\">tumor</font> content ##ic inhibitor <font color=\"red\">fibre</font> hydro ##to ##cino <font color=\"red\">##ysis</font> <font color=\"green\">##ate</font> ##genesis inverse diet correlated ##onic ##xa mediated high ##col <font color=\"red\">important</font> potent ##lation bow seed generation ox <font color=\"red\">radicals</font> intra inhibition che abundant <font color=\"red\">suppressed</font> human"
      ],
      "text/plain": [
       "<IPython.core.display.HTML object>"
      ]
     },
     "metadata": {},
     "output_type": "display_data"
    },
    {
     "name": "stdout",
     "output_type": "stream",
     "text": [
      "-------------------\n",
      "4 MED-4620 18.824283599853516 not-eval\n",
      "torch.Size([1, 30522]) torch.Size([1, 30522])\n",
      "[5.42, 4.98, 2.85, 2.61, 1.24, 0.4, 0.31, 0.29, 0.27, 0.22, 0.17, 0.05, 0.01]\n",
      "['cancer', '##yt', 'ph', 'tumor', 'for', 'therapy', 'function', 'treatment', 'drug', 'species', 'benefit', 'contain', 'biology']\n",
      "[2.86, 2.84, 2.26, 2.0, 1.87, 1.83, 1.72, 1.39, 0.78, 0.74, 0.54, 0.46, 0.45, 0.42, 0.36, 0.27, 0.26, 0.26, 0.24, 0.22]\n"
     ]
    },
    {
     "data": {
      "text/html": [
       "<font color=\"red\">cancer</font> <font color=\"red\">##yt</font> <font color=\"red\">treatment</font> <font color=\"red\">ph</font> tumor ##ate <font color=\"red\">for</font> <font color=\"red\">##ates</font> drug specialist function used therapy species medical are medication receptor benefit <font color=\"red\">of</font>"
      ],
      "text/plain": [
       "<IPython.core.display.HTML object>"
      ]
     },
     "metadata": {},
     "output_type": "display_data"
    },
    {
     "name": "stdout",
     "output_type": "stream",
     "text": [
      "[2.39, 2.01, 1.92, 1.9, 1.81, 1.78, 1.75, 1.68, 1.5, 1.45, 1.42, 1.42, 1.4, 1.34, 1.31, 1.26, 1.26, 1.2, 1.16, 1.14, 1.13, 1.13, 1.12, 1.09, 1.08, 1.08, 1.08, 1.06, 1.04, 1.01, 0.99, 0.99, 0.99, 0.98, 0.98, 0.97, 0.97, 0.97, 0.96, 0.93, 0.92, 0.91, 0.9, 0.88, 0.87, 0.85, 0.83, 0.78, 0.78, 0.78]\n"
     ]
    },
    {
     "data": {
      "text/html": [
       "av ##oca ##oche <font color=\"purple\">cancer</font> ##do fruit <font color=\"purple\">##yt</font> ##tosis ##pre ##mic <font color=\"purple\">ph</font> selective <font color=\"orange\">tumor</font> sodium <font color=\"red\">extract</font> ##vent cycle reactive ##lor ##cer ##ories characteristics inhibit <font color=\"red\">nutrient</font> prevention oxygen ##op ##of arrest cal ##mo induce ap ##ive role <font color=\"red\">chemotherapy</font> cell fat <font color=\"red\">##al</font> nutrients che <font color=\"red\">vegetable</font> <font color=\"orange\">therapy</font> <font color=\"red\">characteristic</font> low vegetables consumed ##or recognized <font color=\"red\">extraction</font>"
      ],
      "text/plain": [
       "<IPython.core.display.HTML object>"
      ]
     },
     "metadata": {},
     "output_type": "display_data"
    }
   ],
   "source": [
    "model_name = 'splade'\n",
    "analysis(model_name, \"PLAIN-2620\", all_results, None, \"org\", 5)"
   ]
  },
  {
   "cell_type": "code",
   "execution_count": 43,
   "id": "1bc3fd97-59f9-46d8-9a5c-aab25a8df2ab",
   "metadata": {},
   "outputs": [
    {
     "data": {
      "text/plain": [
       "786"
      ]
     },
     "execution_count": 43,
     "metadata": {},
     "output_type": "execute_result"
    }
   ],
   "source": [
    "df[\"cancer\"]"
   ]
  },
  {
   "cell_type": "code",
   "execution_count": 37,
   "id": "8f0242fa-b3ed-4966-9c90-68c83da8ec67",
   "metadata": {},
   "outputs": [
    {
     "data": {
      "text/plain": [
       "{'text': 'Phyllanthus emblica Linn. (PE) is a medicinal fruit used in many Asian traditional medicine systems for the treatment of various diseases including cancer. The present study tested the potential anticancer effects of aqueous extract of PE in four ways: (1) against cancer cell lines, (2) in vitro apoptosis, (3) mouse skin tumourigenesis and (4) in vitro invasiveness. The PE extract at 50-100 microg/mL significantly inhibited cell growth of six human cancer cell lines, A549 (lung), HepG2 (liver), HeLa (cervical), MDA-MB-231 (breast), SK-OV3 (ovarian) and SW620 (colorectal). However, the extract was not toxic against MRC5 (normal lung fibroblast). Apoptosis in HeLa cells was also observed as PE extract caused DNA fragmentation and increased activity of caspase-3/7 and caspase-8, but not caspase-9, and up-regulation of the Fas protein indicating a death receptor-mediated mechanism of apoptosis. Treatment of PE extract on mouse skin resulted in over 50% reduction of tumour numbers and volumes in animals treated with DMBA/TPA. Lastly, 25 and 50 microg/mL of PE extract inhibited invasiveness of MDA-MB-231 cells in the in vitro Matrigel invasion assay. These results suggest P. emblica exhibits anticancer activity against selected cancer cells, and warrants further study as a possible chemopreventive and antiinvasive agent. Copyright 2010 John Wiley & Sons, Ltd.',\n",
       " 'title': 'Antitumour effects of Phyllanthus emblica L.: induction of cancer cell apoptosis and inhibition of in vivo tumour promotion and in vitro invasion o...'}"
      ]
     },
     "execution_count": 37,
     "metadata": {},
     "output_type": "execute_result"
    }
   ],
   "source": [
    "corpus['MED-4543']"
   ]
  },
  {
   "cell_type": "code",
   "execution_count": 32,
   "id": "cbc047fe-befd-4e25-bff8-2c4b75518998",
   "metadata": {},
   "outputs": [
    {
     "name": "stdout",
     "output_type": "stream",
     "text": [
      "path /home/gaia_data/iida.h/BEIR/model/pubmed_abst/bert-base-uncased/splade_model/raw/remove/71694/distilSplade_0.1_0.08_-groups-gcb50243-iida.h-BEIR-model-pubmed_abst-bert-base-uncased-mlm_model-raw-remove--71694-batch_size_40-2022-04-12_08-52-34/\n"
     ]
    },
    {
     "name": "stderr",
     "output_type": "stream",
     "text": [
      "Truncation was not explicitly activated but `max_length` is provided a specific value, please use `truncation=True` to explicitly truncate examples to max length. Defaulting to 'longest_first' truncation strategy. If you encode pairs of sequences (GLUE-style) with the tokenizer you can select this strategy more precisely by providing a specific strategy to `truncation`.\n"
     ]
    },
    {
     "name": "stdout",
     "output_type": "stream",
     "text": [
      "PLAIN-2550 Barriers to Heart Disease Prevention\n",
      "-------------------\n",
      "0 MED-2525 13.86061954498291 2\n",
      "torch.Size([1, 71694]) torch.Size([1, 71694])\n",
      "[5.19, 2.61, 1.66, 1.0, 0.94, 0.77, 0.71, 0.18, 0.17, 0.15, 0.11, 0.1, 0.07, 0.07, 0.06, 0.06, 0.05, 0.04, 0.02, 0.01]\n",
      "['heart', 'prevention', 'disease', 'risk', 'diseases', 'prevent', 'hearts', 'preventive', 'fear', 'importance', 'risks', 'treatment', 'dangerous', 'prophylaxis', 'for', 'contraindications', 'help', 'benefit', 'protect', 'because']\n",
      "[3.04, 2.5, 2.24, 1.92, 1.88, 1.29, 1.2, 1.16, 1.05, 0.82, 0.7, 0.55, 0.51, 0.51, 0.46, 0.37, 0.34, 0.3, 0.3, 0.3]\n"
     ]
    },
    {
     "data": {
      "text/html": [
       "<font color=\"red\">heart</font> <font color=\"red\">barriers</font> barrier <font color=\"red\">prevention</font> <font color=\"red\">disease</font> diseases prevent obstacles hearts risk obstacle help <font color=\"red\">to</font> preventive contraindications avoid dangerous preventable fear protect"
      ],
      "text/plain": [
       "<IPython.core.display.HTML object>"
      ]
     },
     "metadata": {},
     "output_type": "display_data"
    },
    {
     "name": "stdout",
     "output_type": "stream",
     "text": [
      "[1.97, 1.79, 1.78, 1.71, 1.67, 1.66, 1.54, 1.48, 1.46, 1.36, 1.35, 1.28, 1.28, 1.22, 1.1, 1.1, 1.08, 1.08, 1.07, 1.04, 1.02, 1.0, 0.98, 0.97, 0.97, 0.97, 0.95, 0.93, 0.9, 0.88, 0.87, 0.87, 0.87, 0.87, 0.87, 0.87, 0.87, 0.85, 0.85, 0.82, 0.82, 0.82, 0.82, 0.8, 0.79, 0.77, 0.77, 0.76, 0.76, 0.75]\n"
     ]
    },
    {
     "data": {
      "text/html": [
       "cholesterol cvd <font color=\"red\">cv</font> <font color=\"purple\">heart</font> statins <font color=\"red\">statin</font> <font color=\"red\">sterol</font> cardiovascular ldl <font color=\"purple\">prevention</font> management guidelines c <font color=\"green\">risk</font> recommended smoking major study global survey guideline <font color=\"red\">physician</font> <font color=\"red\">ld</font> density high recommendations low goal <font color=\"red\">control</font> <font color=\"purple\">disease</font> % lipoprotein panel <font color=\"red\">doctor</font> <font color=\"red\">perception</font> perceptions <font color=\"red\">risks</font> lifestyle <font color=\"red\">change</font> leading death physicians cancer <font color=\"red\">studies</font> attitudes goals <font color=\"red\">percentage</font> practice factor <font color=\"red\">level</font>"
      ],
      "text/plain": [
       "<IPython.core.display.HTML object>"
      ]
     },
     "metadata": {},
     "output_type": "display_data"
    },
    {
     "name": "stdout",
     "output_type": "stream",
     "text": [
      "-------------------\n",
      "1 MED-1679 13.617704391479492 not-eval\n",
      "torch.Size([1, 71694]) torch.Size([1, 71694])\n",
      "[4.57, 2.36, 1.6, 1.13, 0.98, 0.82, 0.33, 0.24, 0.21, 0.2, 0.17, 0.14, 0.11, 0.06, 0.05, 0.02, 0.02, 0.01]\n",
      "['heart', 'prevention', 'disease', 'risk', 'prevent', 'diseases', 'avoid', 'preventive', 'benefit', 'preventable', 'help', 'risks', 'avoidance', 'protect', 'prophylaxis', 'dangerous', 'importance', 'consideration']\n",
      "[3.04, 2.5, 2.24, 1.92, 1.88, 1.29, 1.2, 1.16, 1.05, 0.82, 0.7, 0.55, 0.51, 0.51, 0.46, 0.37, 0.34, 0.3, 0.3, 0.3]\n"
     ]
    },
    {
     "data": {
      "text/html": [
       "<font color=\"red\">heart</font> <font color=\"red\">barriers</font> barrier <font color=\"red\">prevention</font> <font color=\"red\">disease</font> diseases prevent obstacles hearts risk obstacle help <font color=\"red\">to</font> preventive contraindications avoid dangerous preventable fear protect"
      ],
      "text/plain": [
       "<IPython.core.display.HTML object>"
      ]
     },
     "metadata": {},
     "output_type": "display_data"
    },
    {
     "name": "stdout",
     "output_type": "stream",
     "text": [
      "[1.63, 1.62, 1.57, 1.54, 1.5, 1.45, 1.43, 1.41, 1.38, 1.3, 1.27, 1.23, 1.23, 1.2, 1.15, 1.15, 1.14, 1.12, 1.12, 1.1, 1.1, 1.07, 1.04, 1.03, 1.03, 1.01, 1.0, 0.98, 0.95, 0.95, 0.94, 0.91, 0.88, 0.88, 0.87, 0.86, 0.86, 0.86, 0.85, 0.85, 0.85, 0.82, 0.82, 0.82, 0.82, 0.81, 0.81, 0.8, 0.8, 0.78]\n"
     ]
    },
    {
     "data": {
      "text/html": [
       "men coronary <font color=\"red\">ch</font> chd <font color=\"purple\">heart</font> lifestyle healthy prudent <font color=\"green\">risk</font> primary factors low <font color=\"purple\">prevention</font> <font color=\"red\">factor</font> smoking lipid background <font color=\"red\">pr</font> diet modifiable reduce <font color=\"red\">risks</font> lipids <font color=\"red\">lip</font> hypertension age pressure hypercholesterolemia hazards 1986 benefits incident <font color=\"orange\">avoid</font> relative substantially burden <font color=\"red\">corona</font> middle <font color=\"red\">mena</font> among <font color=\"purple\">disease</font> lower nonusers <font color=\"orange\">prevent</font> <font color=\"red\">cholesterol</font> <font color=\"red\">elderly</font> <font color=\"red\">cv</font> confidence alcohol follow"
      ],
      "text/plain": [
       "<IPython.core.display.HTML object>"
      ]
     },
     "metadata": {},
     "output_type": "display_data"
    },
    {
     "name": "stdout",
     "output_type": "stream",
     "text": [
      "-------------------\n",
      "2 MED-728 13.514623641967773 not-eval\n",
      "torch.Size([1, 71694]) torch.Size([1, 71694])\n",
      "[4.34, 3.4, 1.8, 0.84, 0.6, 0.52, 0.46, 0.33, 0.3, 0.21, 0.18, 0.13, 0.08, 0.06, 0.05, 0.04, 0.03, 0.01]\n",
      "['barriers', 'barrier', 'prevention', 'obstacles', 'preventive', 'prevent', 'diseases', 'obstacle', 'heart', 'help', 'disease', 'benefit', 'importance', 'because', 'treatment', 'consideration', 'offer', 'contraindications']\n",
      "[3.04, 2.5, 2.24, 1.92, 1.88, 1.29, 1.2, 1.16, 1.05, 0.82, 0.7, 0.55, 0.51, 0.51, 0.46, 0.37, 0.34, 0.3, 0.3, 0.3]\n"
     ]
    },
    {
     "data": {
      "text/html": [
       "<font color=\"red\">heart</font> <font color=\"red\">barriers</font> barrier <font color=\"red\">prevention</font> <font color=\"red\">disease</font> diseases prevent obstacles hearts risk obstacle help <font color=\"red\">to</font> preventive contraindications avoid dangerous preventable fear protect"
      ],
      "text/plain": [
       "<IPython.core.display.HTML object>"
      ]
     },
     "metadata": {},
     "output_type": "display_data"
    },
    {
     "name": "stdout",
     "output_type": "stream",
     "text": [
      "[1.8, 1.74, 1.69, 1.69, 1.61, 1.52, 1.51, 1.37, 1.35, 1.31, 1.26, 1.25, 1.23, 1.18, 1.18, 1.14, 1.13, 1.12, 1.1, 1.06, 1.05, 0.98, 0.97, 0.97, 0.96, 0.93, 0.93, 0.92, 0.9, 0.89, 0.84, 0.83, 0.83, 0.81, 0.81, 0.79, 0.78, 0.78, 0.78, 0.78, 0.77, 0.76, 0.75, 0.75, 0.72, 0.72, 0.69, 0.69, 0.68, 0.68]\n"
     ]
    },
    {
     "data": {
      "text/html": [
       "ku <font color=\"purple\">barriers</font> counseling ##ner ##sh <font color=\"orange\">barrier</font> primary cited nutrition obama dietary multifaceted diet <font color=\"green\">preventive</font> care <font color=\"red\">counselor</font> <font color=\"red\">therapy</font> <font color=\"red\">multi</font> components physician attitudes delivery <font color=\"red\">nutrient</font> <font color=\"red\">doctor</font> dietitians <font color=\"blue\">prevention</font> change <font color=\"red\">dietitian</font> survey practice physicians diabetes approach key visits <font color=\"red\">provide</font> practices <font color=\"red\">medical</font> <font color=\"red\">practitioner</font> <font color=\"red\">food</font> <font color=\"red\">percentage</font> article general <font color=\"red\">attitude</font> <font color=\"orange\">obstacles</font> <font color=\"red\">visit</font> practitioners belief <font color=\"red\">diets</font> %"
      ],
      "text/plain": [
       "<IPython.core.display.HTML object>"
      ]
     },
     "metadata": {},
     "output_type": "display_data"
    },
    {
     "name": "stdout",
     "output_type": "stream",
     "text": [
      "-------------------\n",
      "3 MED-1999 12.951961517333984 not-eval\n",
      "torch.Size([1, 71694]) torch.Size([1, 71694])\n",
      "[4.24, 1.94, 1.54, 1.41, 1.06, 0.99, 0.5, 0.25, 0.21, 0.19, 0.14, 0.13, 0.13, 0.11, 0.07, 0.06, 0.04, 0.04, 0.02, 0.02]\n",
      "['heart', 'prevention', 'disease', 'prevent', 'risk', 'diseases', 'hearts', 'preventive', 'preventable', 'help', 'risks', 'benefit', 'dangerous', 'avoid', 'protect', 'treatment', 'importance', 'consequences', 'because', 'injury']\n",
      "[3.04, 2.5, 2.24, 1.92, 1.88, 1.29, 1.2, 1.16, 1.05, 0.82, 0.7, 0.55, 0.51, 0.51, 0.46, 0.37, 0.34, 0.3, 0.3, 0.3]\n"
     ]
    },
    {
     "data": {
      "text/html": [
       "<font color=\"red\">heart</font> <font color=\"red\">barriers</font> barrier <font color=\"red\">prevention</font> <font color=\"red\">disease</font> diseases prevent obstacles hearts risk obstacle help <font color=\"red\">to</font> preventive contraindications avoid dangerous preventable fear protect"
      ],
      "text/plain": [
       "<IPython.core.display.HTML object>"
      ]
     },
     "metadata": {},
     "output_type": "display_data"
    },
    {
     "name": "stdout",
     "output_type": "stream",
     "text": [
      "[1.89, 1.63, 1.47, 1.42, 1.4, 1.3, 1.29, 1.28, 1.21, 1.18, 1.17, 1.16, 1.16, 1.14, 1.13, 1.13, 1.09, 1.08, 1.08, 1.05, 1.03, 1.03, 1.02, 1.01, 1.01, 1.01, 1.01, 0.99, 0.99, 0.96, 0.95, 0.95, 0.95, 0.94, 0.94, 0.94, 0.93, 0.91, 0.89, 0.89, 0.89, 0.88, 0.86, 0.83, 0.82, 0.82, 0.82, 0.8, 0.8, 0.78]\n"
     ]
    },
    {
     "data": {
      "text/html": [
       "diabetes <font color=\"red\">diabetic</font> neuropathy 2 <font color=\"purple\">heart</font> prediabetes <font color=\"green\">risk</font> cardiovascular bariatric <font color=\"orange\">prevent</font> <font color=\"red\">kidney</font> morbidity public strategies <font color=\"red\">risks</font> kidneys stratification <font color=\"red\">sugar</font> <font color=\"red\">pre</font> associated metabolic dysregulation progression glucose coronary target <font color=\"blue\">prevention</font> clinicians update organ damage <font color=\"red\">clinic</font> prediabetic <font color=\"red\">strategy</font> type nerves <font color=\"red\">neuro</font> eyes overwhelm challenge vascular formal <font color=\"red\">clinician</font> <font color=\"red\">eye</font> <font color=\"purple\">disease</font> diagnosis equivalent complications future <font color=\"red\">insulin</font>"
      ],
      "text/plain": [
       "<IPython.core.display.HTML object>"
      ]
     },
     "metadata": {},
     "output_type": "display_data"
    },
    {
     "name": "stdout",
     "output_type": "stream",
     "text": [
      "-------------------\n",
      "4 MED-1194 12.584147453308105 not-eval\n",
      "torch.Size([1, 71694]) torch.Size([1, 71694])\n",
      "[2.63, 2.41, 1.98, 1.66, 1.44, 0.75, 0.32, 0.29, 0.29, 0.13, 0.11, 0.1, 0.1, 0.1, 0.1, 0.09, 0.04, 0.03, 0.02]\n",
      "['prevention', 'heart', 'disease', 'diseases', 'prevent', 'risk', 'help', 'preventable', 'preventive', 'avoid', 'protect', 'treatment', 'risks', 'importance', 'dangerous', 'benefit', 'prophylaxis', 'for', 'cause']\n",
      "[3.04, 2.5, 2.24, 1.92, 1.88, 1.29, 1.2, 1.16, 1.05, 0.82, 0.7, 0.55, 0.51, 0.51, 0.46, 0.37, 0.34, 0.3, 0.3, 0.3]\n"
     ]
    },
    {
     "data": {
      "text/html": [
       "<font color=\"red\">heart</font> <font color=\"red\">barriers</font> barrier <font color=\"red\">prevention</font> <font color=\"red\">disease</font> diseases prevent obstacles hearts risk obstacle help <font color=\"red\">to</font> preventive contraindications avoid dangerous preventable fear protect"
      ],
      "text/plain": [
       "<IPython.core.display.HTML object>"
      ]
     },
     "metadata": {},
     "output_type": "display_data"
    },
    {
     "name": "stdout",
     "output_type": "stream",
     "text": [
      "[1.69, 1.65, 1.61, 1.47, 1.37, 1.3, 1.3, 1.29, 1.26, 1.21, 1.21, 1.08, 1.08, 1.06, 1.05, 1.05, 1.05, 1.05, 1.04, 1.04, 1.01, 1.0, 0.99, 0.98, 0.97, 0.97, 0.96, 0.93, 0.93, 0.92, 0.92, 0.92, 0.91, 0.9, 0.9, 0.9, 0.88, 0.87, 0.86, 0.86, 0.85, 0.82, 0.82, 0.82, 0.81, 0.8, 0.8, 0.79, 0.79, 0.78]\n"
     ]
    },
    {
     "data": {
      "text/html": [
       "<font color=\"red\">nc</font> ncds ncd noncommunicable <font color=\"purple\">prevention</font> <font color=\"red\">communicable</font> <font color=\"red\">non</font> <font color=\"green\">diseases</font> diabetes <font color=\"green\">prevent</font> respiratory effective cardiometabolic worldwide <font color=\"red\">death</font> <font color=\"blue\">disease</font> comprehensive cardiovascular strategies middle <font color=\"red\">policy</font> <font color=\"red\">cancer</font> alcohol tobacco salt <font color=\"orange\">preventable</font> <font color=\"red\">##mun</font> <font color=\"red\">diabetic</font> <font color=\"red\">smoking</font> <font color=\"green\">risk</font> unhealthy responsible urgent income <font color=\"red\">die</font> primary low scale countries <font color=\"red\">reduce</font> policies <font color=\"red\">strategy</font> <font color=\"red\">carcinoma</font> cancers chronic care <font color=\"red\">confounding</font> <font color=\"blue\">heart</font> <font color=\"red\">risks</font> <font color=\"red\">breathing</font>"
      ],
      "text/plain": [
       "<IPython.core.display.HTML object>"
      ]
     },
     "metadata": {},
     "output_type": "display_data"
    }
   ],
   "source": [
    "model_name = \"mlm-splade-71694\"\n",
    "this_idf = idf_tk[model_name]\n",
    "idf_vec = torch.tensor([this_idf[k] if k  in this_idf else 1 for k, v in sorted(tks[model_name].vocab.items(), key=lambda x: x[1])])\n",
    "analysis(model_name, \"PLAIN-2550\", all_results, idf_vec, \"org\", 5)"
   ]
  },
  {
   "cell_type": "code",
   "execution_count": 34,
   "id": "083412bc-2d09-42d9-bce7-0fb0be5e7212",
   "metadata": {},
   "outputs": [
    {
     "name": "stdout",
     "output_type": "stream",
     "text": [
      "path /home/gaia_data/iida.h/BEIR/model/pubmed_abst/bert-base-uncased/splade_model/raw/remove/71694/distilSplade_0.1_0.08_-groups-gcb50243-iida.h-BEIR-model-pubmed_abst-bert-base-uncased-mlm_model-raw-remove--71694-batch_size_40-2022-04-12_08-52-34/\n"
     ]
    },
    {
     "name": "stderr",
     "output_type": "stream",
     "text": [
      "Truncation was not explicitly activated but `max_length` is provided a specific value, please use `truncation=True` to explicitly truncate examples to max length. Defaulting to 'longest_first' truncation strategy. If you encode pairs of sequences (GLUE-style) with the tokenizer you can select this strategy more precisely by providing a specific strategy to `truncation`.\n"
     ]
    },
    {
     "name": "stdout",
     "output_type": "stream",
     "text": [
      "PLAIN-3432 Healthy Chocolate Milkshakes\n",
      "-------------------\n",
      "0 MED-2225 14.40161418914795 1\n",
      "torch.Size([1, 71694]) torch.Size([1, 71694])\n",
      "[6.28, 3.37, 2.89, 0.37, 0.32, 0.3, 0.17, 0.17, 0.09, 0.04, 0.03, 0.03, 0.02, 0.02, 0.01, 0.01, 0.01, 0.01]\n",
      "['chocolate', 'cocoa', 'healthy', 'eat', 'benefit', 'food', 'foods', 'dose', 'drink', 'flavor', 'amount', 'contain', 'good', 'like', 'treatment', 'calorie', 'brand', 'coating']\n",
      "[2.76, 2.62, 1.84, 1.65, 1.43, 1.09, 0.95, 0.69, 0.66, 0.63, 0.57, 0.53, 0.48, 0.45, 0.44, 0.39, 0.36, 0.36, 0.35, 0.34]\n"
     ]
    },
    {
     "data": {
      "text/html": [
       "<font color=\"red\">chocolate</font> <font color=\"red\">healthy</font> <font color=\"red\">##hak</font> milk cocoa <font color=\"red\">milks</font> brand milking dish food eat recipe foods good benefit <font color=\"red\">##es</font> shake best ingredients dose"
      ],
      "text/plain": [
       "<IPython.core.display.HTML object>"
      ]
     },
     "metadata": {},
     "output_type": "display_data"
    },
    {
     "name": "stdout",
     "output_type": "stream",
     "text": [
      "[2.36, 2.28, 1.87, 1.87, 1.71, 1.64, 1.59, 1.59, 1.48, 1.45, 1.4, 1.4, 1.38, 1.33, 1.27, 1.27, 1.26, 1.22, 1.19, 1.18, 1.18, 1.15, 1.15, 1.14, 1.11, 1.1, 1.08, 1.05, 1.02, 1.02, 1.01, 0.96, 0.95, 0.94, 0.92, 0.91, 0.89, 0.89, 0.88, 0.88, 0.87, 0.87, 0.85, 0.85, 0.82, 0.82, 0.81, 0.8, 0.79, 0.79]\n"
     ]
    },
    {
     "data": {
      "text/html": [
       "<font color=\"green\">cocoa</font> <font color=\"purple\">chocolate</font> dc kidney <font color=\"red\">cacao</font> wc dark mri oxygenation flavonoid flavonoids volunteers bold <font color=\"red\">volunteer</font> renoprotective renal kidneys tissue medullary oxygen oxidative oxide background effect nitric <font color=\"purple\">healthy</font> <font color=\"red\">coffee</font> white bioavailability cortical <font color=\"red\">##ono</font> r2 <font color=\"red\">reno</font> 70 g <font color=\"red\">bioavailable</font> <font color=\"red\">wcs</font> perfusion r baseline m2 rich age <font color=\"red\">preservation</font> increase <font color=\"red\">ni</font> function renin <font color=\"red\">coconut</font> <font color=\"red\">radioprotective</font>"
      ],
      "text/plain": [
       "<IPython.core.display.HTML object>"
      ]
     },
     "metadata": {},
     "output_type": "display_data"
    },
    {
     "name": "stdout",
     "output_type": "stream",
     "text": [
      "-------------------\n",
      "1 MED-5283 14.370923042297363 not-eval\n",
      "torch.Size([1, 71694]) torch.Size([1, 71694])\n",
      "[6.66, 3.19, 2.3, 0.45, 0.37, 0.34, 0.34, 0.22, 0.18, 0.12, 0.07, 0.04, 0.04, 0.03, 0.02]\n",
      "['chocolate', 'cocoa', 'healthy', 'eat', 'food', 'benefit', 'good', 'taste', 'foods', 'flavor', 'drink', 'ingredients', 'like', 'contain', 'treatment']\n",
      "[2.76, 2.62, 1.84, 1.65, 1.43, 1.09, 0.95, 0.69, 0.66, 0.63, 0.57, 0.53, 0.48, 0.45, 0.44, 0.39, 0.36, 0.36, 0.35, 0.34]\n"
     ]
    },
    {
     "data": {
      "text/html": [
       "<font color=\"red\">chocolate</font> <font color=\"red\">healthy</font> <font color=\"red\">##hak</font> milk cocoa <font color=\"red\">milks</font> brand milking dish food eat recipe foods good benefit <font color=\"red\">##es</font> shake best ingredients dose"
      ],
      "text/plain": [
       "<IPython.core.display.HTML object>"
      ]
     },
     "metadata": {},
     "output_type": "display_data"
    },
    {
     "name": "stdout",
     "output_type": "stream",
     "text": [
      "[2.42, 2.23, 1.6, 1.48, 1.37, 1.21, 1.2, 1.18, 1.15, 1.15, 1.06, 1.05, 1.04, 1.04, 1.03, 1.0, 0.97, 0.96, 0.93, 0.92, 0.88, 0.87, 0.87, 0.86, 0.86, 0.83, 0.82, 0.81, 0.81, 0.79, 0.79, 0.78, 0.78, 0.77, 0.77, 0.75, 0.75, 0.75, 0.74, 0.72, 0.71, 0.71, 0.65, 0.64, 0.62, 0.62, 0.61, 0.61, 0.59, 0.59]\n"
     ]
    },
    {
     "data": {
      "text/html": [
       "<font color=\"purple\">chocolate</font> <font color=\"green\">cocoa</font> <font color=\"red\">cacao</font> sin phenolic acne <font color=\"red\">phenol</font> human diabetes pressure obesity <font color=\"red\">coffee</font> caries taste health <font color=\"red\">phenolics</font> known oxidative fat <font color=\"red\">effect</font> <font color=\"blue\">healthy</font> <font color=\"red\">diabetic</font> antioxidant active atherosclerosis consumption effects blood <font color=\"red\">obese</font> <font color=\"orange\">eat</font> <font color=\"orange\">benefit</font> artery <font color=\"red\">humans</font> biologically <font color=\"red\">coconut</font> <font color=\"red\">dangerous</font> associated <font color=\"green\">good</font> <font color=\"red\">ph</font> remedy <font color=\"red\">coco</font> <font color=\"red\">antioxidants</font> <font color=\"red\">remedies</font> <font color=\"red\">carious</font> <font color=\"red\">affect</font> <font color=\"red\">polyphenol</font> coronary <font color=\"red\">biological</font> <font color=\"orange\">food</font> stress"
      ],
      "text/plain": [
       "<IPython.core.display.HTML object>"
      ]
     },
     "metadata": {},
     "output_type": "display_data"
    },
    {
     "name": "stdout",
     "output_type": "stream",
     "text": [
      "-------------------\n",
      "2 MED-5151 14.027328491210938 not-eval\n",
      "torch.Size([1, 71694]) torch.Size([1, 71694])\n",
      "[6.42, 3.3, 1.92, 0.59, 0.53, 0.41, 0.4, 0.16, 0.06, 0.05, 0.05, 0.05, 0.03, 0.03, 0.03, 0.01]\n",
      "['chocolate', 'cocoa', 'healthy', 'food', 'foods', 'benefit', 'eat', 'dish', 'brand', 'drink', 'good', 'flavor', 'ingredients', 'treatment', 'contain', 'material']\n",
      "[2.76, 2.62, 1.84, 1.65, 1.43, 1.09, 0.95, 0.69, 0.66, 0.63, 0.57, 0.53, 0.48, 0.45, 0.44, 0.39, 0.36, 0.36, 0.35, 0.34]\n"
     ]
    },
    {
     "data": {
      "text/html": [
       "<font color=\"red\">chocolate</font> <font color=\"red\">healthy</font> <font color=\"red\">##hak</font> milk cocoa <font color=\"red\">milks</font> brand milking dish food eat recipe foods good benefit <font color=\"red\">##es</font> shake best ingredients dose"
      ],
      "text/plain": [
       "<IPython.core.display.HTML object>"
      ]
     },
     "metadata": {},
     "output_type": "display_data"
    },
    {
     "name": "stdout",
     "output_type": "stream",
     "text": [
      "[2.33, 2.31, 1.76, 1.61, 1.59, 1.58, 1.43, 1.34, 1.29, 1.21, 1.16, 1.16, 1.14, 1.13, 1.11, 1.06, 1.04, 1.03, 0.99, 0.98, 0.97, 0.97, 0.94, 0.94, 0.93, 0.92, 0.88, 0.87, 0.85, 0.84, 0.83, 0.83, 0.82, 0.81, 0.79, 0.79, 0.78, 0.76, 0.76, 0.73, 0.7, 0.7, 0.7, 0.7, 0.68, 0.66, 0.66, 0.66, 0.63, 0.63]\n"
     ]
    },
    {
     "data": {
      "text/html": [
       "<font color=\"purple\">chocolate</font> <font color=\"green\">cocoa</font> <font color=\"red\">cacao</font> flavonoid flavonoids cardiovascular heart flavan pressure antioxidant physiological vasodilation <font color=\"red\">coffee</font> platelet <font color=\"green\">foods</font> emerging inflammation <font color=\"red\">antioxidants</font> favorable rich vascular role <font color=\"red\">##ono</font> <font color=\"red\">anti</font> <font color=\"orange\">benefit</font> <font color=\"orange\">food</font> effects blood beneficial ##ol <font color=\"red\">effect</font> <font color=\"red\">inflammatory</font> <font color=\"red\">coconut</font> health plant <font color=\"red\">emergence</font> <font color=\"red\">platelets</font> <font color=\"red\">vasodilatory</font> <font color=\"red\">pressures</font> <font color=\"blue\">healthy</font> derived <font color=\"red\">cv</font> <font color=\"red\">coco</font> <font color=\"orange\">eat</font> <font color=\"red\">lipid</font> properties <font color=\"red\">benefits</font> <font color=\"red\">##cao</font> <font color=\"red\">vasodilator</font> <font color=\"red\">palm</font>"
      ],
      "text/plain": [
       "<IPython.core.display.HTML object>"
      ]
     },
     "metadata": {},
     "output_type": "display_data"
    },
    {
     "name": "stdout",
     "output_type": "stream",
     "text": [
      "-------------------\n",
      "3 MED-2227 13.818687438964844 1\n",
      "torch.Size([1, 71694]) torch.Size([1, 71694])\n",
      "[5.63, 3.42, 3.1, 0.48, 0.32, 0.31, 0.27, 0.14, 0.06, 0.03, 0.02, 0.02, 0.02]\n",
      "['chocolate', 'cocoa', 'healthy', 'benefit', 'food', 'eat', 'foods', 'good', 'drink', 'like', 'ingredients', 'treatment', 'contain']\n",
      "[2.76, 2.62, 1.84, 1.65, 1.43, 1.09, 0.95, 0.69, 0.66, 0.63, 0.57, 0.53, 0.48, 0.45, 0.44, 0.39, 0.36, 0.36, 0.35, 0.34]\n"
     ]
    },
    {
     "data": {
      "text/html": [
       "<font color=\"red\">chocolate</font> <font color=\"red\">healthy</font> <font color=\"red\">##hak</font> milk cocoa <font color=\"red\">milks</font> brand milking dish food eat recipe foods good benefit <font color=\"red\">##es</font> shake best ingredients dose"
      ],
      "text/plain": [
       "<IPython.core.display.HTML object>"
      ]
     },
     "metadata": {},
     "output_type": "display_data"
    },
    {
     "name": "stdout",
     "output_type": "stream",
     "text": [
      "[2.39, 2.27, 2.04, 1.91, 1.83, 1.56, 1.55, 1.44, 1.42, 1.36, 1.32, 1.27, 1.23, 1.2, 1.19, 1.15, 1.1, 1.09, 1.09, 1.03, 1.0, 0.99, 0.94, 0.9, 0.88, 0.87, 0.86, 0.86, 0.83, 0.82, 0.8, 0.79, 0.79, 0.79, 0.74, 0.73, 0.72, 0.7, 0.69, 0.68, 0.65, 0.64, 0.64, 0.64, 0.63, 0.62, 0.62, 0.61, 0.6, 0.59]\n"
     ]
    },
    {
     "data": {
      "text/html": [
       "<font color=\"green\">cocoa</font> kun <font color=\"purple\">chocolate</font> guilty <font color=\"red\">cacao</font> cardiovascular dark <font color=\"red\">cv</font> cvd <font color=\"red\">heart</font> theobromine pleasure indian <font color=\"red\">coffee</font> <font color=\"purple\">healthy</font> <font color=\"red\">theo</font> flavanols <font color=\"green\">benefit</font> popular endothelial supplement pressure physiologic health benefits hypertension platelet controversial insulin population <font color=\"red\">coconut</font> <font color=\"red\">indians</font> dietary <font color=\"red\">##cao</font> risk <font color=\"red\">controversy</font> blood <font color=\"red\">cholesterol</font> ##a hypercholesterolemia <font color=\"red\">promotion</font> resistance <font color=\"red\">supplements</font> <font color=\"red\">coco</font> <font color=\"red\">cardio</font> mechanisms <font color=\"red\">help</font> products role contribute"
      ],
      "text/plain": [
       "<IPython.core.display.HTML object>"
      ]
     },
     "metadata": {},
     "output_type": "display_data"
    },
    {
     "name": "stdout",
     "output_type": "stream",
     "text": [
      "-------------------\n",
      "4 MED-5038 13.748722076416016 not-eval\n",
      "torch.Size([1, 71694]) torch.Size([1, 71694])\n",
      "[6.23, 3.24, 2.23, 0.68, 0.41, 0.41, 0.3, 0.06, 0.05, 0.04, 0.03, 0.03, 0.02, 0.02]\n",
      "['chocolate', 'cocoa', 'healthy', 'food', 'foods', 'eat', 'benefit', 'dish', 'drink', 'items', 'like', 'contain', 'flavor', 'good']\n",
      "[2.76, 2.62, 1.84, 1.65, 1.43, 1.09, 0.95, 0.69, 0.66, 0.63, 0.57, 0.53, 0.48, 0.45, 0.44, 0.39, 0.36, 0.36, 0.35, 0.34]\n"
     ]
    },
    {
     "data": {
      "text/html": [
       "<font color=\"red\">chocolate</font> <font color=\"red\">healthy</font> <font color=\"red\">##hak</font> milk cocoa <font color=\"red\">milks</font> brand milking dish food eat recipe foods good benefit <font color=\"red\">##es</font> shake best ingredients dose"
      ],
      "text/plain": [
       "<IPython.core.display.HTML object>"
      ]
     },
     "metadata": {},
     "output_type": "display_data"
    },
    {
     "name": "stdout",
     "output_type": "stream",
     "text": [
      "[2.27, 2.26, 1.67, 1.63, 1.57, 1.28, 1.26, 1.18, 1.08, 1.07, 1.04, 1.04, 0.97, 0.97, 0.96, 0.95, 0.93, 0.88, 0.87, 0.87, 0.86, 0.85, 0.79, 0.78, 0.77, 0.76, 0.75, 0.74, 0.71, 0.7, 0.68, 0.67, 0.66, 0.64, 0.64, 0.61, 0.58, 0.57, 0.54, 0.53, 0.53, 0.49, 0.46, 0.44, 0.43, 0.41, 0.41, 0.41, 0.41, 0.39]\n"
     ]
    },
    {
     "data": {
      "text/html": [
       "<font color=\"green\">cocoa</font> <font color=\"purple\">chocolate</font> <font color=\"red\">cacao</font> polyphenols polyphenol biological <font color=\"red\">poly</font> <font color=\"red\">phenol</font> <font color=\"green\">food</font> lifestyle <font color=\"red\">coffee</font> italy human milan health consumption interest content <font color=\"red\">activity</font> <font color=\"red\">effect</font> <font color=\"orange\">foods</font> <font color=\"blue\">healthy</font> <font color=\"red\">italian</font> activities effects <font color=\"red\">coconut</font> <font color=\"red\">increase</font> <font color=\"red\">diet</font> <font color=\"orange\">eat</font> <font color=\"orange\">benefit</font> <font color=\"red\">bio</font> <font color=\"red\">humans</font> pharmacological <font color=\"red\">##cao</font> <font color=\"red\">coco</font> <font color=\"red\">affect</font> <font color=\"red\">increased</font> <font color=\"red\">life</font> <font color=\"red\">nutrient</font> high <font color=\"red\">mono</font> <font color=\"red\">polymorphism</font> <font color=\"red\">phenolic</font> <font color=\"red\">phenols</font> <font color=\"red\">do</font> <font color=\"red\">nutrition</font> <font color=\"red\">consume</font> <font color=\"red\">polyph</font> increasing nutritional"
      ],
      "text/plain": [
       "<IPython.core.display.HTML object>"
      ]
     },
     "metadata": {},
     "output_type": "display_data"
    }
   ],
   "source": [
    "model_name = \"mlm-splade-71694\"\n",
    "this_idf = idf_tk[model_name]\n",
    "idf_vec = torch.tensor([this_idf[k] if k  in this_idf else 1 for k, v in sorted(tks[model_name].vocab.items(), key=lambda x: x[1])])\n",
    "analysis(model_name, \"PLAIN-3432\", all_results, idf_vec, \"org\", 5)"
   ]
  },
  {
   "cell_type": "code",
   "execution_count": 33,
   "id": "5d2cfe26-5d1f-4f03-9788-7fc2ca613eea",
   "metadata": {},
   "outputs": [
    {
     "name": "stdout",
     "output_type": "stream",
     "text": [
      "path /home/gaia_data/iida.h/BEIR/model/pubmed_abst/bert-base-uncased/splade_model/raw/remove/71694/distilSplade_0.1_0.08_-groups-gcb50243-iida.h-BEIR-model-pubmed_abst-bert-base-uncased-mlm_model-raw-remove--71694-batch_size_40-2022-04-12_08-52-34/\n"
     ]
    },
    {
     "name": "stderr",
     "output_type": "stream",
     "text": [
      "Truncation was not explicitly activated but `max_length` is provided a specific value, please use `truncation=True` to explicitly truncate examples to max length. Defaulting to 'longest_first' truncation strategy. If you encode pairs of sequences (GLUE-style) with the tokenizer you can select this strategy more precisely by providing a specific strategy to `truncation`.\n"
     ]
    },
    {
     "name": "stdout",
     "output_type": "stream",
     "text": [
      "PLAIN-468 Is vitamin D3 (cholecalciferol) preferable to D2 (ergocalciferol)?\n",
      "-------------------\n",
      "0 MED-961 12.258646011352539 2\n",
      "torch.Size([1, 71694]) torch.Size([1, 71694])\n",
      "[2.55, 2.27, 1.68, 1.23, 1.03, 0.78, 0.78, 0.58, 0.41, 0.35, 0.24, 0.18, 0.16, 0.13, 0.12, 0.07, 0.06, 0.02, 0.02]\n",
      "['vitamin', 'd', 'd3', 'than', 'd2', '##3', '##ifer', 'vitamins', 'preferred', 'drug', '3', 'cholecalciferol', 'nutrient', 'comparison', '2', 'chemical', 'do', 'd1', 'd4']\n",
      "[1.45, 1.35, 1.31, 1.14, 1.01, 0.96, 0.95, 0.87, 0.85, 0.79, 0.78, 0.69, 0.53, 0.52, 0.5, 0.45, 0.41, 0.34, 0.3, 0.29]\n"
     ]
    },
    {
     "data": {
      "text/html": [
       "<font color=\"red\">vitamin</font> d than <font color=\"red\">d3</font> <font color=\"red\">d2</font> <font color=\"red\">cholecalciferol</font> <font color=\"red\">preferable</font> preferred <font color=\"red\">erg</font> do prefer ##3 er drug <font color=\"red\">##ifer</font> <font color=\"red\">to</font> vitamins nutrient instead with"
      ],
      "text/plain": [
       "<IPython.core.display.HTML object>"
      ]
     },
     "metadata": {},
     "output_type": "display_data"
    },
    {
     "name": "stdout",
     "output_type": "stream",
     "text": [
      "[1.76, 1.68, 1.56, 1.48, 1.41, 1.37, 1.36, 1.35, 1.31, 1.3, 1.28, 1.24, 1.23, 1.23, 1.23, 1.16, 1.15, 1.14, 1.13, 1.13, 1.11, 1.08, 1.07, 1.06, 1.06, 1.06, 1.05, 1.02, 1.01, 1.0, 0.99, 0.98, 0.97, 0.94, 0.94, 0.92, 0.92, 0.91, 0.91, 0.91, 0.9, 0.87, 0.86, 0.86, 0.86, 0.86, 0.85, 0.85, 0.84, 0.84]\n"
     ]
    },
    {
     "data": {
      "text/html": [
       "<font color=\"purple\">vitamin</font> <font color=\"green\">d</font> <font color=\"purple\">##ifer</font> <font color=\"purple\">d3</font> <font color=\"green\">vitamins</font> incremental calc subcutaneous equimolar unit background <font color=\"red\">cal</font> equivalent fat sc potent trial <font color=\"orange\">##3</font> curve sequestration potency dose randomized content ng <font color=\"red\">subcutaneously</font> biologically kg <font color=\"purple\">d2</font> <font color=\"red\">biological</font> <font color=\"purple\">##ol</font> deficiency potencies <font color=\"green\">than</font> <font color=\"red\">equi</font> oh group <font color=\"red\">molar</font> storage hydroxyvitamin total current <font color=\"red\">human</font> dosed under objective ml iu correcting 25"
      ],
      "text/plain": [
       "<IPython.core.display.HTML object>"
      ]
     },
     "metadata": {},
     "output_type": "display_data"
    },
    {
     "name": "stdout",
     "output_type": "stream",
     "text": [
      "-------------------\n",
      "1 MED-4573 12.04101276397705 not-eval\n",
      "torch.Size([1, 71694]) torch.Size([1, 71694])\n",
      "[2.99, 2.54, 1.42, 1.1, 0.86, 0.79, 0.56, 0.51, 0.41, 0.37, 0.21, 0.17, 0.08, 0.07, 0.03, 0.01]\n",
      "['vitamin', 'd', 'd3', 'cholecalciferol', 'erg', 'd2', 'vitamins', '##3', '##ifer', 'er', 'nutrient', 'drug', '3', 'chemical', '2', 'd1']\n",
      "[1.45, 1.35, 1.31, 1.14, 1.01, 0.96, 0.95, 0.87, 0.85, 0.79, 0.78, 0.69, 0.53, 0.52, 0.5, 0.45, 0.41, 0.34, 0.3, 0.29]\n"
     ]
    },
    {
     "data": {
      "text/html": [
       "<font color=\"red\">vitamin</font> d than <font color=\"red\">d3</font> <font color=\"red\">d2</font> <font color=\"red\">cholecalciferol</font> <font color=\"red\">preferable</font> preferred <font color=\"red\">erg</font> do prefer ##3 er drug <font color=\"red\">##ifer</font> <font color=\"red\">to</font> vitamins nutrient instead with"
      ],
      "text/plain": [
       "<IPython.core.display.HTML object>"
      ]
     },
     "metadata": {},
     "output_type": "display_data"
    },
    {
     "name": "stdout",
     "output_type": "stream",
     "text": [
      "[2.06, 1.88, 1.7, 1.47, 1.35, 1.27, 1.27, 1.25, 1.21, 1.18, 1.18, 1.16, 1.15, 1.15, 1.13, 1.07, 1.05, 1.04, 1.03, 1.01, 0.99, 0.99, 0.98, 0.97, 0.96, 0.92, 0.91, 0.9, 0.9, 0.89, 0.88, 0.86, 0.82, 0.81, 0.8, 0.8, 0.79, 0.79, 0.78, 0.77, 0.74, 0.73, 0.72, 0.72, 0.72, 0.69, 0.67, 0.67, 0.64, 0.63]\n"
     ]
    },
    {
     "data": {
      "text/html": [
       "<font color=\"purple\">vitamin</font> <font color=\"green\">d</font> low status <font color=\"orange\">vitamins</font> rickets radiation <font color=\"purple\">d3</font> cutaneous ultraviolet <font color=\"red\">statuses</font> 25 skeletal <font color=\"purple\">cholecalciferol</font> osteomalacia <font color=\"red\">lower</font> oh consequences <font color=\"red\">uv</font> <font color=\"purple\">erg</font> hydroxyvitamin level concentration ng oral prevalence dose <font color=\"red\">osteoporosis</font> 7 <font color=\"red\">circulation</font> dehydro circulating <font color=\"purple\">##ifer</font> individual ##terol <font color=\"red\">convert</font> ml correction <font color=\"purple\">d2</font> <font color=\"red\">consequence</font> <font color=\"orange\">##3</font> <font color=\"red\">skin</font> optimal definition <font color=\"red\">deficiency</font> <font color=\"orange\">er</font> production <font color=\"red\">amount</font> <font color=\"red\">supplement</font> <font color=\"red\">hydroxy</font>"
      ],
      "text/plain": [
       "<IPython.core.display.HTML object>"
      ]
     },
     "metadata": {},
     "output_type": "display_data"
    },
    {
     "name": "stdout",
     "output_type": "stream",
     "text": [
      "-------------------\n",
      "2 MED-3988 11.241576194763184 not-eval\n",
      "torch.Size([1, 71694]) torch.Size([1, 71694])\n",
      "[2.74, 2.19, 1.5, 1.44, 1.28, 0.58, 0.49, 0.27, 0.2, 0.19, 0.09, 0.07, 0.05, 0.04, 0.04]\n",
      "['vitamin', 'd', 'd3', 'd2', 'than', '##3', 'vitamins', 'drug', 'nutrient', 'do', '2', '3', 'd1', 'd4', 'chemical']\n",
      "[1.45, 1.35, 1.31, 1.14, 1.01, 0.96, 0.95, 0.87, 0.85, 0.79, 0.78, 0.69, 0.53, 0.52, 0.5, 0.45, 0.41, 0.34, 0.3, 0.29]\n"
     ]
    },
    {
     "data": {
      "text/html": [
       "<font color=\"red\">vitamin</font> d than <font color=\"red\">d3</font> <font color=\"red\">d2</font> <font color=\"red\">cholecalciferol</font> <font color=\"red\">preferable</font> preferred <font color=\"red\">erg</font> do prefer ##3 er drug <font color=\"red\">##ifer</font> <font color=\"red\">to</font> vitamins nutrient instead with"
      ],
      "text/plain": [
       "<IPython.core.display.HTML object>"
      ]
     },
     "metadata": {},
     "output_type": "display_data"
    },
    {
     "name": "stdout",
     "output_type": "stream",
     "text": [
      "[1.88, 1.62, 1.42, 1.32, 1.3, 1.26, 1.21, 1.2, 1.2, 1.19, 1.18, 1.15, 1.11, 1.09, 1.08, 1.04, 1.02, 0.99, 0.98, 0.98, 0.95, 0.95, 0.94, 0.93, 0.93, 0.91, 0.88, 0.88, 0.86, 0.86, 0.85, 0.85, 0.85, 0.84, 0.84, 0.84, 0.81, 0.78, 0.77, 0.76, 0.75, 0.75, 0.75, 0.75, 0.74, 0.7, 0.7, 0.69, 0.69, 0.68]\n"
     ]
    },
    {
     "data": {
      "text/html": [
       "<font color=\"purple\">vitamin</font> <font color=\"green\">d</font> <font color=\"purple\">d2</font> <font color=\"purple\">d3</font> 25 1000 objective hydroxyvitamin <font color=\"orange\">vitamins</font> serum catabolism effective less placebo <font color=\"red\">maintain</font> winter dose <font color=\"red\">catabolic</font> context <font color=\"green\">than</font> randomized ng daily <font color=\"red\">deficiency</font> 500 circulating controlled status ml healthy <font color=\"red\">circulation</font> baseline deficient iu <font color=\"orange\">##3</font> <font color=\"red\">age</font> raise <font color=\"red\">hydroxy</font> <font color=\"red\">concentration</font> <font color=\"red\">increase</font> adults <font color=\"red\">receive</font> <font color=\"red\">level</font> <font color=\"red\">adult</font> <font color=\"red\">maintenance</font> <font color=\"red\">keep</font> <font color=\"red\">dihydroxyvitamin</font> concentrations <font color=\"red\">help</font> <font color=\"red\">d1</font>"
      ],
      "text/plain": [
       "<IPython.core.display.HTML object>"
      ]
     },
     "metadata": {},
     "output_type": "display_data"
    },
    {
     "name": "stdout",
     "output_type": "stream",
     "text": [
      "-------------------\n",
      "3 MED-3991 11.099977493286133 not-eval\n",
      "torch.Size([1, 71694]) torch.Size([1, 71694])\n",
      "[2.36, 2.16, 1.28, 1.26, 1.25, 1.07, 0.67, 0.64, 0.52, 0.39, 0.34, 0.16, 0.11, 0.1, 0.07, 0.03, 0.02]\n",
      "['vitamin', 'd', 'erg', 'd3', 'cholecalciferol', 'd2', 'er', '##ifer', '##3', 'vitamins', 'drug', 'nutrient', 'with', 'do', 'chemical', 'd1', 'd4']\n",
      "[1.45, 1.35, 1.31, 1.14, 1.01, 0.96, 0.95, 0.87, 0.85, 0.79, 0.78, 0.69, 0.53, 0.52, 0.5, 0.45, 0.41, 0.34, 0.3, 0.29]\n"
     ]
    },
    {
     "data": {
      "text/html": [
       "<font color=\"red\">vitamin</font> d than <font color=\"red\">d3</font> <font color=\"red\">d2</font> <font color=\"red\">cholecalciferol</font> <font color=\"red\">preferable</font> preferred <font color=\"red\">erg</font> do prefer ##3 er drug <font color=\"red\">##ifer</font> <font color=\"red\">to</font> vitamins nutrient instead with"
      ],
      "text/plain": [
       "<IPython.core.display.HTML object>"
      ]
     },
     "metadata": {},
     "output_type": "display_data"
    },
    {
     "name": "stdout",
     "output_type": "stream",
     "text": [
      "[2.05, 1.99, 1.84, 1.74, 1.62, 1.6, 1.51, 1.51, 1.51, 1.5, 1.41, 1.38, 1.35, 1.34, 1.3, 1.28, 1.28, 1.25, 1.23, 1.18, 1.18, 1.16, 1.14, 1.13, 1.11, 1.11, 1.07, 1.05, 1.05, 1.04, 1.04, 1.03, 1.02, 1.0, 0.98, 0.97, 0.96, 0.95, 0.94, 0.93, 0.93, 0.91, 0.89, 0.89, 0.89, 0.88, 0.88, 0.84, 0.84, 0.84]\n"
     ]
    },
    {
     "data": {
      "text/html": [
       "mushrooms uv <font color=\"red\">mushroom</font> button <font color=\"purple\">vitamin</font> <font color=\"green\">d</font> bisporus <font color=\"purple\">erg</font> light m2 agaricus <font color=\"red\">ultraviolet</font> 25 hydroxy <font color=\"purple\">cholecalciferol</font> <font color=\"purple\">##ifer</font> untreated <font color=\"orange\">er</font> white standard m1 volunteers c <font color=\"purple\">##ol</font> <font color=\"red\">bis</font> <font color=\"purple\">d3</font> <font color=\"red\">hydro</font> <font color=\"purple\">d2</font> oh content purified <font color=\"red\">volunteer</font> randomized <font color=\"red\">increase</font> healthy baseline hydroxych control <font color=\"orange\">vitamins</font> meal treatment <font color=\"purple\">##oca</font> group <font color=\"red\">dose</font> <font color=\"red\">buttons</font> treatments supplement nmol wk metabolized"
      ],
      "text/plain": [
       "<IPython.core.display.HTML object>"
      ]
     },
     "metadata": {},
     "output_type": "display_data"
    },
    {
     "name": "stdout",
     "output_type": "stream",
     "text": [
      "-------------------\n",
      "4 MED-3987 10.971348762512207 not-eval\n",
      "torch.Size([1, 71694]) torch.Size([1, 71694])\n",
      "[2.57, 2.06, 1.6, 1.09, 0.86, 0.67, 0.56, 0.38, 0.32, 0.28, 0.21, 0.2, 0.12, 0.1, 0.1, 0.05, 0.04, 0.04, 0.03]\n",
      "['vitamin', 'd', 'd3', 'd2', 'than', '##3', 'vitamins', 'do', 'preferred', 'drug', 'comparison', 'nutrient', 'with', '3', 'cholecalciferol', 'chemical', '2', 'd1', 'd4']\n",
      "[1.45, 1.35, 1.31, 1.14, 1.01, 0.96, 0.95, 0.87, 0.85, 0.79, 0.78, 0.69, 0.53, 0.52, 0.5, 0.45, 0.41, 0.34, 0.3, 0.29]\n"
     ]
    },
    {
     "data": {
      "text/html": [
       "<font color=\"red\">vitamin</font> d than <font color=\"red\">d3</font> <font color=\"red\">d2</font> <font color=\"red\">cholecalciferol</font> <font color=\"red\">preferable</font> preferred <font color=\"red\">erg</font> do prefer ##3 er drug <font color=\"red\">##ifer</font> <font color=\"red\">to</font> vitamins nutrient instead with"
      ],
      "text/plain": [
       "<IPython.core.display.HTML object>"
      ]
     },
     "metadata": {},
     "output_type": "display_data"
    },
    {
     "name": "stdout",
     "output_type": "stream",
     "text": [
      "[1.77, 1.62, 1.52, 1.4, 1.4, 1.39, 1.36, 1.35, 1.31, 1.22, 1.2, 1.18, 1.16, 1.08, 1.08, 1.07, 1.06, 1.05, 1.03, 1.01, 0.98, 0.98, 0.97, 0.95, 0.89, 0.86, 0.86, 0.85, 0.82, 0.81, 0.81, 0.8, 0.78, 0.78, 0.77, 0.76, 0.76, 0.75, 0.75, 0.73, 0.73, 0.73, 0.69, 0.69, 0.67, 0.66, 0.66, 0.66, 0.66, 0.65]\n"
     ]
    },
    {
     "data": {
      "text/html": [
       "<font color=\"purple\">vitamin</font> serum <font color=\"green\">d</font> <font color=\"purple\">d3</font> meta <font color=\"red\">raise</font> systematic <font color=\"green\">vitamins</font> 25 bolus hydroxyvitamin analysis oh <font color=\"red\">supplement</font> <font color=\"purple\">d2</font> comparison randomized cochrane supplementation <font color=\"red\">concentration</font> effect <font color=\"orange\">##3</font> status <font color=\"red\">raised</font> controlled <font color=\"red\">trial</font> efficacious <font color=\"red\">hydroxy</font> <font color=\"red\">increase</font> review concentrations literature effects objective <font color=\"red\">human</font> <font color=\"red\">dihydroxyvitamin</font> <font color=\"red\">26</font> <font color=\"red\">serums</font> response <font color=\"red\">##25</font> <font color=\"red\">blood</font> daily administration raising dose <font color=\"red\">statuses</font> significant <font color=\"red\">supplements</font> humans <font color=\"green\">than</font>"
      ],
      "text/plain": [
       "<IPython.core.display.HTML object>"
      ]
     },
     "metadata": {},
     "output_type": "display_data"
    }
   ],
   "source": [
    "model_name = \"mlm-splade-71694\"\n",
    "this_idf = idf_tk[model_name]\n",
    "idf_vec = torch.tensor([this_idf[k] if k  in this_idf else 1 for k, v in sorted(tks[model_name].vocab.items(), key=lambda x: x[1])])\n",
    "analysis(model_name, \"PLAIN-468\", all_results, idf_vec, \"org\", 5)"
   ]
  },
  {
   "cell_type": "code",
   "execution_count": 38,
   "id": "448c0154-49eb-4777-9282-0d56ff8f65ed",
   "metadata": {},
   "outputs": [
    {
     "name": "stdout",
     "output_type": "stream",
     "text": [
      "path /home/gaia_data/iida.h/BEIR/model/pubmed_abst/bert-base-uncased/splade_model/raw/remove/71694/distilSplade_0.1_0.08_-groups-gcb50243-iida.h-BEIR-model-pubmed_abst-bert-base-uncased-mlm_model-raw-remove--71694-batch_size_40-2022-04-12_08-52-34/\n"
     ]
    },
    {
     "name": "stderr",
     "output_type": "stream",
     "text": [
      "Truncation was not explicitly activated but `max_length` is provided a specific value, please use `truncation=True` to explicitly truncate examples to max length. Defaulting to 'longest_first' truncation strategy. If you encode pairs of sequences (GLUE-style) with the tokenizer you can select this strategy more precisely by providing a specific strategy to `truncation`.\n"
     ]
    },
    {
     "name": "stdout",
     "output_type": "stream",
     "text": [
      "PLAIN-551 amnesia\n",
      "-------------------\n",
      "0 MED-4381 8.197067260742188 1\n",
      "torch.Size([1, 71694]) torch.Size([1, 71694])\n",
      "[4.01, 2.23, 0.54, 0.38, 0.31, 0.29, 0.23, 0.11, 0.09]\n",
      "['amnesic', 'amnesia', 'symptoms', 'is', 'phenomenon', 'cause', 'effect', 'memory', 'definition']\n",
      "[2.9, 1.99, 0.92, 0.71, 0.63, 0.59, 0.55, 0.52, 0.42, 0.38, 0.34, 0.33, 0.31, 0.28, 0.26, 0.24, 0.24, 0.15, 0.14, 0.11]\n"
     ]
    },
    {
     "data": {
      "text/html": [
       "<font color=\"red\">amnesia</font> amnesic phenomenon mala meaning difference symptoms definition fear is word it cause effect religion feeling emotion disability memory if"
      ],
      "text/plain": [
       "<IPython.core.display.HTML object>"
      ]
     },
     "metadata": {},
     "output_type": "display_data"
    },
    {
     "name": "stdout",
     "output_type": "stream",
     "text": [
      "[2.01, 1.89, 1.85, 1.72, 1.69, 1.57, 1.5, 1.46, 1.42, 1.41, 1.37, 1.36, 1.36, 1.28, 1.28, 1.26, 1.26, 1.25, 1.22, 1.21, 1.17, 1.17, 1.17, 1.15, 1.15, 1.14, 1.13, 1.08, 1.07, 1.06, 1.0, 0.98, 0.96, 0.91, 0.87, 0.86, 0.84, 0.83, 0.83, 0.83, 0.82, 0.81, 0.79, 0.79, 0.77, 0.76, 0.76, 0.75, 0.73, 0.73]\n"
     ]
    },
    {
     "data": {
      "text/html": [
       "<font color=\"green\">amnesic</font> asp shellfish poison domoic acid <font color=\"red\">shell</font> poisoning <font color=\"red\">##fish</font> necrosis canada <font color=\"red\">dom</font> mussels <font color=\"red\">##p</font> <font color=\"red\">fish</font> <font color=\"red\">toxic</font> phytoplankton <font color=\"red\">mussel</font> hippocampus degeneration consumption outbreak coma neurotoxin <font color=\"red\">amnestic</font> neurotoxic as <font color=\"red\">necrotic</font> <font color=\"red\">brain</font> <font color=\"red\">canadian</font> <font color=\"green\">is</font> <font color=\"green\">symptoms</font> <font color=\"orange\">cause</font> toxicity <font color=\"red\">causes</font> hallucinations <font color=\"red\">neurotoxins</font> <font color=\"orange\">effect</font> harvesting <font color=\"red\">am</font> neuronal <font color=\"red\">hippocampal</font> <font color=\"green\">memory</font> <font color=\"red\">ps</font> <font color=\"blue\">amnesia</font> <font color=\"red\">asps</font> <font color=\"red\">death</font> serious <font color=\"red\">accumulate</font> <font color=\"red\">neuron</font>"
      ],
      "text/plain": [
       "<IPython.core.display.HTML object>"
      ]
     },
     "metadata": {},
     "output_type": "display_data"
    },
    {
     "name": "stdout",
     "output_type": "stream",
     "text": [
      "-------------------\n",
      "1 MED-4380 4.489853382110596 1\n",
      "torch.Size([1, 71694]) torch.Size([1, 71694])\n",
      "[2.9, 0.51, 0.3, 0.25, 0.22, 0.2, 0.09]\n",
      "['amnesic', 'is', 'phenomenon', 'symptoms', 'effect', 'cause', 'memory']\n",
      "[2.9, 1.99, 0.92, 0.71, 0.63, 0.59, 0.55, 0.52, 0.42, 0.38, 0.34, 0.33, 0.31, 0.28, 0.26, 0.24, 0.24, 0.15, 0.14, 0.11]\n"
     ]
    },
    {
     "data": {
      "text/html": [
       "<font color=\"red\">amnesia</font> amnesic phenomenon mala meaning difference symptoms definition fear is word it cause effect religion feeling emotion disability memory if"
      ],
      "text/plain": [
       "<IPython.core.display.HTML object>"
      ]
     },
     "metadata": {},
     "output_type": "display_data"
    },
    {
     "name": "stdout",
     "output_type": "stream",
     "text": [
      "[2.07, 1.86, 1.73, 1.54, 1.45, 1.36, 1.35, 1.34, 1.34, 1.32, 1.31, 1.27, 1.23, 1.23, 1.23, 1.2, 1.19, 1.17, 1.15, 1.13, 1.12, 1.07, 1.07, 1.07, 1.05, 1.02, 1.02, 1.0, 0.97, 0.96, 0.95, 0.94, 0.93, 0.93, 0.92, 0.91, 0.91, 0.91, 0.9, 0.86, 0.85, 0.85, 0.85, 0.84, 0.83, 0.82, 0.81, 0.8, 0.78, 0.77]\n"
     ]
    },
    {
     "data": {
      "text/html": [
       "domoic acid <font color=\"red\">dom</font> diatom <font color=\"green\">amnesic</font> <font color=\"red\">diatoms</font> asp exposure <font color=\"green\">is</font> glutamate neurotoxin canada excitotoxic ##sch human poisoning risk shellfish toxin <font color=\"red\">glu</font> risks <font color=\"red\">##oic</font> pseudo marine <font color=\"red\">exposed</font> <font color=\"red\">toxic</font> toxigenic filter <font color=\"red\">neurotoxins</font> seafood <font color=\"red\">excitotoxicity</font> <font color=\"red\">##p</font> vertebrate <font color=\"red\">canadian</font> toxicity nit <font color=\"red\">natural</font> receptor species phytoplankton <font color=\"red\">shell</font> potent <font color=\"red\">fish</font> genus <font color=\"red\">##fish</font> <font color=\"red\">dangerous</font> <font color=\"green\">effect</font> low <font color=\"red\">g</font> mechanism"
      ],
      "text/plain": [
       "<IPython.core.display.HTML object>"
      ]
     },
     "metadata": {},
     "output_type": "display_data"
    },
    {
     "name": "stdout",
     "output_type": "stream",
     "text": [
      "-------------------\n",
      "2 MED-2330 3.4829587936401367 not-eval\n",
      "torch.Size([1, 71694]) torch.Size([1, 71694])\n",
      "[0.99, 0.77, 0.62, 0.61, 0.22, 0.14, 0.12, 0.01]\n",
      "['phenomenon', 'meaning', 'is', 'definition', 'effect', 'cause', 'difference', 'means']\n",
      "[2.9, 1.99, 0.92, 0.71, 0.63, 0.59, 0.55, 0.52, 0.42, 0.38, 0.34, 0.33, 0.31, 0.28, 0.26, 0.24, 0.24, 0.15, 0.14, 0.11]\n"
     ]
    },
    {
     "data": {
      "text/html": [
       "<font color=\"red\">amnesia</font> amnesic phenomenon mala meaning difference symptoms definition fear is word it cause effect religion feeling emotion disability memory if"
      ],
      "text/plain": [
       "<IPython.core.display.HTML object>"
      ]
     },
     "metadata": {},
     "output_type": "display_data"
    },
    {
     "name": "stdout",
     "output_type": "stream",
     "text": [
      "[1.9, 1.72, 1.65, 1.64, 1.38, 1.22, 1.21, 1.21, 1.17, 1.17, 1.13, 1.13, 1.11, 1.1, 1.09, 1.08, 1.07, 1.05, 1.04, 1.04, 1.03, 1.01, 0.96, 0.93, 0.92, 0.91, 0.91, 0.9, 0.9, 0.88, 0.86, 0.86, 0.85, 0.84, 0.81, 0.8, 0.8, 0.8, 0.79, 0.78, 0.77, 0.77, 0.77, 0.76, 0.76, 0.76, 0.76, 0.75, 0.74, 0.73]\n"
     ]
    },
    {
     "data": {
      "text/html": [
       "hormesis hormetic <font color=\"green\">is</font> <font color=\"red\">ho</font> biphasic <font color=\"orange\">meaning</font> <font color=\"red\">horm</font> adaptive response <font color=\"orange\">definition</font> toxic <font color=\"red\">thermo</font> low characterized <font color=\"red\">##rm</font> intermittent <font color=\"orange\">phenomenon</font> toxicol stimulation cytoprotective restriction environmental phytochemicals preconditioning ischemic stress biology <font color=\"red\">cytoprotection</font> <font color=\"red\">toxicology</font> <font color=\"red\">stressed</font> <font color=\"red\">ferm</font> <font color=\"red\">kinase</font> enzymes examples molecular mechanisms <font color=\"red\">mechanism</font> <font color=\"red\">hormon</font> <font color=\"green\">effect</font> <font color=\"red\">thermos</font> organisms cells dose <font color=\"red\">example</font> <font color=\"red\">turmeric</font> <font color=\"red\">monophasic</font> <font color=\"red\">thermoc</font> <font color=\"red\">reaction</font> beneficial inhibitory"
      ],
      "text/plain": [
       "<IPython.core.display.HTML object>"
      ]
     },
     "metadata": {},
     "output_type": "display_data"
    },
    {
     "name": "stdout",
     "output_type": "stream",
     "text": [
      "-------------------\n",
      "3 MED-4789 2.959315299987793 not-eval\n",
      "torch.Size([1, 71694]) torch.Size([1, 71694])\n",
      "[2.31, 0.28, 0.11, 0.04]\n",
      "['amnesic', 'effect', 'disability', 'memory']\n",
      "[2.9, 1.99, 0.92, 0.71, 0.63, 0.59, 0.55, 0.52, 0.42, 0.38, 0.34, 0.33, 0.31, 0.28, 0.26, 0.24, 0.24, 0.15, 0.14, 0.11]\n"
     ]
    },
    {
     "data": {
      "text/html": [
       "<font color=\"red\">amnesia</font> amnesic phenomenon mala meaning difference symptoms definition fear is word it cause effect religion feeling emotion disability memory if"
      ],
      "text/plain": [
       "<IPython.core.display.HTML object>"
      ]
     },
     "metadata": {},
     "output_type": "display_data"
    },
    {
     "name": "stdout",
     "output_type": "stream",
     "text": [
      "[2.03, 1.89, 1.85, 1.57, 1.54, 1.47, 1.41, 1.37, 1.34, 1.33, 1.3, 1.29, 1.28, 1.25, 1.25, 1.25, 1.25, 1.24, 1.22, 1.19, 1.18, 1.16, 1.16, 1.14, 1.12, 1.11, 1.06, 1.03, 1.02, 1.02, 1.01, 1.01, 0.99, 0.99, 0.98, 0.97, 0.95, 0.93, 0.91, 0.91, 0.9, 0.88, 0.88, 0.85, 0.83, 0.83, 0.82, 0.82, 0.82, 0.81]\n"
     ]
    },
    {
     "data": {
      "text/html": [
       "aerobic alzheimer puget mild exercise amnestic sound trails cognitive sex <font color=\"red\">aero</font> randomized <font color=\"red\">dementia</font> trial <font color=\"red\">exercises</font> cognition fasting impairment age <font color=\"red\">seattle</font> veterans insulin <font color=\"orange\">amnesic</font> affairs neurotrophic <font color=\"red\">trail</font> <font color=\"red\">elderly</font> plasma <font color=\"red\">anaerobic</font> controlled <font color=\"green\">effect</font> stretching women b response control intervention <font color=\"red\">va</font> cortisol research effects <font color=\"red\">sexo</font> <font color=\"red\">ad</font> clinical executive group objectives metabolism month unit"
      ],
      "text/plain": [
       "<IPython.core.display.HTML object>"
      ]
     },
     "metadata": {},
     "output_type": "display_data"
    },
    {
     "name": "stdout",
     "output_type": "stream",
     "text": [
      "-------------------\n",
      "4 MED-5002 2.8325138092041016 not-eval\n",
      "torch.Size([1, 71694]) torch.Size([1, 71694])\n",
      "[0.92, 0.72, 0.23, 0.21, 0.11, 0.07, 0.06]\n",
      "['amnesia', 'amnesic', 'memory', 'effect', 'cause', 'disability', 'is']\n",
      "[2.9, 1.99, 0.92, 0.71, 0.63, 0.59, 0.55, 0.52, 0.42, 0.38, 0.34, 0.33, 0.31, 0.28, 0.26, 0.24, 0.24, 0.15, 0.14, 0.11]\n"
     ]
    },
    {
     "data": {
      "text/html": [
       "<font color=\"red\">amnesia</font> amnesic phenomenon mala meaning difference symptoms definition fear is word it cause effect religion feeling emotion disability memory if"
      ],
      "text/plain": [
       "<IPython.core.display.HTML object>"
      ]
     },
     "metadata": {},
     "output_type": "display_data"
    },
    {
     "name": "stdout",
     "output_type": "stream",
     "text": [
      "[2.08, 1.8, 1.76, 1.74, 1.68, 1.68, 1.67, 1.65, 1.63, 1.59, 1.58, 1.55, 1.54, 1.52, 1.49, 1.29, 1.26, 1.26, 1.26, 1.25, 1.24, 1.21, 1.21, 1.21, 1.2, 1.19, 1.18, 1.14, 1.13, 1.09, 1.09, 1.06, 1.06, 1.04, 1.04, 1.03, 1.03, 1.03, 1.02, 1.0, 0.99, 0.98, 0.98, 0.97, 0.97, 0.95, 0.95, 0.92, 0.91, 0.9]\n"
     ]
    },
    {
     "data": {
      "text/html": [
       "soy tof <font color=\"red\">hawaii</font> honolulu phytoestrogens indonesian ##u <font color=\"green\">memory</font> soybean curd dementia <font color=\"red\">indonesia</font> phytoestrogen jakarta asia elderly <font color=\"red\">phyto</font> <font color=\"red\">alzheimer</font> sum decline folate temp javanese ##eda <font color=\"red\">memories</font> cognitive <font color=\"red\">cu</font> worse consumption age <font color=\"red\">##f</font> <font color=\"red\">flight</font> ##ud <font color=\"red\">hi</font> low risk sund abundant high associated ##ane <font color=\"red\">demented</font> intake impairment aging <font color=\"red\">thermal</font> bor fruit protect <font color=\"red\">bo</font>"
      ],
      "text/plain": [
       "<IPython.core.display.HTML object>"
      ]
     },
     "metadata": {},
     "output_type": "display_data"
    }
   ],
   "source": [
    "model_name = \"mlm-splade-71694\"\n",
    "this_idf = idf_tk[model_name]\n",
    "idf_vec = torch.tensor([this_idf[k] if k  in this_idf else 1 for k, v in sorted(tks[model_name].vocab.items(), key=lambda x: x[1])])\n",
    "analysis(model_name, \"PLAIN-551\", all_results, idf_vec, \"org\", 5)"
   ]
  },
  {
   "cell_type": "code",
   "execution_count": 40,
   "id": "03ef7218-9e7f-4581-9bff-655835d9a6cc",
   "metadata": {},
   "outputs": [
    {
     "data": {
      "text/plain": [
       "{'text': 'Amnesic shellfish poisoning (ASP) is caused by consumption of shellfish that have accumulated domoic acid, a neurotoxin produced by some strains of phytoplankton. The neurotoxic properties of domoic acid result in neuronal degeneration and necrosis in specific regions of the hippocampus. A serious outbreak of ASP occurred in Canada in 1987 and involved 150 reported cases, 19 hospitalisations and 4 deaths after consumption of contaminated mussels. Symptoms ranged from gastrointestinal disturbances, to neurotoxic effects such as hallucinations, memory loss and coma. Monitoring programmes are in place in numerous countries worldwide and closures of shellfish harvesting areas occur when domoic acid concentrations exceed regulatory limits. This paper reviews the chemistry, sources, metabolism and toxicology of domoic acid as well as human case reports of ASP and discusses a possible mechanism of toxicity.',\n",
       " 'title': 'Amnesic shellfish poison.'}"
      ]
     },
     "execution_count": 40,
     "metadata": {},
     "output_type": "execute_result"
    }
   ],
   "source": [
    "corpus[\"MED-4381\"]"
   ]
  },
  {
   "cell_type": "code",
   "execution_count": 39,
   "id": "00ce869d",
   "metadata": {},
   "outputs": [
    {
     "name": "stdout",
     "output_type": "stream",
     "text": [
      "path /home/gaia_data/iida.h/BEIR/model/msmarco/splade/distilSplade_0.1_0.08_bert-base-uncased-batch_size_40-2022-05-01_12-37-20\n"
     ]
    },
    {
     "name": "stderr",
     "output_type": "stream",
     "text": [
      "Truncation was not explicitly activated but `max_length` is provided a specific value, please use `truncation=True` to explicitly truncate examples to max length. Defaulting to 'longest_first' truncation strategy. If you encode pairs of sequences (GLUE-style) with the tokenizer you can select this strategy more precisely by providing a specific strategy to `truncation`.\n"
     ]
    },
    {
     "name": "stdout",
     "output_type": "stream",
     "text": [
      "PLAIN-551 amnesia\n",
      "-------------------\n",
      "0 MED-4860 4.507206916809082 not-eval\n",
      "torch.Size([1, 30522]) torch.Size([1, 30522])\n",
      "[1.55, 1.36, 0.88, 0.52, 0.12, 0.05, 0.02]\n",
      "['amnesia', 'memory', 'alzheimer', 'memories', 'symptoms', 'treatment', 'effect']\n",
      "[2.99, 1.91, 1.07, 0.81, 0.72, 0.66, 0.63, 0.54, 0.54, 0.47, 0.38, 0.38, 0.24, 0.21]\n"
     ]
    },
    {
     "data": {
      "text/html": [
       "<font color=\"red\">amnesia</font> mani , phenomenon memory alzheimer syndrome symptoms ( disease memories meaning philosophy treatment by reason psychology effect [unused14] [unused6]"
      ],
      "text/plain": [
       "<IPython.core.display.HTML object>"
      ]
     },
     "metadata": {},
     "output_type": "display_data"
    },
    {
     "name": "stdout",
     "output_type": "stream",
     "text": [
      "[2.39, 1.96, 1.89, 1.89, 1.7, 1.64, 1.59, 1.53, 1.44, 1.44, 1.43, 1.43, 1.41, 1.41, 1.35, 1.35, 1.33, 1.29, 1.23, 1.22, 1.21, 1.21, 1.12, 1.11, 1.1, 1.1, 1.07, 1.05, 1.04, 1.04, 1.03, 1.02, 1.01, 1.01, 0.99, 0.97, 0.96, 0.95, 0.94, 0.94, 0.92, 0.92, 0.89, 0.87, 0.87, 0.87, 0.86, 0.85, 0.85, 0.85]\n"
     ]
    },
    {
     "data": {
      "text/html": [
       "blue berry dementia <font color=\"green\">memory</font> ant ##berries ##berry supplement associate ##eno poly juice ##ani ##cy <font color=\"orange\">memories</font> ##ho <font color=\"orange\">alzheimer</font> adult wild glucose ##gni <font color=\"red\">elderly</font> brain inflammatory ##ation benefit <font color=\"red\">strawberry</font> paired disposal prevalence contain ##ida <font color=\"red\">supplements</font> <font color=\"red\">blake</font> ##ive ##eration <font color=\"red\">neurons</font> mit learning ne ##uro public companion ##ox moderate older for ##lic <font color=\"red\">sugar</font> prevent"
      ],
      "text/plain": [
       "<IPython.core.display.HTML object>"
      ]
     },
     "metadata": {},
     "output_type": "display_data"
    },
    {
     "name": "stdout",
     "output_type": "stream",
     "text": [
      "-------------------\n",
      "1 MED-4996 3.967149257659912 not-eval\n",
      "torch.Size([1, 30522]) torch.Size([1, 30522])\n",
      "[1.8, 1.44, 0.54, 0.21, 0.03, 0.01]\n",
      "['amnesia', 'memory', 'memories', 'alzheimer', 'effect', 'treatment']\n",
      "[2.99, 1.91, 1.07, 0.81, 0.72, 0.66, 0.63, 0.54, 0.54, 0.47, 0.38, 0.38, 0.24, 0.21]\n"
     ]
    },
    {
     "data": {
      "text/html": [
       "<font color=\"red\">amnesia</font> mani , phenomenon memory alzheimer syndrome symptoms ( disease memories meaning philosophy treatment by reason psychology effect [unused14] [unused6]"
      ],
      "text/plain": [
       "<IPython.core.display.HTML object>"
      ]
     },
     "metadata": {},
     "output_type": "display_data"
    },
    {
     "name": "stdout",
     "output_type": "stream",
     "text": [
      "[2.05, 2.0, 1.93, 1.85, 1.73, 1.72, 1.69, 1.6, 1.6, 1.52, 1.42, 1.41, 1.36, 1.29, 1.25, 1.21, 1.19, 1.18, 1.17, 1.13, 1.12, 1.12, 1.11, 1.1, 1.09, 1.07, 1.06, 1.06, 1.03, 1.03, 1.03, 1.01, 1.0, 0.98, 0.98, 0.97, 0.96, 0.93, 0.93, 0.92, 0.9, 0.88, 0.87, 0.86, 0.83, 0.83, 0.83, 0.82, 0.81, 0.8]\n"
     ]
    },
    {
     "data": {
      "text/html": [
       "##fa <font color=\"green\">memory</font> cal restriction u elderly ##oric fatty cognitive ##phic age <font color=\"orange\">memories</font> ##tro ##ories m2 syn reactive brain insulin intervention plastic <font color=\"orange\">effect</font> old <font color=\"red\">improve</font> low performance beneficial plasma <font color=\"red\">limit</font> <font color=\"red\">benefit</font> trial improvement <font color=\"red\">human</font> animal sensitivity ##uro diet increase ##weight study ne <font color=\"red\">interventions</font> healthy over humans induced factor <font color=\"red\">restrictions</font> <font color=\"red\">score</font> <font color=\"red\">subject</font>"
      ],
      "text/plain": [
       "<IPython.core.display.HTML object>"
      ]
     },
     "metadata": {},
     "output_type": "display_data"
    },
    {
     "name": "stdout",
     "output_type": "stream",
     "text": [
      "-------------------\n",
      "2 MED-2669 3.965710163116455 not-eval\n",
      "torch.Size([1, 30522]) torch.Size([1, 30522])\n",
      "[1.31, 1.16, 0.83, 0.48, 0.16, 0.08, 0.02]\n",
      "['memory', 'amnesia', 'alzheimer', 'memories', 'symptoms', 'treatment', 'effect']\n",
      "[2.99, 1.91, 1.07, 0.81, 0.72, 0.66, 0.63, 0.54, 0.54, 0.47, 0.38, 0.38, 0.24, 0.21]\n"
     ]
    },
    {
     "data": {
      "text/html": [
       "<font color=\"red\">amnesia</font> mani , phenomenon memory alzheimer syndrome symptoms ( disease memories meaning philosophy treatment by reason psychology effect [unused14] [unused6]"
      ],
      "text/plain": [
       "<IPython.core.display.HTML object>"
      ]
     },
     "metadata": {},
     "output_type": "display_data"
    },
    {
     "name": "stdout",
     "output_type": "stream",
     "text": [
      "[3.0, 2.19, 1.92, 1.88, 1.82, 1.8, 1.64, 1.51, 1.5, 1.45, 1.42, 1.35, 1.29, 1.26, 1.24, 1.23, 1.2, 1.18, 1.17, 1.11, 1.11, 1.1, 1.09, 1.06, 1.06, 1.04, 1.03, 1.02, 0.97, 0.97, 0.96, 0.94, 0.94, 0.93, 0.92, 0.92, 0.89, 0.89, 0.87, 0.86, 0.85, 0.84, 0.81, 0.81, 0.8, 0.77, 0.77, 0.77, 0.76, 0.76]\n"
     ]
    },
    {
     "data": {
      "text/html": [
       "concord grape juice cv <font color=\"green\">memory</font> dementia cognitive supplement <font color=\"red\">sterling</font> ##eno <font color=\"red\">grapes</font> poly pressure <font color=\"orange\">alzheimer</font> <font color=\"orange\">memories</font> <font color=\"red\">adult</font> <font color=\"red\">elderly</font> <font color=\"red\">boston</font> ##ono ##av inflammation decline <font color=\"red\">alcohol</font> fl <font color=\"red\">wine</font> <font color=\"red\">mental</font> inflammatory motor benefit for <font color=\"red\">contain</font> ##ation <font color=\"red\">neurons</font> older ne ##uro early ##ida signalling <font color=\"red\">blake</font> mild <font color=\"red\">supplements</font> <font color=\"red\">drink</font> <font color=\"red\">wilmington</font> <font color=\"red\">food</font> ##gni <font color=\"red\">old</font> vascular <font color=\"red\">improve</font> impairment"
      ],
      "text/plain": [
       "<IPython.core.display.HTML object>"
      ]
     },
     "metadata": {},
     "output_type": "display_data"
    },
    {
     "name": "stdout",
     "output_type": "stream",
     "text": [
      "-------------------\n",
      "3 MED-5002 3.883087158203125 not-eval\n",
      "torch.Size([1, 30522]) torch.Size([1, 30522])\n",
      "[1.3, 1.09, 0.78, 0.49, 0.02]\n",
      "['memory', 'amnesia', 'alzheimer', 'memories', 'effect']\n",
      "[2.99, 1.91, 1.07, 0.81, 0.72, 0.66, 0.63, 0.54, 0.54, 0.47, 0.38, 0.38, 0.24, 0.21]\n"
     ]
    },
    {
     "data": {
      "text/html": [
       "<font color=\"red\">amnesia</font> mani , phenomenon memory alzheimer syndrome symptoms ( disease memories meaning philosophy treatment by reason psychology effect [unused14] [unused6]"
      ],
      "text/plain": [
       "<IPython.core.display.HTML object>"
      ]
     },
     "metadata": {},
     "output_type": "display_data"
    },
    {
     "name": "stdout",
     "output_type": "stream",
     "text": [
      "[2.61, 2.4, 1.88, 1.81, 1.74, 1.7, 1.62, 1.61, 1.57, 1.53, 1.52, 1.47, 1.45, 1.45, 1.43, 1.43, 1.38, 1.38, 1.37, 1.36, 1.34, 1.28, 1.28, 1.26, 1.26, 1.26, 1.23, 1.23, 1.22, 1.21, 1.21, 1.19, 1.19, 1.18, 1.17, 1.15, 1.15, 1.14, 1.13, 1.13, 1.12, 1.09, 1.05, 1.05, 1.03, 1.01, 1.0, 0.99, 0.98, 0.98]\n"
     ]
    },
    {
     "data": {
      "text/html": [
       "soy ##fu dementia <font color=\"green\">memory</font> indonesian <font color=\"red\">hawaii</font> <font color=\"red\">indonesia</font> honolulu ##yt cognitive to elderly ##mp worse asia age ##tro ##olate jakarta high ##ert consumption <font color=\"orange\">memories</font> abundant risk positive sun ##rd ##dan decline ##be ##oes culture <font color=\"orange\">alzheimer</font> fruit javanese ph te associated <font color=\"red\">temperature</font> negative cu ##dur basel ##ese sum controlled markers protect ##entation"
      ],
      "text/plain": [
       "<IPython.core.display.HTML object>"
      ]
     },
     "metadata": {},
     "output_type": "display_data"
    },
    {
     "name": "stdout",
     "output_type": "stream",
     "text": [
      "-------------------\n",
      "4 MED-1497 3.763014316558838 not-eval\n",
      "torch.Size([1, 30522]) torch.Size([1, 30522])\n",
      "[1.58, 0.59, 0.57, 0.36, 0.33, 0.2, 0.12, 0.01]\n",
      "['alzheimer', 'phenomenon', 'disease', 'symptoms', 'memory', 'syndrome', 'meaning', 'effect']\n",
      "[2.99, 1.91, 1.07, 0.81, 0.72, 0.66, 0.63, 0.54, 0.54, 0.47, 0.38, 0.38, 0.24, 0.21]\n"
     ]
    },
    {
     "data": {
      "text/html": [
       "<font color=\"red\">amnesia</font> mani , phenomenon memory alzheimer syndrome symptoms ( disease memories meaning philosophy treatment by reason psychology effect [unused14] [unused6]"
      ],
      "text/plain": [
       "<IPython.core.display.HTML object>"
      ]
     },
     "metadata": {},
     "output_type": "display_data"
    },
    {
     "name": "stdout",
     "output_type": "stream",
     "text": [
      "[2.68, 2.39, 2.01, 1.83, 1.78, 1.71, 1.71, 1.7, 1.65, 1.63, 1.51, 1.44, 1.43, 1.43, 1.36, 1.36, 1.34, 1.33, 1.26, 1.25, 1.24, 1.22, 1.2, 1.19, 1.18, 1.16, 1.14, 1.14, 1.11, 1.11, 1.09, 1.08, 1.07, 1.06, 1.04, 1.01, 1.0, 0.97, 0.92, 0.92, 0.91, 0.89, 0.89, 0.87, 0.86, 0.85, 0.84, 0.83, 0.77, 0.76]\n"
     ]
    },
    {
     "data": {
      "text/html": [
       "tb <font color=\"green\">alzheimer</font> traumatic <font color=\"red\">dementia</font> ad brain risk ##i injury <font color=\"red\">tuberculosis</font> sequel ##ox barrier <font color=\"red\">plaque</font> ep ##vio disability <font color=\"red\">trauma</font> ##yp swelling plaques ##onal <font color=\"green\">disease</font> stress ##igen <font color=\"red\">cause</font> economic cognitive global <font color=\"red\">elderly</font> <font color=\"red\">damage</font> factor ##β ##etic ax inflammatory <font color=\"red\">disabled</font> socio ox ##vier ##uro <font color=\"red\">brains</font> ##be path <font color=\"red\">swollen</font> ##eration disrupt problem <font color=\"red\">death</font> blood"
      ],
      "text/plain": [
       "<IPython.core.display.HTML object>"
      ]
     },
     "metadata": {},
     "output_type": "display_data"
    }
   ],
   "source": [
    "model_name = 'splade'\n",
    "analysis(model_name, \"PLAIN-551\", all_results, None, \"org\", 5)"
   ]
  },
  {
   "cell_type": "code",
   "execution_count": 41,
   "id": "c08dd902-3cb3-440a-902e-c5e304368eb3",
   "metadata": {},
   "outputs": [
    {
     "data": {
      "text/plain": [
       "{'text': 'The prevalence of dementia is increasing with expansion of the older adult population. In the absence of effective therapy, preventive approaches are essential to address this public health problem. Blueberries contain polyphenolic compounds, most prominently anthocyanins, which have antioxidant and anti-inflammatory effects. In addition, anthocyanins have been associated with increased neuronal signaling in brain centers mediating memory function as well as improved glucose disposal, benefits that would be expected to mitigate neurodegeneration. We investigated the effects of daily consumption of wild blueberry juice in a sample of nine older adults with early memory changes. At 12 weeks, we observed improved paired associate learning (p = 0.009) and word list recall (p = 0.04). In addition, there were trends suggesting reduced depressive symptoms (p = 0.08) and lower glucose levels (p = 0.10). We also compared the memory performances of the blueberry subjects with a demographically-matched sample who consumed a berry placebo beverage in a companion trial of identical design and observed comparable results for paired associate learning. The findings of this preliminary study suggest that moderate-term blueberry supplementation can confer neurocognitive benefit and establish a basis for more comprehensive human trials to study preventive potential and neuronal mechanisms.',\n",
       " 'title': 'Blueberry Supplementation Improves Memory in Older Adults'}"
      ]
     },
     "execution_count": 41,
     "metadata": {},
     "output_type": "execute_result"
    }
   ],
   "source": [
    "corpus[\"MED-4860\"]"
   ]
  },
  {
   "cell_type": "code",
   "execution_count": 73,
   "id": "2858c22e",
   "metadata": {},
   "outputs": [
    {
     "name": "stdout",
     "output_type": "stream",
     "text": [
      "path /home/gaia_data/iida.h/BEIR/model/pubmed_abst/bert-base-uncased/splade_model/raw/remove/71694/distilSplade_0.1_0.08_-groups-gcb50243-iida.h-BEIR-model-pubmed_abst-bert-base-uncased-mlm_model-raw-remove--71694-batch_size_40-2022-04-12_08-52-34/\n"
     ]
    },
    {
     "name": "stderr",
     "output_type": "stream",
     "text": [
      "Truncation was not explicitly activated but `max_length` is provided a specific value, please use `truncation=True` to explicitly truncate examples to max length. Defaulting to 'longest_first' truncation strategy. If you encode pairs of sequences (GLUE-style) with the tokenizer you can select this strategy more precisely by providing a specific strategy to `truncation`.\n"
     ]
    },
    {
     "name": "stdout",
     "output_type": "stream",
     "text": [
      "PLAIN-418 Fresh fruit versus frozen--which is better?\n",
      "-------------------\n",
      "0 MED-3738 10.327356338500977 not-eval\n",
      "torch.Size([1, 71694]) torch.Size([1, 71694])\n",
      "[2.11, 1.71, 1.53, 1.19, 0.93, 0.83, 0.81, 0.75, 0.3, 0.2, 0.15, 0.13, 0.1, 0.08, 0.05]\n",
      "['fruit', 'freezing', 'fresh', 'fruits', 'benefit', 'freeze', 'than', 'frozen', 'juice', 'refrigerator', 'food', 'grapes', 'foods', 'comparison', 'do']\n",
      "[1.92, 1.84, 1.83, 1.81, 1.48, 1.45, 1.35, 1.22, 1.18, 1.03, 0.97, 0.68, 0.64, 0.62, 0.55, 0.46, 0.33, 0.33, 0.31, 0.3]\n"
     ]
    },
    {
     "data": {
      "text/html": [
       "<font color=\"red\">fruit</font> <font color=\"red\">fresh</font> <font color=\"red\">better</font> than <font color=\"red\">frozen</font> freezing fruits vs best <font color=\"red\">versus</font> benefit difference freeze refrigerator worse <font color=\"red\">-</font> advantage respect freshness food"
      ],
      "text/plain": [
       "<IPython.core.display.HTML object>"
      ]
     },
     "metadata": {},
     "output_type": "display_data"
    },
    {
     "name": "stdout",
     "output_type": "stream",
     "text": [
      "[1.83, 1.77, 1.71, 1.6, 1.56, 1.51, 1.51, 1.46, 1.43, 1.42, 1.39, 1.34, 1.31, 1.3, 1.3, 1.28, 1.24, 1.22, 1.22, 1.17, 1.15, 1.14, 1.13, 1.1, 1.1, 1.09, 1.08, 1.08, 1.07, 1.06, 1.05, 1.03, 1.03, 1.01, 1.0, 0.99, 0.96, 0.96, 0.96, 0.94, 0.94, 0.93, 0.92, 0.92, 0.92, 0.91, 0.91, 0.91, 0.91, 0.9]\n"
     ]
    },
    {
     "data": {
      "text/html": [
       "<font color=\"red\">cranberry</font> <font color=\"red\">cran</font> <font color=\"red\">anthocyanins</font> anthocyanin <font color=\"red\">flavonoid</font> <font color=\"red\">proanthocyanidins</font> <font color=\"red\">flavonoids</font> proanthocyanidin berry <font color=\"red\">sauce</font> <font color=\"red\">homemade</font> cr <font color=\"red\">canning</font> <font color=\"blue\">freeze</font> <font color=\"red\">##berries</font> <font color=\"red\">polyphenols</font> <font color=\"red\">consumption</font> <font color=\"red\">skin</font> <font color=\"red\">canned</font> <font color=\"blue\">freezing</font> <font color=\"red\">procyanidin</font> strawberries <font color=\"red\">pressing</font> <font color=\"purple\">fruit</font> <font color=\"red\">human</font> <font color=\"red\">degradation</font> <font color=\"red\">juice</font> <font color=\"red\">mg</font> <font color=\"red\">unique</font> <font color=\"red\">associated</font> polyphenol <font color=\"red\">processed</font> <font color=\"red\">complex</font> <font color=\"red\">natural</font> <font color=\"red\">jel</font> dry <font color=\"red\">peeled</font> <font color=\"red\">composition</font> <font color=\"blue\">benefit</font> <font color=\"red\">dried</font> <font color=\"red\">sweetened</font> <font color=\"red\">oxidation</font> <font color=\"red\">thermal</font> procyanidins <font color=\"red\">reconstituted</font> <font color=\"red\">commercial</font> <font color=\"red\">processing</font> <font color=\"red\">benefits</font> <font color=\"red\">flesh</font> <font color=\"red\">berries</font>"
      ],
      "text/plain": [
       "<IPython.core.display.HTML object>"
      ]
     },
     "metadata": {},
     "output_type": "display_data"
    }
   ],
   "source": [
    "model_name = \"mlm-splade-71694\"\n",
    "this_idf = idf_tk[model_name]\n",
    "idf_vec = torch.tensor([this_idf[k] if k  in this_idf else 1 for k, v in sorted(tks[model_name].vocab.items(), key=lambda x: x[1])])\n",
    "analysis(model_name, \"PLAIN-418\", all_results, idf_vec, \"org\", 1)"
   ]
  },
  {
   "cell_type": "code",
   "execution_count": null,
   "id": "d277b429",
   "metadata": {},
   "outputs": [],
   "source": [
    "model_name = 'splade'\n",
    "analysis(model_name, \"PLAIN-418\", all_results, None, \"org\", 2)"
   ]
  },
  {
   "cell_type": "code",
   "execution_count": 280,
   "id": "0fad21e1",
   "metadata": {},
   "outputs": [
    {
     "name": "stdout",
     "output_type": "stream",
     "text": [
      "path /home/gaia_data/iida.h/BEIR/model/msmarco/splade/distilSplade_0.1_0.08_bert-base-uncased-batch_size_40-2022-05-01_12-37-20\n"
     ]
    },
    {
     "name": "stderr",
     "output_type": "stream",
     "text": [
      "Truncation was not explicitly activated but `max_length` is provided a specific value, please use `truncation=True` to explicitly truncate examples to max length. Defaulting to 'longest_first' truncation strategy. If you encode pairs of sequences (GLUE-style) with the tokenizer you can select this strategy more precisely by providing a specific strategy to `truncation`.\n"
     ]
    },
    {
     "name": "stdout",
     "output_type": "stream",
     "text": [
      "-------------------\n",
      "0 MED-3692 16.833602905273438 1\n",
      "torch.Size([1, 30522]) torch.Size([1, 30522])\n",
      "[2.02, 1.87, 1.24, 0.54, 0.44, 0.39, 0.27, 0.19, 0.07]\n",
      "['##biotic', 'pro', 'antibiotics', 'bacteria', '##s', 'drug', 'for', 'use', 'treatment']\n",
      "[2.94, 2.53, 2.06, 2.04, 1.86, 1.8, 1.43, 1.06, 0.85, 0.77, 0.74, 0.74, 0.67, 0.43, 0.42, 0.33, 0.26, 0.25, 0.17, 0.15]\n",
      "['##biotic', 'pro', 'take', 'to', 'should', 'antibiotics', 'you', 'drug', 'must', 'how', 'use', 'bacteria', '##s', 'dose', 'for', 'best', 'diet', 'need', 'stay', 'eat']\n",
      "[2.22, 2.21, 2.17, 1.68, 1.63, 1.5, 1.48, 1.38, 1.3, 1.25, 1.21, 1.17, 1.13, 1.12, 1.11, 1.07, 1.04, 1.03, 0.98, 0.98, 0.98, 0.97, 0.96, 0.95, 0.93, 0.91, 0.91, 0.89, 0.87, 0.85, 0.84, 0.82, 0.8, 0.78, 0.78, 0.77, 0.76, 0.75, 0.75, 0.74, 0.7, 0.7, 0.68, 0.68, 0.66, 0.66, 0.66, 0.64, 0.64, 0.61]\n",
      "['##biotic', 'gut', 'pro', 'micro', 'random', '##bio', 'isa', 'antibiotics', 'human', 'metabolic', '##enter', 'pre', '##ta', 'ag', 'live', 'controlled', '##estinal', '##pp', 'host', 'bacteria', 'study', 'tract', 'gas', 'purpose', '##org', 'relationship', 'studies', 'health', 'clinical', '##fer', '##s', 'il', 'appropriate', 'presentation', 'prevention', '##tro', '##ina', 'metabolism', 'for', '##ologist', 'scientific', 'benefit', 'treatment', 'disease', 'humans', 'administered', '##ized', 'support', 'association', 'con']\n",
      "-------------------\n",
      "1 MED-3690 16.51994514465332 1\n",
      "torch.Size([1, 30522]) torch.Size([1, 30522])\n",
      "[1.97, 1.81, 1.22, 0.62, 0.61, 0.39, 0.35, 0.18, 0.1]\n",
      "['##biotic', 'pro', 'antibiotics', 'drug', 'bacteria', 'for', '##s', 'use', 'treatment']\n",
      "[2.94, 2.53, 2.06, 2.04, 1.86, 1.8, 1.43, 1.06, 0.85, 0.77, 0.74, 0.74, 0.67, 0.43, 0.42, 0.33, 0.26, 0.25, 0.17, 0.15]\n",
      "['##biotic', 'pro', 'take', 'to', 'should', 'antibiotics', 'you', 'drug', 'must', 'how', 'use', 'bacteria', '##s', 'dose', 'for', 'best', 'diet', 'need', 'stay', 'eat']\n",
      "[2.09, 2.04, 2.03, 1.63, 1.6, 1.59, 1.54, 1.52, 1.48, 1.45, 1.43, 1.39, 1.36, 1.35, 1.34, 1.32, 1.3, 1.27, 1.22, 1.22, 1.22, 1.21, 1.18, 1.18, 1.18, 1.18, 1.15, 1.15, 1.13, 1.13, 1.13, 1.13, 1.12, 1.1, 1.09, 1.09, 1.08, 1.06, 1.06, 1.05, 1.02, 1.0, 0.99, 0.98, 0.95, 0.94, 0.94, 0.94, 0.93, 0.89]\n",
      "['##biotic', 'lac', 'pro', 'bo', '##hea', '##ular', '##enter', 'evidence', 'innate', 'dia', '##rr', '##yce', 'adjunct', 'rot', 'antibiotics', 'gas', 'sac', 'primary', 'strain', 'adult', '##dra', '##ile', '##nos', 'int', '##llus', 'adaptive', '##ham', 'bacteria', '##ost', '##rom', 'secondary', 'for', 'effective', 'prevention', 'immunity', 'efficacy', '##rus', '##di', '##ffi', 'anti', '##itis', 'bacterial', '##avi', 'treatment', '##to', '##cha', '##rid', '##ci', '##ious', 'prevent']\n",
      "-------------------\n",
      "2 MED-3695 16.387426376342773 1\n",
      "torch.Size([1, 30522]) torch.Size([1, 30522])\n",
      "[1.95, 1.79, 1.35, 0.62, 0.43, 0.33, 0.29, 0.24, 0.09, 0.07]\n",
      "['##biotic', 'pro', 'antibiotics', 'bacteria', 'drug', '##s', 'for', 'to', 'how', 'treatment']\n",
      "[2.94, 2.53, 2.06, 2.04, 1.86, 1.8, 1.43, 1.06, 0.85, 0.77, 0.74, 0.74, 0.67, 0.43, 0.42, 0.33, 0.26, 0.25, 0.17, 0.15]\n",
      "['##biotic', 'pro', 'take', 'to', 'should', 'antibiotics', 'you', 'drug', 'must', 'how', 'use', 'bacteria', '##s', 'dose', 'for', 'best', 'diet', 'need', 'stay', 'eat']\n",
      "[2.04, 1.98, 1.72, 1.71, 1.7, 1.6, 1.56, 1.51, 1.47, 1.47, 1.47, 1.46, 1.46, 1.41, 1.41, 1.4, 1.4, 1.39, 1.33, 1.27, 1.26, 1.23, 1.23, 1.21, 1.2, 1.18, 1.16, 1.16, 1.14, 1.13, 1.13, 1.12, 1.11, 1.1, 1.1, 1.09, 1.07, 1.05, 1.01, 1.0, 0.99, 0.99, 0.99, 0.98, 0.97, 0.97, 0.96, 0.96, 0.94, 0.94]\n",
      "['##biotic', 'pro', 'aa', 'random', '##hea', 'antibiotics', '##nah', 'gut', '##rr', 'bc', 'dia', 'cisco', 'spp', 'strain', 'background', '##j', 'chalmers', 'pediatric', 'associated', 'lac', 'stool', 'prevent', 'child', 'prior', 'ib', 'micro', 'adverse', 'bacteria', '##base', 'sensitivity', '##ular', 'anti', 'subgroup', '##ora', 'prescribed', 'alter', 'balance', 'prevention', 'co', 'risk', 'controlled', '##estinal', 'criteria', '##ccus', '##dc', '##fl', '##cho', 'am', '##d', 'cochrane']\n",
      "-------------------\n",
      "3 MED-3677 16.122026443481445 1\n",
      "torch.Size([1, 30522]) torch.Size([1, 30522])\n",
      "[2.0, 1.79, 1.22, 0.6, 0.39, 0.27, 0.2, 0.16, 0.12, 0.05, 0.03]\n",
      "['##biotic', 'pro', 'antibiotics', 'bacteria', '##s', 'how', 'use', 'drug', 'for', 'need', 'to']\n",
      "[2.94, 2.53, 2.06, 2.04, 1.86, 1.8, 1.43, 1.06, 0.85, 0.77, 0.74, 0.74, 0.67, 0.43, 0.42, 0.33, 0.26, 0.25, 0.17, 0.15]\n",
      "['##biotic', 'pro', 'take', 'to', 'should', 'antibiotics', 'you', 'drug', 'must', 'how', 'use', 'bacteria', '##s', 'dose', 'for', 'best', 'diet', 'need', 'stay', 'eat']\n",
      "[2.17, 1.98, 1.74, 1.65, 1.63, 1.53, 1.38, 1.36, 1.32, 1.32, 1.3, 1.25, 1.22, 1.18, 1.16, 1.13, 1.12, 1.11, 1.1, 1.1, 1.05, 1.03, 1.02, 1.01, 0.98, 0.97, 0.96, 0.96, 0.92, 0.92, 0.91, 0.89, 0.87, 0.86, 0.85, 0.84, 0.83, 0.82, 0.82, 0.81, 0.8, 0.79, 0.78, 0.76, 0.76, 0.75, 0.75, 0.74, 0.74, 0.73]\n",
      "['##biotic', 'pro', 'micro', 'delivery', '##active', '##rino', '##uro', 'wiley', 'antibiotics', 'un', '##chan', 'synth', 'end', '##oc', 'ne', 'vehicle', '##bial', 'bacteria', '##gni', 'hypothesis', 'compound', 'function', 'interactive', 'mechanism', 'brain', '##logy', '##bio', 'framework', 'synthesis', 'me', 'ing', 'neuroscience', '##estinal', 'trans', '##istic', 'role', 'int', '##sal', '##her', '##phy', 'produced', 'clinical', '##chemical', 'design', 'based', 'bacterial', 'receptor', 'production', 'environment', '##ifying']\n",
      "-------------------\n",
      "4 MED-3679 15.923931121826172 2\n",
      "torch.Size([1, 30522]) torch.Size([1, 30522])\n",
      "[1.93, 1.75, 1.2, 0.98, 0.72, 0.65, 0.2, 0.2, 0.19, 0.18, 0.09, 0.01]\n",
      "['##biotic', 'pro', 'antibiotics', 'take', 'bacteria', 'should', 'drug', 'how', '##s', 'best', 'eat', 'stay']\n",
      "[2.94, 2.53, 2.06, 2.04, 1.86, 1.8, 1.43, 1.06, 0.85, 0.77, 0.74, 0.74, 0.67, 0.43, 0.42, 0.33, 0.26, 0.25, 0.17, 0.15]\n",
      "['##biotic', 'pro', 'take', 'to', 'should', 'antibiotics', 'you', 'drug', 'must', 'how', 'use', 'bacteria', '##s', 'dose', 'for', 'best', 'diet', 'need', 'stay', 'eat']\n",
      "[2.0, 2.0, 1.88, 1.77, 1.59, 1.5, 1.45, 1.43, 1.43, 1.42, 1.4, 1.4, 1.38, 1.34, 1.31, 1.31, 1.3, 1.3, 1.27, 1.27, 1.26, 1.25, 1.24, 1.24, 1.23, 1.22, 1.21, 1.2, 1.18, 1.18, 1.16, 1.16, 1.15, 1.13, 1.13, 1.12, 1.12, 1.11, 1.1, 1.1, 1.09, 1.09, 1.07, 1.06, 1.04, 1.04, 1.04, 1.03, 1.02, 1.0]\n",
      "['transit', '##biotic', 'pro', '##tec', 'lac', 'buffer', '##vet', '##ular', 'commercial', 'bacteria', 'model', 'micro', '##uel', '##fl', 'capsule', 'before', 'antibiotics', 'vitro', '##icus', 'impact', 'capacity', '##estinal', 'bacterial', 'iv', '##idi', 'stomach', 'digest', '##at', 'meal', 'food', 'during', 'milk', '##ham', 'protein', 'gas', 'effect', 'bo', '##or', 'upper', '##ume', 'tract', 'without', 'after', 'r', '##nos', 'strain', 'multi', 'survival', '##den', '##lli']\n",
      "-------------------\n",
      "5 MED-3680 15.400592803955078 1\n",
      "torch.Size([1, 30522]) torch.Size([1, 30522])\n",
      "[1.92, 1.77, 1.16, 0.53, 0.48, 0.34, 0.28, 0.24, 0.05]\n",
      "['##biotic', 'pro', 'antibiotics', 'drug', 'bacteria', 'for', '##s', 'dose', 'treatment']\n",
      "[2.94, 2.53, 2.06, 2.04, 1.86, 1.8, 1.43, 1.06, 0.85, 0.77, 0.74, 0.74, 0.67, 0.43, 0.42, 0.33, 0.26, 0.25, 0.17, 0.15]\n",
      "['##biotic', 'pro', 'take', 'to', 'should', 'antibiotics', 'you', 'drug', 'must', 'how', 'use', 'bacteria', '##s', 'dose', 'for', 'best', 'diet', 'need', 'stay', 'eat']\n",
      "[1.98, 1.93, 1.79, 1.71, 1.71, 1.67, 1.6, 1.5, 1.48, 1.47, 1.33, 1.3, 1.27, 1.26, 1.24, 1.24, 1.23, 1.17, 1.15, 1.14, 1.13, 1.13, 1.12, 1.11, 1.11, 1.1, 1.08, 1.07, 1.06, 1.05, 1.05, 1.04, 1.03, 1.03, 1.0, 1.0, 0.99, 0.97, 0.95, 0.94, 0.91, 0.89, 0.89, 0.88, 0.87, 0.86, 0.83, 0.81, 0.79, 0.75]\n",
      "['##biotic', 'pro', 'rc', 'respiratory', 'acute', 'cochrane', '##vid', 'upper', 'ur', 'china', 'urine', 'tract', '##tis', '##ti', 'ratio', 'infection', 'antibiotics', 'background', 'rate', 'percentage', 'beijing', 'adverse', 'md', 'improve', 'prevent', 'immune', 'place', '95', 'benefit', 'chinese', '##estinal', 'strain', 'breath', 'random', 'controlled', 'evidence', '##bo', 'side', 'for', 'trial', 'ratios', 'meta', 'similar', 'regulation', 'prescription', 'effect', 'bacteria', 'percent', 'duration', 'trials']\n",
      "-------------------\n",
      "6 MED-3693 15.027708053588867 1\n",
      "torch.Size([1, 30522]) torch.Size([1, 30522])\n",
      "[1.92, 1.75, 1.2, 0.65, 0.33, 0.28, 0.25, 0.12, 0.07]\n",
      "['##biotic', 'pro', 'antibiotics', 'bacteria', '##s', 'for', 'drug', 'need', 'treatment']\n",
      "[2.94, 2.53, 2.06, 2.04, 1.86, 1.8, 1.43, 1.06, 0.85, 0.77, 0.74, 0.74, 0.67, 0.43, 0.42, 0.33, 0.26, 0.25, 0.17, 0.15]\n",
      "['##biotic', 'pro', 'take', 'to', 'should', 'antibiotics', 'you', 'drug', 'must', 'how', 'use', 'bacteria', '##s', 'dose', 'for', 'best', 'diet', 'need', 'stay', 'eat']\n",
      "[1.98, 1.89, 1.69, 1.6, 1.54, 1.43, 1.38, 1.35, 1.32, 1.31, 1.29, 1.23, 1.2, 1.2, 1.06, 1.05, 1.03, 1.02, 0.99, 0.99, 0.97, 0.91, 0.9, 0.89, 0.88, 0.88, 0.86, 0.84, 0.84, 0.83, 0.82, 0.82, 0.8, 0.78, 0.78, 0.77, 0.77, 0.74, 0.74, 0.73, 0.68, 0.67, 0.67, 0.67, 0.67, 0.66, 0.65, 0.65, 0.65, 0.63]\n",
      "['##biotic', 'pro', 'commercial', 'conform', 'micro', 'available', '##bio', 'international', 'evaluation', 'viable', 'antibiotics', 'bacteria', 'contamination', 'label', 'usa', '##logical', 'widely', 'product', 'production', 'study', 'used', 'market', 'cross', 'quantity', 'guidelines', 'test', 'bacterial', '2009', 'control', 'storage', 'assessment', 'contaminated', 'worldwide', 'treat', 'products', 'for', 'is', 'identification', '2008', 'percentage', 'global', 'percent', 'bio', 'species', '##logy', '##ity', 'us', 'treatment', 'diseases', 'results']\n",
      "-------------------\n",
      "7 MED-3675 15.019323348999023 1\n",
      "torch.Size([1, 30522]) torch.Size([1, 30522])\n",
      "[1.96, 1.72, 1.2, 0.67, 0.61, 0.23]\n",
      "['##biotic', 'pro', 'antibiotics', 'bacteria', '##s', 'drug']\n",
      "[2.94, 2.53, 2.06, 2.04, 1.86, 1.8, 1.43, 1.06, 0.85, 0.77, 0.74, 0.74, 0.67, 0.43, 0.42, 0.33, 0.26, 0.25, 0.17, 0.15]\n",
      "['##biotic', 'pro', 'take', 'to', 'should', 'antibiotics', 'you', 'drug', 'must', 'how', 'use', 'bacteria', '##s', 'dose', 'for', 'best', 'diet', 'need', 'stay', 'eat']\n",
      "[2.76, 2.14, 2.07, 2.05, 1.95, 1.88, 1.83, 1.81, 1.75, 1.71, 1.66, 1.65, 1.64, 1.62, 1.54, 1.51, 1.47, 1.46, 1.44, 1.41, 1.39, 1.39, 1.36, 1.34, 1.34, 1.32, 1.31, 1.3, 1.3, 1.29, 1.29, 1.27, 1.26, 1.21, 1.21, 1.19, 1.16, 1.13, 1.13, 1.13, 1.11, 1.11, 1.09, 1.07, 1.07, 1.07, 1.05, 0.99, 0.99, 0.98]\n",
      "['cf', 'lc', '##biotic', 'beck', 'fatigue', 'anxiety', 'lac', 'pro', 'gut', 'chronic', '##matic', '##rot', 'random', 'pilot', 'shi', 'mood', 'tired', 'flora', 'so', 'case', 'emotional', 'functional', 'stool', 'syndrome', 'complex', 'micro', 'mediated', 'bacteria', 'blind', 'controlled', 'antibiotics', '##s', 'pathogen', 'place', 'emotion', 'strain', 'int', 'double', '##bo', 'depression', 'et', 'anxious', 'interface', '##estinal', 'frequent', 'study', 'pilots', 'control', '##iology', '##llus']\n",
      "-------------------\n",
      "8 MED-3691 14.546592712402344 1\n",
      "torch.Size([1, 30522]) torch.Size([1, 30522])\n",
      "[1.92, 1.67, 1.19, 0.46, 0.41, 0.33, 0.23, 0.11, 0.02]\n",
      "['##biotic', 'pro', 'antibiotics', 'bacteria', '##s', 'use', 'dose', 'drug', 'dos']\n",
      "[2.94, 2.53, 2.06, 2.04, 1.86, 1.8, 1.43, 1.06, 0.85, 0.77, 0.74, 0.74, 0.67, 0.43, 0.42, 0.33, 0.26, 0.25, 0.17, 0.15]\n",
      "['##biotic', 'pro', 'take', 'to', 'should', 'antibiotics', 'you', 'drug', 'must', 'how', 'use', 'bacteria', '##s', 'dose', 'for', 'best', 'diet', 'need', 'stay', 'eat']\n",
      "[1.97, 1.7, 1.64, 1.62, 1.54, 1.46, 1.45, 1.44, 1.43, 1.4, 1.39, 1.37, 1.33, 1.33, 1.32, 1.3, 1.29, 1.29, 1.28, 1.27, 1.27, 1.26, 1.23, 1.23, 1.22, 1.21, 1.2, 1.18, 1.17, 1.17, 1.17, 1.13, 1.1, 1.08, 1.06, 1.06, 1.05, 1.05, 1.04, 1.03, 0.99, 0.99, 0.98, 0.98, 0.97, 0.97, 0.93, 0.92, 0.9, 0.89]\n",
      "['##biotic', 'pro', 'stool', 'go', '##ter', 'md', '95', 'pre', 'gala', 'nec', 'rc', 'infant', 'weight', 'sep', 'milk', 'formula', '##hari', 'gain', '##rot', 'ci', 'antibiotics', 'het', '##rr', 'child', '##cho', 'low', '##lit', 'n', '##os', '##hea', 'breast', 'rr', 'f', 'length', 'percentage', 'random', 'enter', '##igo', '##oco', 'baby', 'feed', 'ratio', 'study', 'birth', 'fr', 'review', 'cochrane', 'systematic', 'conventional', '##eit']\n",
      "-------------------\n",
      "9 MED-3676 14.530860900878906 1\n",
      "torch.Size([1, 30522]) torch.Size([1, 30522])\n",
      "[1.91, 1.61, 1.15, 0.59, 0.58, 0.51, 0.5, 0.17, 0.11, 0.02]\n",
      "['##biotic', 'pro', 'antibiotics', 'bacteria', 'drug', 'take', '##s', 'dose', 'for', 'dos']\n",
      "[2.94, 2.53, 2.06, 2.04, 1.86, 1.8, 1.43, 1.06, 0.85, 0.77, 0.74, 0.74, 0.67, 0.43, 0.42, 0.33, 0.26, 0.25, 0.17, 0.15]\n",
      "['##biotic', 'pro', 'take', 'to', 'should', 'antibiotics', 'you', 'drug', 'must', 'how', 'use', 'bacteria', '##s', 'dose', 'for', 'best', 'diet', 'need', 'stay', 'eat']\n",
      "[2.19, 1.96, 1.95, 1.86, 1.86, 1.78, 1.78, 1.74, 1.73, 1.7, 1.7, 1.7, 1.58, 1.56, 1.55, 1.51, 1.51, 1.49, 1.48, 1.48, 1.48, 1.47, 1.45, 1.42, 1.39, 1.38, 1.37, 1.35, 1.31, 1.29, 1.29, 1.24, 1.23, 1.22, 1.2, 1.2, 1.19, 1.19, 1.18, 1.17, 1.16, 1.16, 1.15, 1.14, 1.13, 1.13, 1.12, 1.11, 1.11, 1.1]\n",
      "['ufc', 'lac', '##biotic', '##vet', 'hopkins', 'anxiety', 'rats', 'rat', 'p', 'cc', '##f', '##icus', 'pro', 'stress', '##ytic', 'gut', 'volunteers', 'formulation', '90', 'hs', '##xi', '##pic', '##bio', 'long', 'depression', 'coping', 'global', '##tro', '##01', 'had', '##estinal', 'bi', 'score', 'assessment', '##ron', 'antibiotics', 'volunteer', '##um', 'mood', '##75', 'anger', 'scale', '##sol', 'psycho', 'random', '##ium', 'r', '##llus', '##to', 'micro']\n",
      "-------------------\n",
      "10 MED-3688 14.393537521362305 1\n",
      "torch.Size([1, 30522]) torch.Size([1, 30522])\n",
      "[1.82, 1.74, 1.2, 0.59, 0.51, 0.41, 0.36, 0.1, 0.08, 0.07]\n",
      "['##biotic', 'pro', 'antibiotics', 'drug', 'bacteria', 'take', 'dose', 'dos', 'treatment', 'for']\n",
      "[2.94, 2.53, 2.06, 2.04, 1.86, 1.8, 1.43, 1.06, 0.85, 0.77, 0.74, 0.74, 0.67, 0.43, 0.42, 0.33, 0.26, 0.25, 0.17, 0.15]\n",
      "['##biotic', 'pro', 'take', 'to', 'should', 'antibiotics', 'you', 'drug', 'must', 'how', 'use', 'bacteria', '##s', 'dose', 'for', 'best', 'diet', 'need', 'stay', 'eat']\n",
      "[2.28, 2.13, 2.06, 1.86, 1.79, 1.79, 1.75, 1.73, 1.57, 1.56, 1.5, 1.48, 1.48, 1.47, 1.46, 1.43, 1.41, 1.4, 1.4, 1.4, 1.36, 1.31, 1.3, 1.29, 1.29, 1.28, 1.27, 1.23, 1.22, 1.22, 1.21, 1.18, 1.17, 1.17, 1.16, 1.14, 1.13, 1.11, 1.11, 1.11, 1.08, 1.07, 1.07, 1.06, 1.05, 1.05, 1.05, 1.04, 1.03, 1.02]\n",
      "['cd', 'lac', 'proprietary', 'pro', 'case', '##ad', '##biotic', 'aa', 'capsule', '##80', '##hea', 'cl', '##ffi', '##hil', '##hyl', 'response', 'efficacy', 'time', 'acid', 'place', '##85', '##rr', 'incidence', 'gas', '##ost', 'antibiotics', 'bio', '##ax', 'formula', 'prop', 'associated', '##patient', '##estinal', '##llus', 'dia', 'cds', 'lb', '##us', 'k', '##rid', '##to', '##ium', 'duration', '##ra', 'blend', 'hospitalized', '##d', 'organisms', 'double', 'live']\n",
      "-------------------\n",
      "11 MED-3686 13.944794654846191 1\n",
      "torch.Size([1, 30522]) torch.Size([1, 30522])\n",
      "[1.85, 1.54, 1.05, 0.62, 0.45, 0.29, 0.23, 0.22, 0.2, 0.09, 0.05, 0.05, 0.02]\n",
      "['##biotic', 'pro', 'antibiotics', 'drug', 'bacteria', 'dose', 'for', 'diet', 'how', 'to', 'dos', 'eat', 'treatment']\n",
      "[2.94, 2.53, 2.06, 2.04, 1.86, 1.8, 1.43, 1.06, 0.85, 0.77, 0.74, 0.74, 0.67, 0.43, 0.42, 0.33, 0.26, 0.25, 0.17, 0.15]\n",
      "['##biotic', 'pro', 'take', 'to', 'should', 'antibiotics', 'you', 'drug', 'must', 'how', 'use', 'bacteria', '##s', 'dose', 'for', 'best', 'diet', 'need', 'stay', 'eat']\n",
      "[2.29, 1.86, 1.83, 1.82, 1.64, 1.63, 1.63, 1.6, 1.59, 1.54, 1.52, 1.48, 1.45, 1.45, 1.39, 1.39, 1.37, 1.37, 1.37, 1.35, 1.33, 1.33, 1.3, 1.29, 1.26, 1.25, 1.22, 1.22, 1.21, 1.21, 1.2, 1.19, 1.19, 1.19, 1.19, 1.18, 1.16, 1.15, 1.14, 1.14, 1.13, 1.12, 1.11, 1.07, 1.06, 1.05, 1.04, 1.03, 1.02, 1.0]\n",
      "['lac', 'cd', 'elderly', '##biotic', 'bi', '##ago', 'vivo', '##01', 'immunity', 'immune', 'milk', '##tis', 'killer', 'pro', '01', 'b', 'enhancement', '##tre', '##ium', 'w', 'restore', '##9', 'dietary', '##fi', 'supplement', 'le', 'age', 'effective', 'old', 'stage', 'volunteers', 'h', 'peripheral', 'background', 'decline', 'cellular', '##do', 'tumor', 'interventions', '##uk', 'safe', '##k', '##out', 'natural', 'kill', '##cter', 'antibiotics', 'benefit', 'mono', 'aging']\n",
      "-------------------\n",
      "12 MED-3687 13.760698318481445 1\n",
      "torch.Size([1, 30522]) torch.Size([1, 30522])\n",
      "[1.87, 1.65, 1.11, 0.83, 0.15, 0.05, 0.02]\n",
      "['##biotic', 'pro', 'antibiotics', 'bacteria', 'for', 'drug', 'qualification']\n",
      "[2.94, 2.53, 2.06, 2.04, 1.86, 1.8, 1.43, 1.06, 0.85, 0.77, 0.74, 0.74, 0.67, 0.43, 0.42, 0.33, 0.26, 0.25, 0.17, 0.15]\n",
      "['##biotic', 'pro', 'take', 'to', 'should', 'antibiotics', 'you', 'drug', 'must', 'how', 'use', 'bacteria', '##s', 'dose', 'for', 'best', 'diet', 'need', 'stay', 'eat']\n",
      "[2.19, 2.06, 2.01, 1.86, 1.8, 1.76, 1.74, 1.67, 1.63, 1.59, 1.58, 1.55, 1.53, 1.51, 1.49, 1.49, 1.49, 1.41, 1.39, 1.36, 1.35, 1.35, 1.33, 1.32, 1.3, 1.3, 1.29, 1.26, 1.25, 1.25, 1.25, 1.23, 1.23, 1.22, 1.21, 1.21, 1.2, 1.2, 1.19, 1.19, 1.18, 1.18, 1.17, 1.15, 1.15, 1.13, 1.13, 1.12, 1.1, 1.09]\n",
      "['lac', '##aru', '##bm', '##biotic', '##vier', 'novel', 'bacteria', 'pro', 'acid', '##cht', 'raw', 'strain', '##6', 'auto', 'candidate', 'coli', '##hon', 'isolated', '##tok', '##ota', 'else', 'media', 'fruit', 'il', '##co', 'mediation', 'plant', 'immune', 'functional', 'candidates', '##orra', '##hesive', '##kin', 'mega', 'simulated', '##hering', 'human', 'potential', 'vegetable', 'f', 'study', '##xin', 'peripheral', 'mono', 'dependent', 'antibiotics', 'p', 'ca', '##os', '##tor']\n",
      "-------------------\n",
      "13 MED-4266 13.542424201965332 not-eval\n",
      "torch.Size([1, 30522]) torch.Size([1, 30522])\n",
      "[1.87, 1.62, 1.1, 0.46, 0.28, 0.27, 0.21, 0.17, 0.09]\n",
      "['##biotic', 'pro', 'antibiotics', 'bacteria', 'for', '##s', 'diet', 'how', 'eat']\n",
      "[2.94, 2.53, 2.06, 2.04, 1.86, 1.8, 1.43, 1.06, 0.85, 0.77, 0.74, 0.74, 0.67, 0.43, 0.42, 0.33, 0.26, 0.25, 0.17, 0.15]\n",
      "['##biotic', 'pro', 'take', 'to', 'should', 'antibiotics', 'you', 'drug', 'must', 'how', 'use', 'bacteria', '##s', 'dose', 'for', 'best', 'diet', 'need', 'stay', 'eat']\n",
      "[2.08, 1.93, 1.87, 1.86, 1.86, 1.73, 1.72, 1.7, 1.7, 1.63, 1.61, 1.55, 1.51, 1.5, 1.48, 1.45, 1.42, 1.4, 1.39, 1.36, 1.35, 1.34, 1.34, 1.33, 1.3, 1.29, 1.28, 1.28, 1.28, 1.27, 1.27, 1.27, 1.25, 1.24, 1.24, 1.23, 1.23, 1.22, 1.18, 1.17, 1.16, 1.16, 1.15, 1.14, 1.14, 1.12, 1.12, 1.11, 1.11, 1.1]\n",
      "['##eno', 'poly', '##ete', 'firm', '##biotic', 'dairy', 'gut', 'soy', 'obe', 'pear', 'pro', 'cleavage', 'micro', '##grad', 'weight', 'ba', '##cter', '##gur', 'community', '##balance', 'low', '##bio', 'metabolism', '##oid', 'situ', '##ute', 'yo', '##ava', 'lac', 'milk', '##ly', 'int', '##cos', '##lot', '##estinal', 'hybrid', 'g', 'high', 'relative', '##ph', '##oides', 'interaction', 'ratio', 'bio', 'non', 'enzymes', 'fluorescent', 'antibiotics', '##ta', 'increase']\n",
      "-------------------\n",
      "14 MED-1006 13.454708099365234 not-eval\n",
      "torch.Size([1, 30522]) torch.Size([1, 30522])\n",
      "[1.79, 1.42, 1.06, 0.73, 0.57, 0.3, 0.24, 0.14, 0.11, 0.03]\n",
      "['##biotic', 'pro', 'antibiotics', 'drug', '##s', 'for', 'to', 'diet', 'treatment', 'bacteria']\n",
      "[2.94, 2.53, 2.06, 2.04, 1.86, 1.8, 1.43, 1.06, 0.85, 0.77, 0.74, 0.74, 0.67, 0.43, 0.42, 0.33, 0.26, 0.25, 0.17, 0.15]\n",
      "['##biotic', 'pro', 'take', 'to', 'should', 'antibiotics', 'you', 'drug', 'must', 'how', 'use', 'bacteria', '##s', 'dose', 'for', 'best', 'diet', 'need', 'stay', 'eat']\n",
      "[2.67, 2.1, 1.91, 1.8, 1.73, 1.72, 1.7, 1.69, 1.69, 1.66, 1.63, 1.52, 1.51, 1.46, 1.45, 1.44, 1.43, 1.42, 1.42, 1.4, 1.4, 1.38, 1.38, 1.35, 1.35, 1.31, 1.28, 1.28, 1.27, 1.27, 1.26, 1.25, 1.2, 1.2, 1.2, 1.2, 1.19, 1.19, 1.17, 1.16, 1.16, 1.15, 1.14, 1.14, 1.14, 1.13, 1.13, 1.12, 1.1, 1.09]\n",
      "['ib', 'tc', 'stool', 'stomach', 'bow', 'lina', 'functional', 'abdominal', '##biotic', '##min', '##oton', '##rita', 'pain', 'ir', '##tron', 'lax', 'pepper', '##gul', 'cognitive', 'tri', '##sti', 'evidence', '##any', 'married', '##upt', 'coli', 'primary', 'fiber', 'chloride', 'syndrome', '##pati', 'pro', 'meta', '##cy', '##press', '##ron', 'ramos', 'lu', '##ht', 'cy', '##s', '##yp', '##otide', '##el', 'treatment', '##estinal', '##od', '##not', '##mo', '##sp']\n",
      "-------------------\n",
      "15 MED-4762 13.050004959106445 not-eval\n",
      "torch.Size([1, 30522]) torch.Size([1, 30522])\n",
      "[1.88, 1.7, 1.15, 0.41, 0.19, 0.15, 0.12, 0.11, 0.08, 0.02, 0.01]\n",
      "['##biotic', 'pro', 'antibiotics', 'bacteria', 'use', 'dose', 'drug', 'diet', 'treatment', 'stay', 'for']\n",
      "[2.94, 2.53, 2.06, 2.04, 1.86, 1.8, 1.43, 1.06, 0.85, 0.77, 0.74, 0.74, 0.67, 0.43, 0.42, 0.33, 0.26, 0.25, 0.17, 0.15]\n",
      "['##biotic', 'pro', 'take', 'to', 'should', 'antibiotics', 'you', 'drug', 'must', 'how', 'use', 'bacteria', '##s', 'dose', 'for', 'best', 'diet', 'need', 'stay', 'eat']\n",
      "[1.89, 1.81, 1.77, 1.66, 1.63, 1.61, 1.55, 1.54, 1.47, 1.47, 1.36, 1.35, 1.35, 1.33, 1.33, 1.3, 1.28, 1.24, 1.23, 1.22, 1.21, 1.2, 1.2, 1.14, 1.13, 1.13, 1.13, 1.12, 1.09, 1.09, 1.07, 1.02, 1.01, 1.01, 1.01, 1.0, 0.96, 0.96, 0.94, 0.94, 0.91, 0.9, 0.9, 0.89, 0.87, 0.87, 0.84, 0.84, 0.82, 0.82]\n",
      "['##biotic', 'influenza', 'pro', 'rhino', 'cold', 'lac', 'flu', 'winter', '##fm', 'cough', 'strain', 'child', 'blind', 'incidence', '##hil', 'duration', 'age', 'fever', 'place', 'objective', 'bi', 'effect', 'antibiotics', 'consumption', 'double', '##hea', 'coughing', 'time', 'school', '##rr', '##bo', 'percentage', 'controlled', 'sy', 'prescription', 'children', 'nc', 'n', 'season', '6', 'twice', 'often', 'safe', 'daily', 'acid', 'eligible', 'study', 'effective', '##fi', 'l']\n",
      "-------------------\n",
      "16 MED-3683 13.00595474243164 1\n",
      "torch.Size([1, 30522]) torch.Size([1, 30522])\n",
      "[1.81, 1.61, 1.06, 0.6, 0.53, 0.27, 0.25, 0.23, 0.04, 0.02, 0.02]\n",
      "['##biotic', 'pro', 'antibiotics', 'bacteria', 'drug', 'for', 'take', 'dose', 'treatment', 'eat', 'stay']\n",
      "[2.94, 2.53, 2.06, 2.04, 1.86, 1.8, 1.43, 1.06, 0.85, 0.77, 0.74, 0.74, 0.67, 0.43, 0.42, 0.33, 0.26, 0.25, 0.17, 0.15]\n",
      "['##biotic', 'pro', 'take', 'to', 'should', 'antibiotics', 'you', 'drug', 'must', 'how', 'use', 'bacteria', '##s', 'dose', 'for', 'best', 'diet', 'need', 'stay', 'eat']\n",
      "[2.35, 1.95, 1.92, 1.85, 1.74, 1.74, 1.63, 1.63, 1.59, 1.55, 1.53, 1.52, 1.5, 1.45, 1.41, 1.4, 1.39, 1.39, 1.37, 1.36, 1.32, 1.27, 1.26, 1.25, 1.24, 1.23, 1.23, 1.22, 1.21, 1.21, 1.2, 1.2, 1.19, 1.18, 1.15, 1.14, 1.13, 1.12, 1.1, 1.07, 1.06, 1.05, 1.05, 1.04, 1.03, 1.03, 1.0, 0.98, 0.95, 0.95]\n",
      "['lac', '##aru', 'ds', '##fe', 'cold', '##biotic', '##case', '134', 'pro', '870', 'heal', 'para', 'cf', 'random', 'common', 'blind', 'plant', 'time', 'double', '153', 'control', '##lli', '9', 'controlled', '##llus', 'reduce', '##34', 'strain', 'consumption', '##to', 'study', '##ym', '##ci', 'score', '##0', 'immune', '152', 'bacteria', '##ocytes', 'infection', 'natural', 'viral', 'antibiotics', '##ba', 'period', 'place', '##ary', 'risk', 'group', 'virus']\n",
      "-------------------\n",
      "17 MED-2482 12.695330619812012 not-eval\n",
      "torch.Size([1, 30522]) torch.Size([1, 30522])\n",
      "[1.88, 1.73, 1.11, 0.59, 0.58, 0.24, 0.1, 0.08]\n",
      "['##biotic', 'pro', 'antibiotics', 'bacteria', 'drug', 'for', 'dose', 'treatment']\n",
      "[2.94, 2.53, 2.06, 2.04, 1.86, 1.8, 1.43, 1.06, 0.85, 0.77, 0.74, 0.74, 0.67, 0.43, 0.42, 0.33, 0.26, 0.25, 0.17, 0.15]\n",
      "['##biotic', 'pro', 'take', 'to', 'should', 'antibiotics', 'you', 'drug', 'must', 'how', 'use', 'bacteria', '##s', 'dose', 'for', 'best', 'diet', 'need', 'stay', 'eat']\n",
      "[2.23, 2.15, 1.99, 1.89, 1.89, 1.85, 1.85, 1.84, 1.69, 1.61, 1.56, 1.5, 1.48, 1.48, 1.47, 1.47, 1.46, 1.43, 1.39, 1.31, 1.3, 1.3, 1.29, 1.28, 1.28, 1.27, 1.23, 1.19, 1.17, 1.17, 1.17, 1.14, 1.14, 1.14, 1.14, 1.12, 1.1, 1.1, 1.08, 1.08, 1.07, 1.06, 1.06, 1.05, 1.01, 1.01, 0.97, 0.96, 0.96, 0.96]\n",
      "['lac', '##bm', '##hini', 'asthma', '##biotic', '##fr', 'ar', 'pro', 'allergic', '##5', '##ser', 'atop', 'der', '##rator', 'pe', '##way', 'air', 'random', 'gas', 'school', '##gul', 'supplement', 'place', 'r', '##llus', 'pulmonary', 'child', '##mat', '##to', '##tis', 'controlled', '##bo', 'trial', 'mono', 'antibiotics', 'time', '##tok', 'top', 'bacteria', 'controversial', 'l', '##ergy', 'p', 'daily', '##itis', '##ci', 'im', 'administration', 'specific', 'age']\n",
      "-------------------\n",
      "18 MED-3681 12.200784683227539 1\n",
      "torch.Size([1, 30522]) torch.Size([1, 30522])\n",
      "[1.76, 1.37, 0.8, 0.72, 0.43, 0.22, 0.21, 0.13, 0.06, 0.06]\n",
      "['##biotic', 'pro', 'antibiotics', 'bacteria', 'drug', 'dose', 'diet', 'for', 'eat', 'to']\n",
      "[2.94, 2.53, 2.06, 2.04, 1.86, 1.8, 1.43, 1.06, 0.85, 0.77, 0.74, 0.74, 0.67, 0.43, 0.42, 0.33, 0.26, 0.25, 0.17, 0.15]\n",
      "['##biotic', 'pro', 'take', 'to', 'should', 'antibiotics', 'you', 'drug', 'must', 'how', 'use', 'bacteria', '##s', 'dose', 'for', 'best', 'diet', 'need', 'stay', 'eat']\n",
      "[2.24, 2.22, 2.18, 2.15, 2.05, 1.88, 1.74, 1.74, 1.67, 1.66, 1.64, 1.6, 1.6, 1.58, 1.57, 1.56, 1.55, 1.54, 1.53, 1.53, 1.52, 1.5, 1.45, 1.45, 1.44, 1.42, 1.38, 1.37, 1.37, 1.35, 1.35, 1.34, 1.31, 1.31, 1.29, 1.26, 1.24, 1.23, 1.21, 1.18, 1.18, 1.18, 1.16, 1.16, 1.16, 1.15, 1.13, 1.13, 1.13, 1.12]\n",
      "['lac', 'milk', '##fm', 'nk', 'systemic', 'pm', 'immunity', '##ham', 'l', 'fat', '##biotic', '##nos', '##ago', 'immune', 'killer', 'r', 'cf', '##tituted', 'taipei', 'acid', '##00', 'taiwan', '##tose', 'low', 'bacteria', 'vitro', 'peripheral', 'le', 'consumption', 'natural', 'h', '##1', '##h', 'tumor', 'intervention', 'hydro', 'stage', '##uk', '##us', 'taiwanese', 'objective', 'effect', 'time', 'pro', 'age', 'capacity', 'wash', 'trial', 'dietary', '##ocytes']\n",
      "-------------------\n",
      "19 MED-3856 11.711984634399414 not-eval\n",
      "torch.Size([1, 30522]) torch.Size([1, 30522])\n",
      "[1.93, 1.37, 0.65, 0.54, 0.46, 0.34, 0.14, 0.08]\n",
      "['##biotic', 'antibiotics', 'pro', 'drug', 'use', 'bacteria', 'for', 'need']\n",
      "[2.94, 2.53, 2.06, 2.04, 1.86, 1.8, 1.43, 1.06, 0.85, 0.77, 0.74, 0.74, 0.67, 0.43, 0.42, 0.33, 0.26, 0.25, 0.17, 0.15]\n",
      "['##biotic', 'pro', 'take', 'to', 'should', 'antibiotics', 'you', 'drug', 'must', 'how', 'use', 'bacteria', '##s', 'dose', 'for', 'best', 'diet', 'need', 'stay', 'eat']\n",
      "[2.15, 2.13, 2.01, 1.89, 1.64, 1.61, 1.49, 1.46, 1.45, 1.34, 1.33, 1.29, 1.23, 1.14, 1.13, 1.11, 1.09, 1.06, 1.05, 1.05, 1.05, 0.99, 0.95, 0.91, 0.9, 0.84, 0.83, 0.83, 0.82, 0.81, 0.8, 0.8, 0.79, 0.78, 0.78, 0.75, 0.74, 0.74, 0.73, 0.72, 0.72, 0.72, 0.72, 0.72, 0.7, 0.69, 0.69, 0.69, 0.67, 0.67]\n",
      "['breast', 'ut', '##biotic', 'cancer', 'antibiotics', 'hypothesis', 'risk', 'anti', '##ora', 'tumor', 'associated', 'increase', '##fl', 'micro', 'int', 'finland', 'ac', '##i', 'effect', '##ocytes', '##oche', 'urine', '##estinal', 'finnish', 'woman', 'recurring', 'metabolism', '##yt', 'meta', '##ne', 'likely', 'women', 'used', 'use', 'long', 'cy', '##sta', 'term', '##ym', 'immune', 'rec', 'metal', 'biological', 'affect', 'theory', 'tract', 'mechanism', 'breasts', 'drug', 'increased']\n"
     ]
    }
   ],
   "source": [
    "model_name = 'splade'\n",
    "analysis(model_name, \"PLAIN-153\", all_results, None, \"org\", 20)"
   ]
  },
  {
   "cell_type": "code",
   "execution_count": 281,
   "id": "366a2d1a",
   "metadata": {},
   "outputs": [
    {
     "data": {
      "text/plain": [
       "{'text': 'Functional abdominal pain in the context of irritable bowel syndrome (IBS) is a challenging problem for primary care physicians, gastroenterologists and pain specialists. We review the evidence for the current and future non-pharmacological and pharmacological treatment options targeting the central nervous system and the gastrointestinal tract. Cognitive interventions such as cognitive behavioral therapy and hypnotherapy have demonstrated excellent results in IBS patients, but the limited availability and labor-intensive nature limit their routine use in daily practice. In patients who are refractory to first-line therapy, tricyclic antidepressants (TCA) and selective serotonin reuptake inhibitors are both effective to obtain symptomatic relief, but only TCAs have been shown to improve abdominal pain in meta-analyses. A diet low in fermentable carbohydrates and polyols (FODMAP) seems effective in subgroups of patients to reduce abdominal pain, bloating, and to improve the stool pattern. The evidence for fiber is limited and only isphagula may be somewhat beneficial. The efficacy of probiotics is difficult to interpret since several strains in different quantities have been used across studies. Antispasmodics, including peppermint oil, are still considered the first-line treatment for abdominal pain in IBS. Second-line therapies for diarrhea-predominant IBS include the non-absorbable antibiotic rifaximin and the 5HT3 antagonists alosetron and ramosetron, although the use of the former is restricted because of the rare risk of ischemic colitis. In laxative-resistant, constipation-predominant IBS, the chloride-secretion stimulating drugs lubiprostone and linaclotide, a guanylate cyclase C agonist that also has direct analgesic effects, reduce abdominal pain and improve the stool pattern.',\n",
       " 'title': 'Treatment of abdominal pain in irritable bowel syndrome.'}"
      ]
     },
     "execution_count": 281,
     "metadata": {},
     "output_type": "execute_result"
    }
   ],
   "source": [
    "corpus[\"MED-1006\"]"
   ]
  },
  {
   "cell_type": "code",
   "execution_count": 332,
   "id": "2c037509",
   "metadata": {},
   "outputs": [
    {
     "data": {
      "application/vnd.jupyter.widget-view+json": {
       "model_id": "7ff401a7aa914f78a1add8512d1837da",
       "version_major": 2,
       "version_minor": 0
      },
      "text/plain": [
       "  0%|          | 0/8841823 [00:00<?, ?it/s]"
      ]
     },
     "metadata": {},
     "output_type": "display_data"
    }
   ],
   "source": [
    "_, ms_queries_train, _ = GenericDataLoader(data_folder=data_path).load(split=\"train\")"
   ]
  },
  {
   "cell_type": "code",
   "execution_count": 335,
   "id": "3b7a88a4",
   "metadata": {},
   "outputs": [
    {
     "data": {
      "text/plain": [
       "55"
      ]
     },
     "execution_count": 335,
     "metadata": {},
     "output_type": "execute_result"
    }
   ],
   "source": [
    "num_probiot = []\n",
    "for qid, txt in ms_queries_train.items():\n",
    "    if \"probiotics\" in txt:\n",
    "        num_probiot.append(txt.lower())\n",
    "\n",
    "len(num_probiot)"
   ]
  },
  {
   "cell_type": "code",
   "execution_count": 336,
   "id": "0aec9320",
   "metadata": {},
   "outputs": [
    {
     "data": {
      "text/plain": [
       "502939"
      ]
     },
     "execution_count": 336,
     "metadata": {},
     "output_type": "execute_result"
    }
   ],
   "source": [
    "len(ms_queries_train)"
   ]
  },
  {
   "cell_type": "code",
   "execution_count": 340,
   "id": "ee03ff7c",
   "metadata": {},
   "outputs": [],
   "source": [
    "word_freq = Counter()\n",
    "for qid, txt in ms_queries_train.items():\n",
    "    word_freq.update(tks[\"bm25\"](txt))"
   ]
  },
  {
   "cell_type": "code",
   "execution_count": 350,
   "id": "89f2fb1f",
   "metadata": {},
   "outputs": [],
   "source": [
    "word_rank = {k: (i, v) for i, (k, v) in enumerate(word_freq.most_common())}"
   ]
  },
  {
   "cell_type": "code",
   "execution_count": 354,
   "id": "c93eee76",
   "metadata": {},
   "outputs": [
    {
     "name": "stdout",
     "output_type": "stream",
     "text": [
      "80279\n",
      "(3248, 78)\n"
     ]
    }
   ],
   "source": [
    "print(len(word_freq))\n",
    "print(word_rank[\"probiot\"])"
   ]
  },
  {
   "cell_type": "code",
   "execution_count": 363,
   "id": "7a2baed5",
   "metadata": {},
   "outputs": [],
   "source": [
    "freq = {v: [] for v  in word_freq.values()}\n",
    "for k, v in word_freq.items():\n",
    "    freq[v].append(k)\n",
    "    \n",
    "freq_rank = {k: i for i, (k, v) in enumerate(freq.items())}"
   ]
  },
  {
   "cell_type": "code",
   "execution_count": 365,
   "id": "b4294fb4",
   "metadata": {},
   "outputs": [
    {
     "data": {
      "text/plain": [
       "143"
      ]
     },
     "execution_count": 365,
     "metadata": {},
     "output_type": "execute_result"
    }
   ],
   "source": [
    "freq_rank[word_freq[\"probiot\"]]"
   ]
  },
  {
   "cell_type": "code",
   "execution_count": 366,
   "id": "d7b3b605",
   "metadata": {},
   "outputs": [
    {
     "data": {
      "text/plain": [
       "943"
      ]
     },
     "execution_count": 366,
     "metadata": {},
     "output_type": "execute_result"
    }
   ],
   "source": [
    "len(freq_rank)"
   ]
  },
  {
   "cell_type": "code",
   "execution_count": 373,
   "id": "ba6f9fdb",
   "metadata": {},
   "outputs": [
    {
     "data": {
      "text/plain": [
       "[(201743, ['what']),\n",
       " (72760, ['how']),\n",
       " (44511, ['doe']),\n",
       " (26407, ['do']),\n",
       " (22971, ['definit']),\n",
       " (22748, ['where']),\n",
       " (20780, ['mean']),\n",
       " (20190, ['who']),\n",
       " (18871, ['long']),\n",
       " (17838, ['when'])]"
      ]
     },
     "execution_count": 373,
     "metadata": {},
     "output_type": "execute_result"
    }
   ],
   "source": [
    "sorted(freq.items(), reverse=True) [:10]"
   ]
  },
  {
   "cell_type": "code",
   "execution_count": 381,
   "id": "651c31c0",
   "metadata": {},
   "outputs": [
    {
     "data": {
      "text/plain": [
       "['eubacterium']"
      ]
     },
     "execution_count": 381,
     "metadata": {},
     "output_type": "execute_result"
    }
   ],
   "source": [
    "tks[\"bm25\"](\"eubacterium\")"
   ]
  },
  {
   "cell_type": "code",
   "execution_count": 382,
   "id": "b804385c",
   "metadata": {},
   "outputs": [
    {
     "data": {
      "text/plain": [
       "0"
      ]
     },
     "execution_count": 382,
     "metadata": {},
     "output_type": "execute_result"
    }
   ],
   "source": [
    "word_freq[\"eubacterium\"]"
   ]
  },
  {
   "cell_type": "code",
   "execution_count": 383,
   "id": "eaf2394c",
   "metadata": {},
   "outputs": [
    {
     "data": {
      "text/plain": [
       "12.816949804724562"
      ]
     },
     "execution_count": 383,
     "metadata": {},
     "output_type": "execute_result"
    }
   ],
   "source": [
    "ms_idf[\"eubacterium\"]"
   ]
  },
  {
   "cell_type": "code",
   "execution_count": null,
   "id": "bbbed696",
   "metadata": {},
   "outputs": [],
   "source": []
  }
 ],
 "metadata": {
  "kernelspec": {
   "display_name": "Python 3 (ipykernel)",
   "language": "python",
   "name": "python3"
  },
  "language_info": {
   "codemirror_mode": {
    "name": "ipython",
    "version": 3
   },
   "file_extension": ".py",
   "mimetype": "text/x-python",
   "name": "python",
   "nbconvert_exporter": "python",
   "pygments_lexer": "ipython3",
   "version": "3.8.8"
  }
 },
 "nbformat": 4,
 "nbformat_minor": 5
}
