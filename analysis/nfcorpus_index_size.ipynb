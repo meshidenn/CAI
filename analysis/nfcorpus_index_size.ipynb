{
 "cells": [
  {
   "cell_type": "code",
   "execution_count": 17,
   "id": "2af469ee-4b26-4bfe-9a9f-a88f8f46b704",
   "metadata": {},
   "outputs": [],
   "source": [
    "import os\n",
    "import sys\n",
    "import json\n",
    "import numpy as np\n",
    "import pandas as pd\n",
    "import torch\n",
    "from scipy.sparse import csr_matrix\n",
    "from collections import Counter, defaultdict\n",
    "from transformers import AutoTokenizer, BasicTokenizer, AutoModelForMaskedLM\n",
    "from sentence_transformers import SentenceTransformer\n",
    "from beir.datasets.data_loader import GenericDataLoader\n",
    "from beir.retrieval.search.dense import DenseRetrievalExactSearch as DRES\n",
    "from beir.retrieval.evaluation import EvaluateRetrieval\n",
    "from tqdm.notebook import tqdm\n",
    "\n",
    "sys.path.append(os.pardir)\n",
    "from splade_vocab.models  import Splade, BEIRSpladeModel, BEIRSpladeModelIDF"
   ]
  },
  {
   "cell_type": "code",
   "execution_count": 24,
   "id": "046b66cf-fe2e-491c-9c0a-a78dcdb5e8c1",
   "metadata": {},
   "outputs": [
    {
     "data": {
      "application/vnd.jupyter.widget-view+json": {
       "model_id": "c911dbcaeccf4c36ba4dccae8bc48597",
       "version_major": 2,
       "version_minor": 0
      },
      "text/plain": [
       "  0%|          | 0/171332 [00:00<?, ?it/s]"
      ]
     },
     "metadata": {},
     "output_type": "display_data"
    }
   ],
   "source": [
    "data_path = \"/home/gaia_data/iida.h/BEIR/datasets/trec-covid\"\n",
    "corpus, queries, qrels = GenericDataLoader(data_folder=data_path).load(split=\"test\")"
   ]
  },
  {
   "cell_type": "code",
   "execution_count": 25,
   "id": "7c04d23f-c679-4bab-a770-c2e2540dcb4b",
   "metadata": {},
   "outputs": [],
   "source": [
    "model_pathes = {\"mlm-splade-71694\": \"/home/gaia_data/iida.h/BEIR/model/pubmed_abst/bert-base-uncased/splade_model/raw/remove/71694/distilSplade_0.1_0.08_-groups-gcb50243-iida.h-BEIR-model-pubmed_abst-bert-base-uncased-mlm_model-raw-remove--71694-batch_size_40-2022-04-12_08-52-34/\",\n",
    "               \"mlm-splade-30522\": \"/home/gaia_data/iida.h/BEIR/model/pubmed_abst/bert-base-uncased/splade_model/raw/remove/30522/distilSplade_0.1_0.08_-groups-gcb50243-iida.h-BEIR-model-pubmed_abst-bert-base-uncased-mlm_model-raw-remove--30522-batch_size_24-2022-04-11_23-21-18/\",\n",
    "                \"splade-71694\": \"/home/gaia_data/iida.h/BEIR/model/pubmed_abst/bert-base-uncased/splade_model_init/raw/remove/71694/distilSplade_0.1_0.08_-groups-gcb50243-iida.h-BEIR-model-pubmed_abst-bert-base-uncased-init_model-raw-remove--71694-batch_size_40-2022-04-24_00-46-31/\",\n",
    "               \"splade\": \"/home/gaia_data/iida.h/BEIR/model/msmarco/splade/distilSplade_0.1_0.08_bert-base-uncased-batch_size_40-2022-05-01_12-37-20\"}"
   ]
  },
  {
   "cell_type": "code",
   "execution_count": 26,
   "id": "8063df55-7a41-49bf-813c-476ff7524076",
   "metadata": {},
   "outputs": [
    {
     "name": "stdout",
     "output_type": "stream",
     "text": [
      "path /home/gaia_data/iida.h/BEIR/model/pubmed_abst/bert-base-uncased/splade_model/raw/remove/71694/distilSplade_0.1_0.08_-groups-gcb50243-iida.h-BEIR-model-pubmed_abst-bert-base-uncased-mlm_model-raw-remove--71694-batch_size_40-2022-04-12_08-52-34/\n"
     ]
    }
   ],
   "source": [
    "device = torch.device(\"cuda\")\n",
    "mlm_splade = Splade(model_pathes[\"mlm-splade-71694\"]).to(device)"
   ]
  },
  {
   "cell_type": "code",
   "execution_count": 37,
   "id": "be515ea6-d708-4b0b-8b94-7c16e44fcd59",
   "metadata": {},
   "outputs": [
    {
     "data": {
      "application/vnd.jupyter.widget-view+json": {
       "model_id": "dc65948129f048e0a913fd4f5b3c544d",
       "version_major": 2,
       "version_minor": 0
      },
      "text/plain": [
       "  0%|          | 0/171332 [00:00<?, ?it/s]"
      ]
     },
     "metadata": {},
     "output_type": "display_data"
    }
   ],
   "source": [
    "all_doc = []\n",
    "for cid in tqdm(corpus):\n",
    "    text = corpus[cid][\"title\"] + \" \" + corpus[cid][\"text\"]\n",
    "    t_text = mlm_splade.tokenizer(text, max_length=512, return_tensors=\"pt\", truncation=True, padding=True)\n",
    "    with torch.no_grad():\n",
    "        t_text = {k: v.to(device) for k, v in t_text.items()}\n",
    "        e_text = mlm_splade.encode(**t_text)\n",
    "        all_doc.append(e_text.cpu().numpy())"
   ]
  },
  {
   "cell_type": "code",
   "execution_count": 38,
   "id": "74b40600-c6a4-40c4-94bc-7f7d63ccbc27",
   "metadata": {},
   "outputs": [
    {
     "data": {
      "text/plain": [
       "(171332, 71694)"
      ]
     },
     "execution_count": 38,
     "metadata": {},
     "output_type": "execute_result"
    }
   ],
   "source": [
    "sp_all_doc = np.vstack(all_doc)\n",
    "sp_all_doc.shape"
   ]
  },
  {
   "cell_type": "code",
   "execution_count": 39,
   "id": "a79191fa-f73c-48c2-a34c-0c8293f46320",
   "metadata": {},
   "outputs": [],
   "source": [
    "sp_all_doc = csr_matrix(sp_all_doc)"
   ]
  },
  {
   "cell_type": "code",
   "execution_count": 40,
   "id": "9988e637-7854-4e9f-8c73-8b604052facf",
   "metadata": {},
   "outputs": [
    {
     "data": {
      "text/plain": [
       "329.5795478820801"
      ]
     },
     "execution_count": 40,
     "metadata": {},
     "output_type": "execute_result"
    }
   ],
   "source": [
    "(sp_all_doc.data.nbytes + sp_all_doc.indptr.nbytes + sp_all_doc.indices.nbytes) / 1024 / 1024"
   ]
  },
  {
   "cell_type": "code",
   "execution_count": 41,
   "id": "d532c2b7-a95a-4772-8917-76edd653b6fe",
   "metadata": {},
   "outputs": [],
   "source": [
    "dense_model = SentenceTransformer(\"sentence-transformers/msmarco-bert-base-dot-v5\")"
   ]
  },
  {
   "cell_type": "code",
   "execution_count": 42,
   "id": "9e243610-3a68-47c7-a07c-fa39562085e7",
   "metadata": {},
   "outputs": [
    {
     "data": {
      "application/vnd.jupyter.widget-view+json": {
       "model_id": "36e9c7d534794a39b89c722747b5618f",
       "version_major": 2,
       "version_minor": 0
      },
      "text/plain": [
       "  0%|          | 0/171332 [00:00<?, ?it/s]"
      ]
     },
     "metadata": {},
     "output_type": "display_data"
    }
   ],
   "source": [
    "all_doc_dense = []\n",
    "for cid in tqdm(corpus):\n",
    "    text = corpus[cid][\"title\"] + \" \" + corpus[cid][\"text\"]\n",
    "    vec = dense_model.encode(text)\n",
    "    all_doc_dense.append(vec)"
   ]
  },
  {
   "cell_type": "code",
   "execution_count": 43,
   "id": "0e48fb32-5d67-4c8d-8291-5e8aee88f9a1",
   "metadata": {},
   "outputs": [
    {
     "data": {
      "text/plain": [
       "501.94921875"
      ]
     },
     "execution_count": 43,
     "metadata": {},
     "output_type": "execute_result"
    }
   ],
   "source": [
    "all_doc_dense = np.vstack(all_doc_dense)\n",
    "all_doc_dense.nbytes / 1024 / 1024"
   ]
  },
  {
   "cell_type": "code",
   "execution_count": null,
   "id": "5ecea75a-4bcd-4aee-801d-b77ac01030ba",
   "metadata": {},
   "outputs": [],
   "source": []
  }
 ],
 "metadata": {
  "kernelspec": {
   "display_name": "Python 3 (ipykernel)",
   "language": "python",
   "name": "python3"
  },
  "language_info": {
   "codemirror_mode": {
    "name": "ipython",
    "version": 3
   },
   "file_extension": ".py",
   "mimetype": "text/x-python",
   "name": "python",
   "nbconvert_exporter": "python",
   "pygments_lexer": "ipython3",
   "version": "3.8.10"
  }
 },
 "nbformat": 4,
 "nbformat_minor": 5
}
