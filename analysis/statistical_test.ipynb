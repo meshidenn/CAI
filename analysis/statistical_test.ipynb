{
 "cells": [
  {
   "cell_type": "code",
   "execution_count": 1,
   "id": "8c4cd363",
   "metadata": {},
   "outputs": [],
   "source": [
    "import gc\n",
    "import json\n",
    "import os\n",
    "import logging\n",
    "from typing import Tuple, Dict\n",
    "from collections import defaultdict\n",
    "import numpy as np\n",
    "import pytrec_eval\n",
    "from scipy.stats import ttest_rel\n",
    "from beir.retrieval.evaluation import EvaluateRetrieval\n",
    "\n",
    "from beir.datasets.data_loader import GenericDataLoader"
   ]
  },
  {
   "cell_type": "code",
   "execution_count": 2,
   "id": "16698edc",
   "metadata": {},
   "outputs": [],
   "source": [
    "logger = logging.getLogger(__name__)"
   ]
  },
  {
   "cell_type": "code",
   "execution_count": 3,
   "id": "7418f2a7",
   "metadata": {},
   "outputs": [],
   "source": [
    "class QrelDataLoader(GenericDataLoader):\n",
    "    def load(self, split=\"test\") -> Tuple[Dict[str, str], Dict[str, Dict[str, int]]]:\n",
    "        \n",
    "        self.qrels_file = os.path.join(self.qrels_folder, split + \".tsv\")\n",
    "        self.check(fIn=self.query_file, ext=\"jsonl\")\n",
    "        self.check(fIn=self.qrels_file, ext=\"tsv\")\n",
    "        \n",
    "        if not len(self.queries):\n",
    "            logger.info(\"Loading Queries...\")\n",
    "            self._load_queries()\n",
    "        \n",
    "        if os.path.exists(self.qrels_file):\n",
    "            self._load_qrels()\n",
    "            self.queries = {qid: self.queries[qid] for qid in self.qrels}\n",
    "            logger.info(\"Loaded %d %s Queries.\", len(self.queries), split.upper())\n",
    "            logger.info(\"Query Example: %s\", list(self.queries.values())[0])\n",
    "        \n",
    "        return self.queries, self.qrels"
   ]
  },
  {
   "cell_type": "code",
   "execution_count": 56,
   "id": "c453de29-8436-46fe-9018-073a1b80a805",
   "metadata": {},
   "outputs": [],
   "source": [
    "def recall_cap(qrels, results, k_values):\n",
    "    \n",
    "    capped_recall = {qid: {} for qid in qrels}\n",
    "    k_max = max(k_values)\n",
    "    logging.info(\"\\n\")\n",
    "    \n",
    "    for query_id, doc_scores in results.items():\n",
    "        top_hits = sorted(doc_scores.items(), key=lambda item: item[1], reverse=True)[0:k_max]   \n",
    "        query_relevant_docs = [doc_id for doc_id in qrels[query_id] if qrels[query_id][doc_id] > 0]\n",
    "        for k in k_values:\n",
    "            retrieved_docs = [row[0] for row in top_hits[0:k] if qrels[query_id].get(row[0], 0) > 0]\n",
    "            denominator = min(len(query_relevant_docs), k)\n",
    "            capped_recall[query_id][f\"R_cap@{k}\"] = (len(retrieved_docs) / denominator)\n",
    "\n",
    "    return capped_recall"
   ]
  },
  {
   "cell_type": "code",
   "execution_count": 57,
   "id": "9bedb1b1",
   "metadata": {},
   "outputs": [],
   "source": [
    "def each_q_evaluate(qrels, results, k_values=[1, 10, 100]):\n",
    "    map_string = \"map_cut.\" + \",\".join([str(k) for k in k_values])\n",
    "    recall_string = \"recall.\" + \",\".join([str(k) for k in k_values])\n",
    "    precision_string = \"P.\" + \",\".join([str(k) for k in k_values])\n",
    "    ndcg_string = \"ndcg_cut.\" + \",\".join([str(k) for k in k_values])\n",
    "    evaluator = pytrec_eval.RelevanceEvaluator(qrels, {map_string, ndcg_string, recall_string, precision_string})\n",
    "    # evaluator = pytrec_eval.RelevanceEvaluator(qrels, {ndcg_string})\n",
    "    r_cap = recall_cap(qrels, results, k_values)\n",
    "    scores = evaluator.evaluate(results)\n",
    "    for qid in qrels:\n",
    "        scores[qid].update(r_cap[qid])\n",
    "    \n",
    "    return scores"
   ]
  },
  {
   "cell_type": "code",
   "execution_count": 58,
   "id": "2ad8273d",
   "metadata": {},
   "outputs": [],
   "source": [
    "def pair_t_test(qrels, results1, results2, metric=\"ndcg_cut_10\"):\n",
    "    evaluate_result1 = each_q_evaluate(qrels, results1)\n",
    "    evaluate_result2 = each_q_evaluate(qrels, results2)\n",
    "    result1_scores = [evaluate_result1[qid][metric] if qid in evaluate_result1 else 0 for qid in qrels.keys()]\n",
    "    result2_scores = [evaluate_result2[qid][metric] if qid in evaluate_result2 else 0 for qid in qrels.keys()]\n",
    "    test_result = ttest_rel(result1_scores, result2_scores)\n",
    "    return test_result"
   ]
  },
  {
   "cell_type": "code",
   "execution_count": 59,
   "id": "d99f51de",
   "metadata": {},
   "outputs": [],
   "source": [
    "def test_per_dataset_ndcg(source_result, target_result, dataset, data_dir_root):\n",
    "    data_dir = os.path.join(data_dir_root, dataset)\n",
    "    queries, qrels = QrelDataLoader(data_folder=data_dir).load(split=\"test\")\n",
    "    qids = list(qrels.keys())\n",
    "    test_result = pair_t_test(qrels, source_result, target_result)\n",
    "    return test_result"
   ]
  },
  {
   "cell_type": "code",
   "execution_count": 60,
   "id": "b06089b6-19ea-412a-84f9-1d41f137596c",
   "metadata": {},
   "outputs": [],
   "source": [
    "def test_per_dataset_recall(source_result, target_result, dataset, data_dir_root):\n",
    "    data_dir = os.path.join(data_dir_root, dataset)\n",
    "    queries, qrels = QrelDataLoader(data_folder=data_dir).load(split=\"test\")\n",
    "    qids = list(qrels.keys())\n",
    "    test_result = pair_t_test(qrels, source_result, target_result, metric=\"recall_100\")\n",
    "    return test_result"
   ]
  },
  {
   "cell_type": "code",
   "execution_count": 61,
   "id": "84fd4c65-9091-4f64-bfee-510e65635250",
   "metadata": {},
   "outputs": [],
   "source": [
    "def test_per_dataset_recap(source_result, target_result, dataset, data_dir_root):\n",
    "    data_dir = os.path.join(data_dir_root, dataset)\n",
    "    queries, qrels = QrelDataLoader(data_folder=data_dir).load(split=\"test\")\n",
    "    qids = list(qrels.keys())\n",
    "    test_result = pair_t_test(qrels, source_result, target_result, metric=\"R_cap@100\")\n",
    "    return test_result"
   ]
  },
  {
   "cell_type": "code",
   "execution_count": 62,
   "id": "4d3af2f2",
   "metadata": {},
   "outputs": [],
   "source": [
    "# def multiple_test(test_pvalues, alpha):\n",
    "#     not_rejects = list()\n",
    "#     all_ds = set(list(test_pvalues.keys()))\n",
    "#     sorted_pvalues = sorted(test_pvalues.items(), key=lambda x: -x[1][1])\n",
    "#     sorted_pvalues = [(ds, pvalue) for ds, pvalue in sorted_pvalues if ds not in {\"msmarco\", \"trec-robust04-title\"}]\n",
    "#     M = len(sorted_pvalues)\n",
    "#     q = sorted_pvalues[0][1][1]\n",
    "#     for i, (ds, pvalue) in enumerate(sorted_pvalues):\n",
    "#         fixed_pvalue = pvalue[1] * M / ((M-i) * sum([1/j for j in range(1,(M-i+1))]))\n",
    "#         q = min(fixed_pvalue, q)\n",
    "#         if fixed_pvalue < alpha:\n",
    "#             break\n",
    "#         not_rejects.append(ds)\n",
    "#     return all_ds - set(not_rejects)\n",
    "\n",
    "def multiple_test(test_pvalues, alpha):\n",
    "    rejects = {}\n",
    "    not_rejects = list()\n",
    "    all_ds = {ds for ds in test_pvalues.keys() if ds not in {\"msmarco\", \"trec-robust04-title\"}}\n",
    "    sorted_pvalues = sorted(test_pvalues.items(), key=lambda x: -x[1][1])\n",
    "    sorted_pvalues = [(ds, pvalue) for ds, pvalue in sorted_pvalues if ds not in {\"msmarco\", \"trec-robust04-title\"}]\n",
    "    M = len(sorted_pvalues)\n",
    "    q = sorted_pvalues[0][1][1]\n",
    "    for i, (ds, pvalue) in enumerate(sorted_pvalues):\n",
    "        # fixed_pvalue = pvalue * M / ((M-i) * sum([1/j for j in range(1,(M-i+1))]))\n",
    "        fixed_pvalue = pvalue[1] * M / (M-i)\n",
    "        q = min(fixed_pvalue, q)\n",
    "        if fixed_pvalue < alpha:\n",
    "            break\n",
    "        not_rejects.append(ds)\n",
    "    return all_ds - set(not_rejects)"
   ]
  },
  {
   "cell_type": "code",
   "execution_count": 63,
   "id": "a880dfdb",
   "metadata": {},
   "outputs": [
    {
     "name": "stdout",
     "output_type": "stream",
     "text": [
      "nfcorpus\n",
      "scidocs\n",
      "scifact\n",
      "trec-covid\n",
      "bioask\n"
     ]
    }
   ],
   "source": [
    "data_dir_root = \"/home/gaia_data/iida.h/BEIR/datasets/\"\n",
    "result_dir_root = \"/home/gaia_data/iida.h/BEIR/splade_vocab/evaluation/\"\n",
    "    \n",
    "adasp_ndcg_test_pvalues = dict()\n",
    "adasp_recall_test_pvalues = dict()\n",
    "adaidfsp_ndcg_test_pvalues = dict()\n",
    "adaidfsp_recall_test_pvalues = dict()\n",
    "\n",
    "datasets = [\"nfcorpus\", \"scidocs\", \"scifact\", \"trec-covid\", \"bioask\"]\n",
    "for dataset in datasets:\n",
    "    print(dataset)\n",
    "    if dataset in [\"bioask\", \"nfcorpus\", \"trec-covid\"]:\n",
    "        vocab_num = \"71694\"\n",
    "    else:\n",
    "        vocab_num = \"62783\"\n",
    "    adalm_splade_result_path = os.path.join(result_dir_root, dataset, \"mlm-splade-org\", vocab_num, \"analysis.json\")\n",
    "    adalmidf_splade_result_path = os.path.join(result_dir_root, dataset, \"mlm-splade-idf\", vocab_num, \"analysis.json\")\n",
    "    splade_result_path = os.path.join(result_dir_root, dataset, \"splade-org\", \"analysis.json\")\n",
    "    with open(adalm_splade_result_path) as f:\n",
    "        adalm_splade_result = list(json.load(f).values())[0]\n",
    "    with open(adalmidf_splade_result_path) as f:\n",
    "        adalmidf_splade_result = list(json.load(f).values())[0]\n",
    "    with open(splade_result_path) as f:\n",
    "        splade_result = list(json.load(f).values())[0]\n",
    "    \n",
    "    test_dataset_result = test_per_dataset_ndcg(adalm_splade_result, splade_result, dataset, data_dir_root)\n",
    "    adasp_ndcg_test_pvalues[dataset] = test_dataset_result\n",
    "    test_dataset_result = test_per_dataset_ndcg(adalmidf_splade_result, splade_result, dataset, data_dir_root)\n",
    "    adaidfsp_ndcg_test_pvalues[dataset] = test_dataset_result\n",
    "    \n",
    "    if dataset == \"trec-covid\":\n",
    "        test_dataset_result = test_per_dataset_recap(adalm_splade_result, splade_result, dataset, data_dir_root)\n",
    "    else:\n",
    "        test_dataset_result = test_per_dataset_recall(adalm_splade_result, splade_result, dataset, data_dir_root)\n",
    "    adasp_recall_test_pvalues[dataset] = test_dataset_result\n",
    "    \n",
    "    if dataset == \"trec-covid\":\n",
    "        test_dataset_result = test_per_dataset_recap(adalmidf_splade_result, splade_result, dataset, data_dir_root)\n",
    "    else:\n",
    "        test_dataset_result = test_per_dataset_recall(adalmidf_splade_result, splade_result, dataset, data_dir_root)\n",
    "    adaidfsp_recall_test_pvalues[dataset] = test_dataset_result"
   ]
  },
  {
   "cell_type": "code",
   "execution_count": 64,
   "id": "b9ace35d",
   "metadata": {},
   "outputs": [
    {
     "name": "stdout",
     "output_type": "stream",
     "text": [
      "{'nfcorpus': Ttest_relResult(statistic=2.2475027586465606, pvalue=0.025284549406894334), 'scidocs': Ttest_relResult(statistic=0.14559175666800792, pvalue=0.8842730457903776), 'scifact': Ttest_relResult(statistic=2.517440709304737, pvalue=0.012343719038532113), 'trec-covid': Ttest_relResult(statistic=3.249898910382027, pvalue=0.0020896874399561173), 'bioask': Ttest_relResult(statistic=2.1439735848597805, pvalue=0.0325175475431364)}\n",
      "{'nfcorpus', 'trec-covid', 'bioask', 'scifact'}\n",
      "{'nfcorpus': Ttest_relResult(statistic=3.074237143057271, pvalue=0.0022909437283110882), 'scidocs': Ttest_relResult(statistic=1.9280313453301805, pvalue=0.054134403755170264), 'scifact': Ttest_relResult(statistic=1.515059563135391, pvalue=0.1308137212143696), 'trec-covid': Ttest_relResult(statistic=3.0200528767582964, pvalue=0.004006876213049558), 'bioask': Ttest_relResult(statistic=4.093979372578527, pvalue=4.9455518910711567e-05)}\n",
      "{'nfcorpus', 'trec-covid', 'bioask'}\n"
     ]
    }
   ],
   "source": [
    "print(adasp_ndcg_test_pvalues)\n",
    "print(multiple_test(adasp_ndcg_test_pvalues, 0.05))\n",
    "print(adaidfsp_ndcg_test_pvalues)\n",
    "print(multiple_test(adaidfsp_ndcg_test_pvalues, 0.05))"
   ]
  },
  {
   "cell_type": "code",
   "execution_count": 66,
   "id": "e98c19c5-831a-48ee-94ee-8249cb13f86b",
   "metadata": {},
   "outputs": [
    {
     "name": "stdout",
     "output_type": "stream",
     "text": [
      "{'nfcorpus': Ttest_relResult(statistic=2.9129135061721327, pvalue=0.0038310038835629168), 'scidocs': Ttest_relResult(statistic=-0.7048405979042536, pvalue=0.4810737292408862), 'scifact': Ttest_relResult(statistic=1.8647954251982921, pvalue=0.06318964441695314), 'trec-covid': Ttest_relResult(statistic=6.053665917942173, pvalue=1.9345915652592484e-07), 'bioask': Ttest_relResult(statistic=4.500899981614259, pvalue=8.429606723964885e-06)}\n",
      "{'nfcorpus', 'trec-covid', 'bioask'}\n",
      "{'nfcorpus': Ttest_relResult(statistic=3.0926341083767483, pvalue=0.0021574598830007225), 'scidocs': Ttest_relResult(statistic=2.3009288378512673, pvalue=0.021600843731476464), 'scifact': Ttest_relResult(statistic=2.071681932321691, pvalue=0.039152389281036135), 'trec-covid': Ttest_relResult(statistic=5.942464669884818, pvalue=2.8699791583917415e-07), 'bioask': Ttest_relResult(statistic=5.893560776390349, pvalue=6.963168040698144e-09)}\n",
      "{'nfcorpus', 'scidocs', 'scifact', 'bioask', 'trec-covid'}\n"
     ]
    }
   ],
   "source": [
    "print(adasp_recall_test_pvalues)\n",
    "print(multiple_test(adasp_recall_test_pvalues, 0.05))\n",
    "print(adaidfsp_recall_test_pvalues)\n",
    "print(multiple_test(adaidfsp_recall_test_pvalues, 0.05))"
   ]
  },
  {
   "cell_type": "code",
   "execution_count": null,
   "id": "bcd194ab",
   "metadata": {},
   "outputs": [],
   "source": []
  },
  {
   "cell_type": "code",
   "execution_count": null,
   "id": "ae6ba78f-a577-4c99-a14b-443948195f04",
   "metadata": {},
   "outputs": [],
   "source": []
  },
  {
   "cell_type": "code",
   "execution_count": 68,
   "id": "d8516765-bb6c-4f24-84c7-32fe283627c4",
   "metadata": {},
   "outputs": [
    {
     "name": "stdout",
     "output_type": "stream",
     "text": [
      "nfcorpus\n",
      "scidocs\n",
      "scifact\n",
      "trec-covid\n",
      "bioask\n"
     ]
    }
   ],
   "source": [
    "data_dir_root = \"/home/gaia_data/iida.h/BEIR/datasets/\"\n",
    "result_dir_root = \"/home/gaia_data/iida.h/BEIR/splade_vocab/evaluation/\"\n",
    "    \n",
    "adadsp_ndcg_test_pvalues = dict()\n",
    "adadsp_recall_test_pvalues = dict()\n",
    "\n",
    "datasets = [\"nfcorpus\", \"scidocs\", \"scifact\", \"trec-covid\", \"bioask\"]\n",
    "for dataset in datasets:\n",
    "    print(dataset)\n",
    "    if dataset in [\"bioask\", \"nfcorpus\", \"trec-covid\"]:\n",
    "        vocab_num = \"71694\"\n",
    "    else:\n",
    "        vocab_num = \"62783\"\n",
    "    if dataset != \"bioask\":\n",
    "        adalm_splade_result_path = os.path.join(result_dir_root, dataset, \"mlm-splade-tk-d-idf\", vocab_num, \"analysis.json\")\n",
    "    else:\n",
    "        adalm_splade_result_path = os.path.join(result_dir_root, dataset, \"mlm-splade-tk-idf\", vocab_num, \"analysis.json\")\n",
    "    splade_result_path = os.path.join(result_dir_root, dataset, \"splade-d-org\", \"analysis.json\")\n",
    "    with open(adalm_splade_result_path) as f:\n",
    "        adalm_splade_result = list(json.load(f).values())[0]\n",
    "    with open(splade_result_path) as f:\n",
    "        splade_result = list(json.load(f).values())[0]\n",
    "    \n",
    "    test_dataset_result = test_per_dataset_ndcg(adalm_splade_result, splade_result, dataset, data_dir_root)\n",
    "    if dataset == \"trec-covid\":\n",
    "        test_dataset_result = test_per_dataset_recap(adalm_splade_result, splade_result, dataset, data_dir_root)\n",
    "    else:\n",
    "        test_dataset_result = test_per_dataset_recall(adalm_splade_result, splade_result, dataset, data_dir_root)\n",
    "    adadsp_ndcg_test_pvalues[dataset] = test_dataset_result\n",
    "    adadsp_recall_test_pvalues[dataset] = test_dataset_result"
   ]
  },
  {
   "cell_type": "code",
   "execution_count": 69,
   "id": "2c841dc5-a110-4fa3-bb73-2539fa379dbb",
   "metadata": {},
   "outputs": [
    {
     "name": "stdout",
     "output_type": "stream",
     "text": [
      "{'nfcorpus': Ttest_relResult(statistic=4.231366797729489, pvalue=3.0322649888833377e-05), 'scidocs': Ttest_relResult(statistic=5.284989663114507, pvalue=1.543547873262622e-07), 'scifact': Ttest_relResult(statistic=3.295200440047044, pvalue=0.0011018631833086623), 'trec-covid': Ttest_relResult(statistic=3.993788561291641, pvalue=0.00021773784912087866), 'bioask': Ttest_relResult(statistic=6.822299858447168, pvalue=2.6026269649668756e-11)}\n",
      "{'nfcorpus', 'scidocs', 'scifact', 'bioask', 'trec-covid'}\n",
      "{'nfcorpus': Ttest_relResult(statistic=4.231366797729489, pvalue=3.0322649888833377e-05), 'scidocs': Ttest_relResult(statistic=5.284989663114507, pvalue=1.543547873262622e-07), 'scifact': Ttest_relResult(statistic=3.295200440047044, pvalue=0.0011018631833086623), 'trec-covid': Ttest_relResult(statistic=3.993788561291641, pvalue=0.00021773784912087866), 'bioask': Ttest_relResult(statistic=6.822299858447168, pvalue=2.6026269649668756e-11)}\n",
      "{'nfcorpus', 'scidocs', 'scifact', 'bioask', 'trec-covid'}\n"
     ]
    }
   ],
   "source": [
    "print(adadsp_ndcg_test_pvalues)\n",
    "print(multiple_test(adadsp_ndcg_test_pvalues, 0.05))\n",
    "print(adadsp_recall_test_pvalues)\n",
    "print(multiple_test(adadsp_recall_test_pvalues, 0.05))"
   ]
  },
  {
   "cell_type": "code",
   "execution_count": null,
   "id": "3769ce98-6d21-4974-a953-ba679f0b47c6",
   "metadata": {},
   "outputs": [],
   "source": []
  },
  {
   "cell_type": "code",
   "execution_count": 70,
   "id": "bc3d9e3e",
   "metadata": {},
   "outputs": [],
   "source": [
    "# def weight_add_result(bm25_result, dense_result, all_qids, weight1=0.5):\n",
    "#     weight2 = 1 - weight1\n",
    "#     result = {}\n",
    "#     for qid in all_qids:\n",
    "#         d_result1 = bm25_result.get(qid, None)\n",
    "#         d_result2 = dense_result.get(qid, None)\n",
    "#         result[qid] = {}\n",
    "#         if not d_result1 and not d_result2:\n",
    "#             continue\n",
    "#         elif not d_result2:\n",
    "#             result[qid] = d_result1\n",
    "#             continue\n",
    "#         elif not d_result1:\n",
    "#             result[qid] = d_result2\n",
    "#             continue\n",
    "#         all_dids = set(list(d_result1.keys())) | set(list(d_result2.keys()))\n",
    "#         try:\n",
    "#             min_score1 = sorted(d_result1.values())[0]\n",
    "#         except:\n",
    "#             print(qid, d_result1)\n",
    "#             raise ValueError()\n",
    "#         min_score2 = sorted(d_result2.values())[0]\n",
    "#         for did in all_dids:\n",
    "#             d_score1 = d_result1.get(did, min_score1)\n",
    "#             d_score2 = d_result2.get(did, min_score2)\n",
    "#             result[qid][did] = weight1 * d_score1 + weight2 * d_score2\n",
    "#     return result\n",
    "\n",
    "MIN_DISCOUNT = 1e-3\n",
    "\n",
    "def add_result(bm25_result, dense_result, top_k=100):\n",
    "    result = {}\n",
    "    all_qids = set(list(bm25_result.keys()))\n",
    "    all_qids |= set(list(dense_result.keys()))\n",
    "    for qid in all_qids:\n",
    "        d_result1 = bm25_result.get(qid, None)\n",
    "        d_result2 = dense_result.get(qid, None)\n",
    "        if not d_result1 and not d_result2:\n",
    "            continue\n",
    "        elif not d_result2:\n",
    "            d_result1 = sorted(d_result1.items(), key=lambda x: -x[1])[:top_k]\n",
    "            result[qid] = {k: v for k, v in d_result1}\n",
    "            continue\n",
    "        elif not d_result1:\n",
    "            d_result2 = sorted(d_result2.items(), key=lambda x: -x[1])[:top_k]\n",
    "            result[qid] = {k: v for k, v in d_result2}\n",
    "            continue\n",
    "        d_result1 = {k: v for k, v in sorted(d_result1.items(), key=lambda x: -x[1])[:top_k]}\n",
    "        d_result2 = {k: v for k, v in sorted(d_result2.items(), key=lambda x: -x[1])[:top_k]}\n",
    "        # all_dids = set([did for did, _ in d_result1]) | set([did for did, _ in d_result2])\n",
    "        all_dids = set(list(d_result1.keys())) | set(list(d_result2.keys()))\n",
    "        result[qid] = {}\n",
    "        try:\n",
    "            min_score1 = sorted(d_result1.values())[0] - MIN_DISCOUNT\n",
    "            # min_score1 = d_result1[-1][1] - MIN_DISCOUNT\n",
    "        except:\n",
    "            print(qid, d_result1)\n",
    "            raise ValueError()\n",
    "        min_score2 = sorted(d_result2.values())[0] - MIN_DISCOUNT\n",
    "        # min_score2 = d_result2[-1][1] - MIN_DISCOUNT\n",
    "        for did in all_dids:\n",
    "            d_score1 = d_result1.get(did, min_score1)\n",
    "            d_score2 = d_result2.get(did, min_score2)\n",
    "            result[qid][did] = d_score1 + d_score2\n",
    "    return result"
   ]
  },
  {
   "cell_type": "code",
   "execution_count": null,
   "id": "43fe738a-3a99-4821-8d08-6dc080ddc93c",
   "metadata": {},
   "outputs": [],
   "source": []
  },
  {
   "cell_type": "code",
   "execution_count": 71,
   "id": "fdc66b68",
   "metadata": {},
   "outputs": [],
   "source": [
    "def weight_add_result_per_dataset(weight, all_qids, qrels, bm25_result, dense_result):\n",
    "    k_values = [1, 10, 100]\n",
    "    results = weight_add_result(bm25_result, dense_result, all_qids, weight)\n",
    "    ndcg, map_, recall, p = EvaluateRetrieval(\"\").evaluate(qrels, results, k_values=k_values)\n",
    "    return {\"ndcg@10\": ndcg[\"NDCG@10\"], \"recall@100\": recall[\"Recall@100\"]}"
   ]
  },
  {
   "cell_type": "code",
   "execution_count": 83,
   "id": "e1421eec-116a-4ac7-9899-ae9d95fc0c5b",
   "metadata": {},
   "outputs": [
    {
     "name": "stdout",
     "output_type": "stream",
     "text": [
      "nfcorpus\n",
      "scidocs\n",
      "scifact\n",
      "trec-covid\n",
      "bioask\n"
     ]
    }
   ],
   "source": [
    "data_dir_root = \"/home/gaia_data/iida.h/BEIR/datasets/\"\n",
    "result_dir_root = \"/home/gaia_data/iida.h/BEIR/splade_vocab/evaluation/\"\n",
    "    \n",
    "datasets = [\"nfcorpus\", \"scidocs\", \"scifact\", \"trec-covid\", \"bioask\"]\n",
    "adahsp_ndcg_test_pvalues = dict()\n",
    "adahsp_recall_test_pvalues = dict()\n",
    "for dataset in datasets:\n",
    "    print(dataset)\n",
    "    data_dir = os.path.join(data_dir_root, dataset)\n",
    "    queries, qrels = QrelDataLoader(data_folder=data_dir).load(split=\"test\")\n",
    "\n",
    "    bm25_result_path = os.path.join(result_dir_root, dataset, \"bm25\", \"analysis.json\")\n",
    "    laprador_result_path = os.path.join(result_dir_root, \"laprador\", dataset, \"analysis.json\")\n",
    "    if dataset in [\"bioask\", \"nfcorpus\", \"trec-covid\"]:\n",
    "        vocab_num = \"71694\"\n",
    "    else:\n",
    "        vocab_num = \"62783\"\n",
    "    adalm_splade_idf_result_path = os.path.join(result_dir_root, dataset, \"mlm-splade-idf\", vocab_num, \"analysis.json\")\n",
    "    splade_result_path = os.path.join(result_dir_root, dataset, \"splade-org\", \"analysis.json\")\n",
    "    with open(bm25_result_path) as f:\n",
    "        bm25_result = json.load(f)\n",
    "    with open(adalm_splade_idf_result_path) as f:\n",
    "        adalm_splade_idf_result = list(json.load(f).values())[0]\n",
    "    with open(splade_result_path) as f:\n",
    "        splade_result = list(json.load(f).values())[0]\n",
    "\n",
    "    all_qids = list(qrels.keys())\n",
    "    hybrid_results = add_result(bm25_result, adalm_splade_idf_result)\n",
    "    test_dataset_result = test_per_dataset_ndcg(hybrid_results, splade_result, dataset, data_dir_root)\n",
    "    adahsp_ndcg_test_pvalues[dataset] = test_dataset_result\n",
    "\n",
    "    if dataset == \"trec-covid\":\n",
    "        test_dataset_result = test_per_dataset_recap(hybrid_results, splade_result, dataset, data_dir_root)\n",
    "    else:\n",
    "        test_dataset_result = test_per_dataset_recall(hybrid_results, splade_result, dataset, data_dir_root)\n",
    "    adahsp_recall_test_pvalues[dataset] = test_dataset_result"
   ]
  },
  {
   "cell_type": "code",
   "execution_count": 84,
   "id": "8fd73688-b0a5-4eb4-a1ed-a96747e6eb4b",
   "metadata": {},
   "outputs": [
    {
     "name": "stdout",
     "output_type": "stream",
     "text": [
      "{'nfcorpus': Ttest_relResult(statistic=3.6733800647349097, pvalue=0.00028021717824415346), 'scidocs': Ttest_relResult(statistic=3.5734497481444176, pvalue=0.00036913769302006024), 'scifact': Ttest_relResult(statistic=2.3934647627922225, pvalue=0.017306525898939305), 'trec-covid': Ttest_relResult(statistic=3.6750954386599894, pvalue=0.0005890403577777368), 'bioask': Ttest_relResult(statistic=7.1709240435230015, pvalue=2.7031038188938624e-12)}\n",
      "{'nfcorpus', 'scidocs', 'scifact', 'bioask', 'trec-covid'}\n",
      "{'nfcorpus': Ttest_relResult(statistic=3.1727479901413473, pvalue=0.001655621342096557), 'scidocs': Ttest_relResult(statistic=3.4818145944548418, pvalue=0.00051958194636552), 'scifact': Ttest_relResult(statistic=2.452957819153296, pvalue=0.014739655055563345), 'trec-covid': Ttest_relResult(statistic=5.4119896754614265, pvalue=1.8573863125545907e-06), 'bioask': Ttest_relResult(statistic=8.458623973876955, pvalue=3.011577810327624e-16)}\n",
      "{'nfcorpus', 'scidocs', 'scifact', 'bioask', 'trec-covid'}\n"
     ]
    }
   ],
   "source": [
    "print(adahsp_ndcg_test_pvalues)\n",
    "print(multiple_test(adahsp_ndcg_test_pvalues, 0.05))\n",
    "print(adahsp_recall_test_pvalues)\n",
    "print(multiple_test(adahsp_recall_test_pvalues, 0.05))"
   ]
  },
  {
   "cell_type": "code",
   "execution_count": null,
   "id": "5cad77a9-0175-443d-ba19-09523a37c573",
   "metadata": {},
   "outputs": [],
   "source": []
  },
  {
   "cell_type": "code",
   "execution_count": 78,
   "id": "4b1a61e3-df48-4275-b17b-0311b23d2105",
   "metadata": {},
   "outputs": [
    {
     "name": "stdout",
     "output_type": "stream",
     "text": [
      "nfcorpus\n",
      "scidocs\n",
      "scifact\n",
      "trec-covid\n",
      "bioask\n"
     ]
    }
   ],
   "source": [
    "data_dir_root = \"/home/gaia_data/iida.h/BEIR/datasets/\"\n",
    "result_dir_root = \"/home/gaia_data/iida.h/BEIR/splade_vocab/evaluation/\"\n",
    "    \n",
    "datasets = [\"nfcorpus\", \"scidocs\", \"scifact\", \"trec-covid\", \"bioask\"]\n",
    "adahdsp_ndcg_test_pvalues = dict()\n",
    "adahdsp_recall_test_pvalues = dict()\n",
    "for dataset in datasets:\n",
    "    print(dataset)\n",
    "    data_dir = os.path.join(data_dir_root, dataset)\n",
    "    queries, qrels = QrelDataLoader(data_folder=data_dir).load(split=\"test\")\n",
    "\n",
    "    bm25_result_path = os.path.join(result_dir_root, dataset, \"bm25\", \"analysis.json\")\n",
    "    laprador_result_path = os.path.join(result_dir_root, \"laprador\", dataset, \"analysis.json\")\n",
    "    if dataset in [\"bioask\", \"nfcorpus\", \"trec-covid\"]:\n",
    "        vocab_num = \"71694\"\n",
    "    else:\n",
    "        vocab_num = \"62783\"\n",
    "    if dataset != \"bioask\":\n",
    "        adalm_splade_idf_result_path = os.path.join(result_dir_root, dataset, \"mlm-splade-tk-d-idf\", vocab_num, \"analysis.json\")\n",
    "    else:\n",
    "        adalm_splade_idf_result_path = os.path.join(result_dir_root, dataset, \"mlm-splade-tk-idf\", vocab_num, \"analysis.json\")\n",
    "    splade_result_path = os.path.join(result_dir_root, dataset, \"splade-d-org\", \"analysis.json\")\n",
    "    with open(bm25_result_path) as f:\n",
    "        bm25_result = json.load(f)\n",
    "    with open(adalm_splade_idf_result_path) as f:\n",
    "        adalm_splade_idf_result = list(json.load(f).values())[0]\n",
    "    with open(splade_result_path) as f:\n",
    "        splade_result = list(json.load(f).values())[0]\n",
    "        \n",
    "    all_qids = list(qrels.keys())\n",
    "    hybrid_results = add_result(bm25_result, adalm_splade_idf_result)\n",
    "    test_dataset_result = test_per_dataset_ndcg(hybrid_results, splade_result, dataset, data_dir_root)\n",
    "    adahdsp_ndcg_test_pvalues[dataset] = test_dataset_result\n",
    "\n",
    "    if dataset == \"trec-covid\":\n",
    "        test_dataset_result = test_per_dataset_recap(hybrid_results, splade_result, dataset, data_dir_root)\n",
    "    else:\n",
    "        test_dataset_result = test_per_dataset_recall(hybrid_results, splade_result, dataset, data_dir_root)\n",
    "    \n",
    "    test_dataset_result = test_per_dataset_recall(hybrid_results, splade_result, dataset, data_dir_root)\n",
    "    adahdsp_recall_test_pvalues[dataset] = test_dataset_result"
   ]
  },
  {
   "cell_type": "code",
   "execution_count": 79,
   "id": "6ad4fa2e-49e6-4545-87e6-8a93a3fa83a2",
   "metadata": {},
   "outputs": [
    {
     "name": "stdout",
     "output_type": "stream",
     "text": [
      "{'nfcorpus': Ttest_relResult(statistic=3.823598676829075, pvalue=0.00015789647018340952), 'scidocs': Ttest_relResult(statistic=4.779132824968111, pvalue=2.0245031702181492e-06), 'scifact': Ttest_relResult(statistic=2.7534841509216013, pvalue=0.00625732939644317), 'trec-covid': Ttest_relResult(statistic=3.542631685906574, pvalue=0.0008809726240429204), 'bioask': Ttest_relResult(statistic=7.763008526999719, pvalue=4.7333293985210757e-14)}\n",
      "{'nfcorpus', 'scidocs', 'scifact', 'bioask', 'trec-covid'}\n",
      "{'nfcorpus': Ttest_relResult(statistic=4.05196892452071, pvalue=6.371716496058156e-05), 'scidocs': Ttest_relResult(statistic=5.504699171997972, pvalue=4.7009654752664634e-08), 'scifact': Ttest_relResult(statistic=2.7550504242403075, pvalue=0.006228203612933054), 'trec-covid': Ttest_relResult(statistic=4.2062155668742935, pvalue=0.00011006107619234856), 'bioask': Ttest_relResult(statistic=9.466826013620615, pvalue=1.1449578804960093e-19)}\n",
      "{'nfcorpus', 'scidocs', 'scifact', 'bioask', 'trec-covid'}\n"
     ]
    }
   ],
   "source": [
    "print(adahdsp_ndcg_test_pvalues)\n",
    "print(multiple_test(adahdsp_ndcg_test_pvalues, 0.05))\n",
    "print(adahdsp_recall_test_pvalues)\n",
    "print(multiple_test(adahdsp_recall_test_pvalues, 0.05))"
   ]
  },
  {
   "cell_type": "code",
   "execution_count": null,
   "id": "cc6c91df-3139-4113-abc9-b239060c67ec",
   "metadata": {},
   "outputs": [],
   "source": []
  },
  {
   "cell_type": "code",
   "execution_count": 80,
   "id": "a39a0446",
   "metadata": {},
   "outputs": [
    {
     "name": "stdout",
     "output_type": "stream",
     "text": [
      "nfcorpus\n",
      "scidocs\n",
      "scifact\n",
      "trec-covid\n",
      "bioask\n"
     ]
    }
   ],
   "source": [
    "data_dir_root = \"/home/gaia_data/iida.h/BEIR/datasets/\"\n",
    "result_dir_root = \"/home/gaia_data/iida.h/BEIR/splade_vocab/evaluation/\"\n",
    "    \n",
    "datasets = [\"nfcorpus\", \"scidocs\", \"scifact\", \"trec-covid\", \"bioask\"]\n",
    "laprador_ndcg_test_pvalues = dict()\n",
    "lapradord_ndcg_test_pvalues = dict()\n",
    "laprador_recall_test_pvalues = dict()\n",
    "lapradord_recall_test_pvalues = dict()\n",
    "\n",
    "for dataset in datasets:\n",
    "    print(dataset)\n",
    "    data_dir = os.path.join(data_dir_root, dataset)\n",
    "    queries, qrels = QrelDataLoader(data_folder=data_dir).load(split=\"test\")\n",
    "\n",
    "    bm25_result_path = os.path.join(result_dir_root, dataset, \"bm25\", \"analysis.json\")\n",
    "    laprador_result_path = os.path.join(result_dir_root, \"laprador\", dataset, \"analysis.json\")\n",
    "    if dataset in [\"bioask\", \"nfcorpus\", \"trec-covid\"]:\n",
    "        vocab_num = \"71694\"\n",
    "    else:\n",
    "        vocab_num = \"62783\"\n",
    "    adalm_splade_idf_result_path = os.path.join(result_dir_root, dataset, \"mlm-splade-idf\", vocab_num, \"analysis.json\")\n",
    "    if dataset != \"bioask\":\n",
    "        adalm_spladed_idf_result_path = os.path.join(result_dir_root, dataset, \"mlm-splade-tk-d-idf\", vocab_num, \"analysis.json\")\n",
    "    else:\n",
    "        adalm_spladed_idf_result_path = os.path.join(result_dir_root, dataset, \"mlm-splade-tk-idf\", vocab_num, \"analysis.json\")\n",
    "    with open(bm25_result_path) as f:\n",
    "        bm25_result = json.load(f)\n",
    "    with open(adalm_splade_idf_result_path) as f:\n",
    "        adalm_splade_idf_result = list(json.load(f).values())[0]\n",
    "    with open(adalm_spladed_idf_result_path) as f:\n",
    "        adalm_spladed_idf_result = list(json.load(f).values())[0]\n",
    "    with open(laprador_result_path) as f:\n",
    "        laprador_result = json.load(f)\n",
    "\n",
    "    all_qids = list(qrels.keys())\n",
    "    hybrid_results = add_result(bm25_result, adalm_splade_idf_result)\n",
    "    hybridd_results = add_result(bm25_result, adalm_spladed_idf_result)\n",
    "    \n",
    "    test_dataset_result = test_per_dataset_ndcg(hybrid_results, laprador_result, dataset, data_dir_root)\n",
    "    laprador_ndcg_test_pvalues[dataset] = test_dataset_result\n",
    "    testd_dataset_result = test_per_dataset_ndcg(hybridd_results, laprador_result, dataset, data_dir_root)\n",
    "    lapradord_ndcg_test_pvalues[dataset] = testd_dataset_result\n",
    "\n",
    "    \n",
    "    if dataset == \"trec-covid\":\n",
    "        test_dataset_result = test_per_dataset_recap(hybrid_results, laprador_result, dataset, data_dir_root)\n",
    "    else:\n",
    "        test_dataset_result = test_per_dataset_recall(hybrid_results, laprador_result, dataset, data_dir_root)\n",
    "    laprador_recall_test_pvalues[dataset] = test_dataset_result\n",
    "    \n",
    "    if dataset == \"trec-covid\":\n",
    "        testd_dataset_result = test_per_dataset_recap(hybridd_results, laprador_result, dataset, data_dir_root)\n",
    "    else:\n",
    "        testd_dataset_result = test_per_dataset_recall(hybridd_results, laprador_result, dataset, data_dir_root)\n",
    "    lapradord_recall_test_pvalues[dataset] = testd_dataset_result\n"
   ]
  },
  {
   "cell_type": "code",
   "execution_count": 81,
   "id": "d0031f14",
   "metadata": {},
   "outputs": [
    {
     "name": "stdout",
     "output_type": "stream",
     "text": [
      "{'nfcorpus': Ttest_relResult(statistic=1.210564346462779, pvalue=0.22695023798009156), 'scidocs': Ttest_relResult(statistic=-5.615570334291971, pvalue=2.538545620173972e-08), 'scifact': Ttest_relResult(statistic=1.400730036583805, pvalue=0.16233175420406637), 'trec-covid': Ttest_relResult(statistic=0.6675072939839094, pvalue=0.5075798516825706), 'bioask': Ttest_relResult(statistic=6.941679064870572, pvalue=1.2104560064882623e-11)}\n",
      "{'scidocs', 'bioask'}\n",
      "{'nfcorpus': Ttest_relResult(statistic=0.2699427610603684, pvalue=0.7873772074397768), 'scidocs': Ttest_relResult(statistic=-6.286964173849373, pvalue=4.830235861121876e-10), 'scifact': Ttest_relResult(statistic=1.187363693564348, pvalue=0.23602662048123896), 'trec-covid': Ttest_relResult(statistic=-3.052778517856003, pvalue=0.0036578456316423), 'bioask': Ttest_relResult(statistic=7.52241138855869, pvalue=2.5226847566732576e-13)}\n",
      "{'scidocs', 'trec-covid', 'bioask'}\n"
     ]
    }
   ],
   "source": [
    "print(laprador_ndcg_test_pvalues)\n",
    "print(multiple_test(laprador_ndcg_test_pvalues, 0.05))\n",
    "print(lapradord_ndcg_test_pvalues)\n",
    "print(multiple_test(lapradord_ndcg_test_pvalues, 0.05))"
   ]
  },
  {
   "cell_type": "code",
   "execution_count": 82,
   "id": "49520e44",
   "metadata": {},
   "outputs": [
    {
     "name": "stdout",
     "output_type": "stream",
     "text": [
      "{'nfcorpus': Ttest_relResult(statistic=2.5133821006826884, pvalue=0.012445777186440592), 'scidocs': Ttest_relResult(statistic=-6.701301016965774, pvalue=3.446276555062554e-11), 'scifact': Ttest_relResult(statistic=2.5758320031921436, pvalue=0.010480038625340169), 'trec-covid': Ttest_relResult(statistic=5.867373573514401, pvalue=3.7440611348602545e-07), 'bioask': Ttest_relResult(statistic=9.619086290654423, pvalue=3.3069889998013343e-20)}\n",
      "{'nfcorpus', 'scidocs', 'scifact', 'bioask', 'trec-covid'}\n",
      "{'nfcorpus': Ttest_relResult(statistic=1.0441089932315812, pvalue=0.2972181744410112), 'scidocs': Ttest_relResult(statistic=-8.012058070176979, pvalue=3.1282422164995076e-15), 'scifact': Ttest_relResult(statistic=2.005035677295267, pvalue=0.045860346168231245), 'trec-covid': Ttest_relResult(statistic=1.3150843395149743, pvalue=0.19460286045006692), 'bioask': Ttest_relResult(statistic=10.00835821901801, pvalue=1.3023065135526875e-21)}\n",
      "{'scidocs', 'bioask'}\n"
     ]
    }
   ],
   "source": [
    "print(laprador_recall_test_pvalues)\n",
    "print(multiple_test(laprador_recall_test_pvalues, 0.05))\n",
    "print(lapradord_recall_test_pvalues)\n",
    "print(multiple_test(lapradord_recall_test_pvalues, 0.05))"
   ]
  },
  {
   "cell_type": "code",
   "execution_count": 93,
   "id": "e135a3b5-ccc4-4e87-b88d-af09b6178d7d",
   "metadata": {},
   "outputs": [
    {
     "name": "stdout",
     "output_type": "stream",
     "text": [
      "nfcorpus\n",
      "scidocs\n",
      "scifact\n",
      "trec-covid\n",
      "bioask\n"
     ]
    }
   ],
   "source": [
    "data_dir_root = \"/home/gaia_data/iida.h/BEIR/datasets/\"\n",
    "result_dir_root = \"/home/gaia_data/iida.h/BEIR/splade_vocab/evaluation/\"\n",
    "cbm25_dir_root = \"/home/gaia_data/iida.h/BEIR/C-BM25/results\"\n",
    "\n",
    "datasets = [\"nfcorpus\", \"scidocs\", \"scifact\", \"trec-covid\", \"bioask\"]\n",
    "hcbm25_ndcg_test_pvalues = dict()\n",
    "hcbm25d_ndcg_test_pvalues = dict()\n",
    "hcbm25_recall_test_pvalues = dict()\n",
    "hcbm25d_recall_test_pvalues = dict()\n",
    "\n",
    "for dataset in datasets:\n",
    "    print(dataset)\n",
    "    data_dir = os.path.join(data_dir_root, dataset)\n",
    "    queries, qrels = QrelDataLoader(data_folder=data_dir).load(split=\"test\")\n",
    "\n",
    "    bm25_result_path = os.path.join(result_dir_root, dataset, \"bm25\", \"analysis.json\")\n",
    "    cbm25_result_path = os.path.join(cbm25_dir_root, dataset, \"result\", \"lss\", \"mpnet-tod\", \"analysis.json\")\n",
    "    cbm25_dense_result_path = os.path.join(cbm25_dir_root, dataset, \"result\", \"dot\", \"mpnet-v3-mse-beir-dot\", \"analysis.json\")\n",
    "    if dataset in [\"bioask\", \"nfcorpus\", \"trec-covid\"]:\n",
    "        vocab_num = \"71694\"\n",
    "    else:\n",
    "        vocab_num = \"62783\"\n",
    "    adalm_splade_idf_result_path = os.path.join(result_dir_root, dataset, \"mlm-splade-idf\", vocab_num, \"analysis.json\")\n",
    "    if dataset != \"bioask\":\n",
    "        adalm_spladed_idf_result_path = os.path.join(result_dir_root, dataset, \"mlm-splade-tk-d-idf\", vocab_num, \"analysis.json\")\n",
    "    else:\n",
    "        adalm_spladed_idf_result_path = os.path.join(result_dir_root, dataset, \"mlm-splade-tk-idf\", vocab_num, \"analysis.json\")\n",
    "    with open(bm25_result_path) as f:\n",
    "        bm25_result = json.load(f)\n",
    "    with open(adalm_splade_idf_result_path) as f:\n",
    "        adalm_splade_idf_result = list(json.load(f).values())[0]\n",
    "    with open(adalm_spladed_idf_result_path) as f:\n",
    "        adalm_spladed_idf_result = list(json.load(f).values())[0]\n",
    "    with open(cbm25_result_path) as f:\n",
    "        cbm25_result = json.load(f)[\"maxsim_bm25_qtf\"]\n",
    "    with open(cbm25_dense_result_path) as f:\n",
    "        cbm25_dense_result = json.load(f)\n",
    "\n",
    "    all_qids = list(qrels.keys())\n",
    "    hybrid_results = add_result(bm25_result, adalm_splade_idf_result)\n",
    "    hybridd_results = add_result(bm25_result, adalm_spladed_idf_result)\n",
    "    hcbm25_results = add_result(cbm25_result, cbm25_dense_result)\n",
    "    \n",
    "    test_dataset_result = test_per_dataset_ndcg(hybrid_results, hcbm25_results, dataset, data_dir_root)\n",
    "    hcbm25_ndcg_test_pvalues[dataset] = test_dataset_result\n",
    "    testd_dataset_result = test_per_dataset_ndcg(hybridd_results, hcbm25_results, dataset, data_dir_root)\n",
    "    hcbm25d_ndcg_test_pvalues[dataset] = testd_dataset_result\n",
    "\n",
    "    \n",
    "    if dataset == \"trec-covid\":\n",
    "        test_dataset_result = test_per_dataset_recap(hybrid_results, hcbm25_results, dataset, data_dir_root)\n",
    "    else:\n",
    "        test_dataset_result = test_per_dataset_recall(hybrid_results, hcbm25_results, dataset, data_dir_root)\n",
    "    hcbm25_recall_test_pvalues[dataset] = test_dataset_result\n",
    "    \n",
    "    if dataset == \"trec-covid\":\n",
    "        testd_dataset_result = test_per_dataset_recap(hybridd_results, hcbm25_results, dataset, data_dir_root)\n",
    "    else:\n",
    "        testd_dataset_result = test_per_dataset_recall(hybridd_results, hcbm25_results, dataset, data_dir_root)\n",
    "    hcbm25d_recall_test_pvalues[dataset] = testd_dataset_result"
   ]
  },
  {
   "cell_type": "code",
   "execution_count": 94,
   "id": "0adffb15-13a8-4af8-b887-84831063c098",
   "metadata": {},
   "outputs": [
    {
     "name": "stdout",
     "output_type": "stream",
     "text": [
      "{'nfcorpus': Ttest_relResult(statistic=3.522577085727193, pvalue=0.0004891444762129307), 'scidocs': Ttest_relResult(statistic=-0.07936088152747584, pvalue=0.9367614762023505), 'scifact': Ttest_relResult(statistic=-0.20314600927633622, pvalue=0.8391590865845979), 'trec-covid': Ttest_relResult(statistic=-0.05456570867624501, pvalue=0.9567063337571217), 'bioask': Ttest_relResult(statistic=4.739362221259084, pvalue=2.8002560057267213e-06)}\n",
      "{'nfcorpus', 'bioask'}\n",
      "{'nfcorpus': Ttest_relResult(statistic=2.3632515110197376, pvalue=0.01870916765085692), 'scidocs': Ttest_relResult(statistic=-0.6007226734378505, pvalue=0.5481609749451911), 'scifact': Ttest_relResult(statistic=-0.5051653475251823, pvalue=0.6138148515108555), 'trec-covid': Ttest_relResult(statistic=-4.550106028161058, pvalue=3.548253667524291e-05), 'bioask': Ttest_relResult(statistic=4.84365026753713, pvalue=1.7036307367895056e-06)}\n",
      "{'nfcorpus', 'trec-covid', 'bioask'}\n"
     ]
    }
   ],
   "source": [
    "print(hcbm25_ndcg_test_pvalues)\n",
    "print(multiple_test(hcbm25_ndcg_test_pvalues, 0.05))\n",
    "print(hcbm25d_ndcg_test_pvalues)\n",
    "print(multiple_test(hcbm25d_ndcg_test_pvalues, 0.05))"
   ]
  },
  {
   "cell_type": "code",
   "execution_count": 95,
   "id": "ec9c4dd1-424f-4259-bf4a-f3c10bc880cb",
   "metadata": {},
   "outputs": [
    {
     "name": "stdout",
     "output_type": "stream",
     "text": [
      "{'nfcorpus': Ttest_relResult(statistic=1.8566121847699308, pvalue=0.06427950824337361), 'scidocs': Ttest_relResult(statistic=4.040549886533918, pvalue=5.741738297681192e-05), 'scifact': Ttest_relResult(statistic=1.0, pvalue=0.31811909747888467), 'trec-covid': Ttest_relResult(statistic=9.110122853677721, pvalue=4.042809975923777e-12), 'bioask': Ttest_relResult(statistic=6.49299063849586, pvalue=2.0357028080011217e-10)}\n",
      "{'scidocs', 'trec-covid', 'bioask'}\n",
      "{'nfcorpus': Ttest_relResult(statistic=0.07832381733978595, pvalue=0.9376191209495476), 'scidocs': Ttest_relResult(statistic=2.8037595655788627, pvalue=0.005148899491954889), 'scifact': Ttest_relResult(statistic=0.24273842465371434, pvalue=0.8083744668553937), 'trec-covid': Ttest_relResult(statistic=5.0840467135578535, pvalue=5.794996896097016e-06), 'bioask': Ttest_relResult(statistic=7.083795805746707, pvalue=4.800272519395655e-12)}\n",
      "{'scidocs', 'trec-covid', 'bioask'}\n"
     ]
    }
   ],
   "source": [
    "print(hcbm25_recall_test_pvalues)\n",
    "print(multiple_test(hcbm25_recall_test_pvalues, 0.05))\n",
    "print(hcbm25d_recall_test_pvalues)\n",
    "print(multiple_test(hcbm25d_recall_test_pvalues, 0.05))"
   ]
  },
  {
   "cell_type": "code",
   "execution_count": null,
   "id": "91900d5f",
   "metadata": {},
   "outputs": [],
   "source": [
    "gc.collect()"
   ]
  },
  {
   "cell_type": "code",
   "execution_count": null,
   "id": "f45ba190",
   "metadata": {},
   "outputs": [],
   "source": [
    "data_dir_root = \"/home/gaia_data/iida.h/BEIR/datasets/\"\n",
    "result_dir_root = \"/home/gaia_data/iida.h/BEIR/splade_vocab/evaluation/\"\n",
    "    \n",
    "datasets = [\"nfcorpus\", \"scidocs\", \"scifact\", \"trec-covid\", \"bioask\"]\n",
    "for dataset in datasets:\n",
    "    data_dir = os.path.join(data_dir_root, dataset)\n",
    "    queries, qrels = QrelDataLoader(data_folder=data_dir).load(split=\"test\")\n",
    "\n",
    "    bm25_result_path = os.path.join(result_dir_root, dataset, \"bm25\", \"analysis.json\")\n",
    "    if dataset in [\"bioask\", \"nfcorpus\", \"trec-covid\"]:\n",
    "        vocab_num = \"71694\"\n",
    "    else:\n",
    "        vocab_num = \"62783\"\n",
    "    adalm_splade_result_path = os.path.join(result_dir_root, dataset, \"mlm-splade-org\", vocab_num, \"analysis.json\")\n",
    "    adalm_splade_idf_result_path = os.path.join(result_dir_root, dataset, \"mlm-splade-idf\", vocab_num, \"analysis.json\")\n",
    "    with open(bm25_result_path) as f:\n",
    "        bm25_result = json.load(f)\n",
    "    with open(adalm_splade_result_path) as f:\n",
    "        adalm_splade_result = json.load(f)[\"org\"]\n",
    "    with open(adalm_splade_idf_result_path) as f:\n",
    "        adalm_splade_idf_result = json.load(f)[\"idf\"]\n",
    "\n",
    "    print(dataset, weight_add_org_result_per_dataset(0.5, qrels, bm25_result, adalm_splade_result))\n",
    "    print(dataset, weight_add_org_result_per_dataset(0.5, qrels, bm25_result, adalm_splade_idf_result))\n"
   ]
  },
  {
   "cell_type": "code",
   "execution_count": null,
   "id": "77c5dd13",
   "metadata": {},
   "outputs": [],
   "source": [
    "data_dir_root = \"/home/gaia_data/iida.h/BEIR/datasets/\"\n",
    "result_dir_root = \"/home/gaia_data/iida.h/BEIR/splade_vocab/evaluation/\"\n",
    "    \n",
    "datasets = [\"nfcorpus\", \"scidocs\", \"scifact\", \"trec-covid\"]\n",
    "for dataset in datasets:\n",
    "    data_dir = os.path.join(data_dir_root, dataset)\n",
    "    queries, qrels = QrelDataLoader(data_folder=data_dir).load(split=\"test\")\n",
    "\n",
    "    bm25_result_path = os.path.join(result_dir_root, dataset, \"bm25\", \"analysis.json\")\n",
    "    if dataset in [\"bioask\", \"nfcorpus\", \"trec-covid\"]:\n",
    "        vocab_num = \"71694\"\n",
    "    else:\n",
    "        vocab_num = \"62783\"\n",
    "    adalm_splade_result_path = os.path.join(result_dir_root, dataset, \"mlm-splade-org\", vocab_num, \"analysis.json\")\n",
    "    adalm_splade_idf_result_path = os.path.join(result_dir_root, dataset, \"mlm-splade-idf\", vocab_num, \"analysis.json\")\n",
    "    with open(bm25_result_path) as f:\n",
    "        bm25_result = json.load(f)\n",
    "    with open(adalm_splade_result_path) as f:\n",
    "        adalm_splade_result = json.load(f)[\"org\"]\n",
    "    with open(adalm_splade_idf_result_path) as f:\n",
    "        adalm_splade_idf_result = json.load(f)[\"idf\"]\n",
    "\n",
    "    print(dataset, add_result_per_dataset(qrels, bm25_result, adalm_splade_result))\n",
    "    print(dataset, add_result_per_dataset(qrels, bm25_result, adalm_splade_idf_result))\n"
   ]
  },
  {
   "cell_type": "code",
   "execution_count": null,
   "id": "9bb03eba",
   "metadata": {},
   "outputs": [],
   "source": [
    "for dataset in datasets:\n",
    "    print(dataset)\n",
    "    laprador_result_path = os.path.join(result_dir_root, \"laprador\", dataset, \"analysis.json\")\n",
    "    with open(laprador_result_path) as f:\n",
    "        laprador_result = json.load(f)\n",
    "    print(laprador_result)"
   ]
  },
  {
   "cell_type": "code",
   "execution_count": null,
   "id": "12c0f696",
   "metadata": {},
   "outputs": [],
   "source": []
  }
 ],
 "metadata": {
  "kernelspec": {
   "display_name": "Python 3 (ipykernel)",
   "language": "python",
   "name": "python3"
  },
  "language_info": {
   "codemirror_mode": {
    "name": "ipython",
    "version": 3
   },
   "file_extension": ".py",
   "mimetype": "text/x-python",
   "name": "python",
   "nbconvert_exporter": "python",
   "pygments_lexer": "ipython3",
   "version": "3.8.8"
  }
 },
 "nbformat": 4,
 "nbformat_minor": 5
}
