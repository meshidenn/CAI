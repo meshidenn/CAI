{
 "cells": [
  {
   "cell_type": "code",
   "execution_count": 1,
   "id": "f4c37530",
   "metadata": {},
   "outputs": [
    {
     "name": "stderr",
     "output_type": "stream",
     "text": [
      "/home/iida.h/work/IR/JNLP2023-analysis/.venv_202307/lib/python3.10/site-packages/tqdm/auto.py:21: TqdmWarning: IProgress not found. Please update jupyter and ipywidgets. See https://ipywidgets.readthedocs.io/en/stable/user_install.html\n",
      "  from .autonotebook import tqdm as notebook_tqdm\n"
     ]
    }
   ],
   "source": [
    "import json\n",
    "from copy import deepcopy\n",
    "from collections import defaultdict\n",
    "from pathlib import Path\n",
    "from pprint import pprint\n",
    "\n",
    "from beir.retrieval.evaluation import EvaluateRetrieval\n",
    "from beir.datasets.data_loader import GenericDataLoader\n",
    "from common import get_result_colbert, get_result, get_result_bm25, add_result, add_result_org"
   ]
  },
  {
   "cell_type": "code",
   "execution_count": 2,
   "id": "d8f5ddfd",
   "metadata": {},
   "outputs": [],
   "source": [
    "k_values = [1, 3, 5, 10, 100]"
   ]
  },
  {
   "cell_type": "code",
   "execution_count": 3,
   "id": "d8728e65",
   "metadata": {},
   "outputs": [],
   "source": [
    "datasets = [\"bioask\", \"nfcorpus\", \"trec-covid\", \"scidocs\", \"scifact\"]\n",
    "retriever = EvaluateRetrieval(\"\", k_values = k_values)"
   ]
  },
  {
   "cell_type": "code",
   "execution_count": 4,
   "id": "2edbfc31",
   "metadata": {},
   "outputs": [],
   "source": [
    "models_name = [[\"dense-org\"], [\"splade-org\"], [\"mlm-splade-tk-org\"], [\"mlm-splade-tk-idf\"], [\"dense-org\", \"splade-org\"], [\"mlm-dense-org\"],  [\"mlm-splade-org\"], [\"mlm-splade-org\", \"mlm-dense-org\"]]\n",
    "root_path = Path(\"/home/gaia_data/iida.h/BEIR/datasets\")\n",
    "model_root_dir = Path(\"/home/gaia_data/iida.h/BEIR/splade_vocab/evaluation\")\n",
    "colbert_root_dir = Path(\"/home/gaia_data/iida.h/BEIR/colbert/\")"
   ]
  },
  {
   "cell_type": "code",
   "execution_count": null,
   "id": "668b8fea",
   "metadata": {},
   "outputs": [],
   "source": []
  },
  {
   "cell_type": "code",
   "execution_count": 5,
   "id": "46914dad",
   "metadata": {},
   "outputs": [],
   "source": [
    "def colbert(datasets, root_path, colbert_root_dir, colbert_path_pattern, gpl):\n",
    "    all_result = defaultdict(dict)\n",
    "    for dataset in datasets:\n",
    "        data_path = root_path / dataset\n",
    "        corpus, queries, qrels = GenericDataLoader(data_path).load(split=\"test\")\n",
    "        if gpl:\n",
    "            colbert_dir = colbert_root_dir.joinpath(\"gpl_experiments\", \"Distilcolbert-self\", dataset)  \n",
    "        else:\n",
    "            colbert_dir = colbert_root_dir.joinpath(\"experiments\", \"Distilcolbert-self\", dataset)   \n",
    "        colbert_path = list(colbert_dir.glob(colbert_path_pattern))[0]\n",
    "        colbert_dataset_dir = colbert_root_dir.joinpath(\"datasets\", dataset)\n",
    "        colbert_result = get_result_colbert(colbert_path, colbert_dataset_dir)\n",
    "\n",
    "        ndcg, _map, recall, precision = retriever.evaluate(qrels, colbert_result, k_values)\n",
    "        rcap = retriever.evaluate_custom(qrels, result, k_values, metric=\"r_cap\")\n",
    "        all_result[dataset] = {\"ndcg@10\": ndcg[\"NDCG@10\"], \"recall@100\": recall[\"Recall@100\"], \"Rcap@100\": rcap[\"R_cap@100\"]}\n",
    "    return all_result"
   ]
  },
  {
   "cell_type": "code",
   "execution_count": 6,
   "id": "ef206aed",
   "metadata": {},
   "outputs": [],
   "source": [
    "def da_colbert(datasets, root_path, colbert_root_dir, colbert_path_pattern, gpl):\n",
    "    all_result = defaultdict(dict)\n",
    "    for dataset in datasets:\n",
    "        data_path = root_path / dataset\n",
    "        corpus, queries, qrels = GenericDataLoader(data_path).load(split=\"test\")\n",
    "        if dataset in {\"bioask\", \"nfcorpus\", \"trec-covid\"}:\n",
    "            if gpl:\n",
    "                colbert_dir = colbert_root_dir.joinpath(\"gpl_experiments\", \"DistilAdaLM-bio\", dataset)\n",
    "            else:\n",
    "                colbert_dir = colbert_root_dir.joinpath(\"experiments\", \"DistilAdaLM-bio\", dataset)\n",
    "        elif dataset in {\"scidocs\", \"scifact\"}:\n",
    "            if gpl:\n",
    "                colbert_dir = colbert_root_dir.joinpath(\"gpl_experiments\", \"DistilAdaLM-sci\", dataset)\n",
    "            else:\n",
    "                colbert_dir = colbert_root_dir.joinpath(\"gpl_experiments\", \"DistilAdaLM-sci\", dataset)\n",
    "        colbert_path = list(colbert_dir.glob(colbert_path_pattern))[0]\n",
    "        colbert_dataset_dir = colbert_root_dir.joinpath(\"datasets\", dataset)\n",
    "        colbert_result = get_result_colbert(colbert_path, colbert_dataset_dir)\n",
    "\n",
    "        ndcg, _map, recall, precision = retriever.evaluate(qrels, colbert_result, k_values)\n",
    "        rcap = retriever.evaluate_custom(qrels, result, k_values, metric=\"r_cap\")\n",
    "        all_result[dataset] = {\"ndcg@10\": ndcg[\"NDCG@10\"], \"recall@100\": recall[\"Recall@100\"], \"R_cap@100\": rcap[\"R_cap@100\"]}\n",
    "    return all_result"
   ]
  },
  {
   "cell_type": "code",
   "execution_count": 7,
   "id": "e234c8b7",
   "metadata": {},
   "outputs": [],
   "source": [
    "def add_ensemble_w_colbert(datasets, models_name, root_path, model_root_dir, colbert_root_dir, colbert_path_pattern, gpl):\n",
    "    all_result = defaultdict(dict)\n",
    "    for dataset in datasets:\n",
    "        data_path = root_path / dataset\n",
    "        corpus, queries, qrels = GenericDataLoader(data_path).load(split=\"test\")\n",
    "        for model_name in models_name:\n",
    "            result = {}\n",
    "            for mn in model_name:\n",
    "                model_dir = model_root_dir.joinpath(dataset, mn)\n",
    "                model_path = list(model_dir.glob(\"**/analysis.json\"))[-1]\n",
    "                if mn == \"bm25\":\n",
    "                    model_result = get_result_bm25(model_path)\n",
    "                else:\n",
    "                    model_result = get_result(model_path)\n",
    "                result = add_result(result, model_result)\n",
    "                if gpl:\n",
    "                    colbert_dir = colbert_rcoot_dir.joinpath(\"gpl_experiments\", \"colbertv2.0\", dataset)  \n",
    "                else:\n",
    "                    colbert_dir = colbert_root_dir.joinpath(\"experiments\", \"colbertv2.0\", dataset)\n",
    "                print(colbert_dir)\n",
    "                colbert_path = list(colbert_dir.glob(colbert_path_pattern))[0]\n",
    "            colbert_dataset_dir = colbert_root_dir.joinpath(\"datasets\", dataset)\n",
    "            colbert_result = get_result_colbert(colbert_path, colbert_dataset_dir)\n",
    "            \n",
    "            result = add_result(result, colbert_result)\n",
    "            ndcg, _map, recall, precision = retriever.evaluate(qrels, result, k_values)\n",
    "            rcap = retriever.evaluate_custom(qrels, result, k_values, metric=\"r_cap\")\n",
    "            mns = \"-\".join(model_name)\n",
    "            all_result[dataset][mns] = {\"ndcg@10\": ndcg[\"NDCG@10\"], \"recall@100\": recall[\"Recall@100\"], \"R)cap@100\": rcap[\"R_cap@100\"]}\n",
    "    return all_result"
   ]
  },
  {
   "cell_type": "code",
   "execution_count": 8,
   "id": "b262c90b",
   "metadata": {},
   "outputs": [],
   "source": [
    "def add_ensemble_w_da_colbert(datasets, models_name, root_path, model_root_dir, colbert_root_dir, colbert_path_pattern, gpl):\n",
    "    all_result = defaultdict(dict)\n",
    "    for dataset in datasets:\n",
    "        data_path = root_path / dataset\n",
    "        corpus, queries, qrels = GenericDataLoader(data_path).load(split=\"test\")\n",
    "        for model_name in models_name:\n",
    "            result = {}\n",
    "            for mn in model_name:\n",
    "                model_dir = model_root_dir.joinpath(dataset, mn)\n",
    "                model_path = list(model_dir.glob(\"**/analysis.json\"))[-1]\n",
    "                if mn == \"bm25\":\n",
    "                    model_result = get_result_bm25(model_path)\n",
    "                else:\n",
    "                    model_result = get_result(model_path)\n",
    "                result = add_result(result, model_result)\n",
    "                if dataset in {\"bioask\", \"nfcorpus\", \"trec-covid\"}:\n",
    "                    if gpl:\n",
    "                        colbert_dir = colbert_root_dir.joinpath(\"gpl_experiments\", \"DistilAdaLM-bio\", dataset)\n",
    "                    else:\n",
    "                        colbert_dir = colbert_root_dir.joinpath(\"experiments\", \"DistilAdaLM-bio\", dataset)\n",
    "                elif dataset in {\"scidocs\", \"scifact\"}:\n",
    "                    if gpl:\n",
    "                        colbert_dir = colbert_root_dir.joinpath(\"gpl_experiments\", \"DistilAdaLM-sci\", dataset)\n",
    "                    else:\n",
    "                        colbert_dir = colbert_root_dir.joinpath(\"experiments\", \"DistilAdaLM-sci\", dataset)\n",
    "            if dataset in {\"bioask\"}:\n",
    "                print(list(colbert_dir.glob(colbert_path_pattern)))\n",
    "                colbert_path = list(colbert_dir.glob(colbert_path_pattern))[0]\n",
    "            else:    \n",
    "                colbert_path = list(colbert_dir.glob(colbert_path_pattern))[0]\n",
    "            colbert_dataset_dir = colbert_root_dir.joinpath(\"datasets\", dataset)\n",
    "            colbert_result = get_result_colbert(colbert_path, colbert_dataset_dir)\n",
    "            \n",
    "            result = add_result(result, colbert_result)\n",
    "            ndcg, _map, recall, precision = retriever.evaluate(qrels, result, k_values)\n",
    "            rcap = retriever.evaluate_custom(qrels, result, k_values, metric=\"r_cap\")\n",
    "            mns = \"-\".join(model_name)\n",
    "            all_result[dataset][mns] = {\"ndcg@10\": ndcg[\"NDCG@10\"], \"recall@100\": recall[\"Recall@100\"], \"R_cap\": rcap[\"R_cap@100\"]}\n",
    "    return all_result"
   ]
  },
  {
   "cell_type": "code",
   "execution_count": 9,
   "id": "a4166a37",
   "metadata": {},
   "outputs": [],
   "source": [
    "def add_ensemble_w_colbert_and_bm25(datasets, models_name, root_path, model_root_dir, colbert_root_dir):\n",
    "    all_result = defaultdict(dict)\n",
    "    for dataset in datasets:\n",
    "        data_path = root_path / dataset\n",
    "        corpus, queries, qrels = GenericDataLoader(data_path).load(split=\"test\")\n",
    "        bm25_dir = model_root_dir.joinpath(dataset, \"bm25\")\n",
    "        bm25_path = list(bm25_dir.glob(\"**/analysis.json\"))[-1]\n",
    "        bm25_result = get_result_bm25(bm25_path)\n",
    "        for model_name in models_name:\n",
    "            # result = deepcopy(bm25_result)\n",
    "            result = bm25_result\n",
    "            for mn in model_name:\n",
    "                model_dir = model_root_dir.joinpath(dataset, mn)\n",
    "                model_path = list(model_dir.glob(\"**/analysis.json\"))[-1]\n",
    "                model_result = get_result(model_path)\n",
    "                result = add_result(result, model_result)\n",
    "            colbert_dir = colbert_root_dir.joinpath(\"experiments\", \"colbertv2.0\", dataset)   \n",
    "            colbert_path = list(colbert_dir.glob(\"*search/2022-12/**/*.tsv\"))[0]\n",
    "            colbert_dataset_dir = colbert_root_dir.joinpath(\"datasets\", dataset)\n",
    "            colbert_result = get_result_colbert(colbert_path, colbert_dataset_dir)\n",
    "            \n",
    "            result = add_result(result, colbert_result)\n",
    "            ndcg, _map, recall, precision = retriever.evaluate(qrels, result, k_values)\n",
    "            rcap = retriever.evaluate_custom(qrels, result, k_values, metric=\"r_cap\")\n",
    "            mns = \"-\".join(model_name)\n",
    "            all_result[dataset][mns] = {\"ndcg@10\": ndcg[\"NDCG@10\"], \"recall@100\": recall[\"Recall@100\"], \"R_cap@100\": rcap[\"R_cap@100\"]}\n",
    "    return all_result"
   ]
  },
  {
   "cell_type": "code",
   "execution_count": 10,
   "id": "3727798b",
   "metadata": {},
   "outputs": [],
   "source": [
    "def add_ensemble_w_da_colbert_and_bm25(datasets, models_name, root_path, model_root_dir, colbert_root_dir, colbert_path_pattern, gpl):\n",
    "    all_result = defaultdict(dict)\n",
    "    for dataset in datasets:\n",
    "        data_path = root_path / dataset\n",
    "        corpus, queries, qrels = GenericDataLoader(data_path).load(split=\"test\")\n",
    "        bm25_dir = model_root_dir.joinpath(dataset, \"bm25\")\n",
    "        bm25_path = list(bm25_dir.glob(\"**/analysis.json\"))[-1]\n",
    "        bm25_result = get_result_bm25(bm25_path)\n",
    "        for model_name in models_name:\n",
    "            result = deepcopy(bm25_result)\n",
    "            for mn in model_name:\n",
    "                model_dir = model_root_dir.joinpath(dataset, mn)\n",
    "                model_path = list(model_dir.glob(\"**/analysis.json\"))[-1]\n",
    "                if mn == \"bm25\":\n",
    "                    model_result = get_result_bm25(model_path)\n",
    "                else:\n",
    "                    model_result = get_result(model_path)\n",
    "                result = add_result(result, model_result)\n",
    "            if dataset in {\"bioask\", \"nfcorpus\", \"trec-covid\"}:\n",
    "                if gpl:\n",
    "                    colbert_dir = colbert_root_dir.joinpath(\"gpl_experiments\", \"DistilAdaLM-bio\", dataset)\n",
    "                else:\n",
    "                    colbert_dir = colbert_root_dir.joinpath(\"experiments\", \"DistilAdaLM-bio\", dataset)\n",
    "            elif dataset in {\"scidocs\", \"scifact\"}:\n",
    "                if gpl:\n",
    "                    colbert_dir = colbert_root_dir.joinpath(\"gpl_experiments\", \"DistilAdaLM-sci\", dataset)\n",
    "                else:\n",
    "                    colbert_dir = colbert_root_dir.joinpath(\"experiments\", \"DistilAdaLM-sci\", dataset)\n",
    "            if dataset in {\"bioask\"}:\n",
    "                print(colbert_dir, list(colbert_dir.glob(colbert_path_pattern)))\n",
    "                colbert_path = list(colbert_dir.glob(colbert_path_pattern))[0]\n",
    "            else:\n",
    "                colbert_path = list(colbert_dir.glob(colbert_path_pattern))[0]\n",
    "            \n",
    "            colbert_dataset_dir = colbert_root_dir.joinpath(\"datasets\", dataset)\n",
    "            colbert_result = get_result_colbert(colbert_path, colbert_dataset_dir)\n",
    "            \n",
    "            result = add_result(result, colbert_result)\n",
    "            ndcg, _map, recall, precision = retriever.evaluate(qrels, result, k_values)\n",
    "            rcap = retriever.evaluate_custom(qrels, result, k_values, metric=\"r_cap\")\n",
    "            mns = \"-\".join(model_name)\n",
    "            all_result[dataset][mns] = {\"ndcg@10\": ndcg[\"NDCG@10\"], \"recall@100\": recall[\"Recall@100\"], \"R_cap@100\": rcap[\"R_cap@100\"]}\n",
    "    return all_result"
   ]
  },
  {
   "cell_type": "code",
   "execution_count": 11,
   "id": "a43aeafe",
   "metadata": {},
   "outputs": [],
   "source": [
    "def add_models_w_bm25(datasets, models_name, root_path, model_root_dir):\n",
    "    all_result = defaultdict(dict)\n",
    "    for dataset in datasets:\n",
    "        data_path = root_path / dataset\n",
    "        corpus, queries, qrels = GenericDataLoader(data_path).load(split=\"test\")\n",
    "        bm25_dir = model_root_dir.joinpath(dataset, \"bm25\")\n",
    "        bm25_path = list(bm25_dir.glob(\"**/analysis.json\"))[-1]\n",
    "        bm25_result = get_result_bm25(bm25_path)\n",
    "        for model_name in models_name:\n",
    "            result = deepcopy(bm25_result)\n",
    "            for mn in model_name:\n",
    "                model_dir = model_root_dir.joinpath(dataset, mn)\n",
    "                print(model_name)\n",
    "                model_path = list(model_dir.glob(\"**/analysis.json\"))[-1]\n",
    "                model_result = get_result(model_path)\n",
    "                result = add_result(result, model_result)\n",
    "\n",
    "            ndcg, _map, recall, precision = retriever.evaluate(qrels, result, k_values)\n",
    "            mns = \"-\".join(model_name)\n",
    "            rcap = retriever.evaluate_custom(qrels, result, k_values, metric=\"r_cap\")\n",
    "            all_result[dataset][mns] = {\"ndcg@10\": ndcg[\"NDCG@10\"], \"recall@100\": recall[\"Recall@100\"], \"rcap@100\": rcap[\"R_cap@100\"]}\n",
    "    return all_result"
   ]
  },
  {
   "cell_type": "code",
   "execution_count": 12,
   "id": "80b4adbc",
   "metadata": {},
   "outputs": [],
   "source": [
    "def add_models(datasets, models_name, root_path, model_root_dir):\n",
    "    all_result = defaultdict(dict)\n",
    "    for dataset in datasets:\n",
    "        data_path = root_path / dataset\n",
    "        corpus, queries, qrels = GenericDataLoader(data_path).load(split=\"test\")\n",
    "        for model_name in models_name:\n",
    "            result = {}\n",
    "            for mn in model_name:\n",
    "                model_dir = model_root_dir.joinpath(dataset, mn)\n",
    "                model_path = list(model_dir.glob(\"**/analysis.json\"))[-1]\n",
    "                model_result = get_result(model_path)\n",
    "                result = add_result(result, model_result)\n",
    "\n",
    "            ndcg, _map, recall, precision = retriever.evaluate(qrels, result, k_values)\n",
    "            rcap = retriever.evaluate_custom(qrels, result, k_values, metric=\"r_cap\")\n",
    "            mns = \"-\".join(model_name)\n",
    "            all_result[dataset][mns] = {\"ndcg@10\": ndcg[\"NDCG@10\"], \"recall@100\": recall[\"Recall@100\"], \"R_cap@100\": rcap[\"R_cap@100\"]}\n",
    "    return all_result"
   ]
  },
  {
   "cell_type": "code",
   "execution_count": 15,
   "id": "487c036a-03af-43b1-9075-2750fe974f01",
   "metadata": {},
   "outputs": [],
   "source": [
    "def add_models_cbm25(datasets, models_name, root_path, model_root_dir):\n",
    "    all_result = defaultdict(dict)\n",
    "    for dataset in datasets:\n",
    "        data_path = root_path / dataset\n",
    "        corpus, queries, qrels = GenericDataLoader(data_path).load(split=\"test\")\n",
    "        for model_name in models_name:\n",
    "            result = {}\n",
    "            for mn in model_name:\n",
    "                model_dir = model_root_dir.joinpath(dataset, \"result\", mn)\n",
    "                model_path = list(model_dir.glob(\"**/analysis.json\"))[-1]\n",
    "                if \"lss\" in mn:\n",
    "                    model_result = get_result(model_path)\n",
    "                else:\n",
    "                    modek_result = get_result(model_path)\n",
    "                result = add_result(result, model_result)\n",
    "\n",
    "            ndcg, _map, recall, precision = retriever.evaluate(qrels, result, k_values)\n",
    "            rcap = retriever.evaluate_custom(qrels, result, k_values, metric=\"r_cap\")\n",
    "            mns = \"-\".join(model_name)\n",
    "            all_result[dataset][mns] = {\"ndcg@10\": ndcg[\"NDCG@10\"], \"recall@100\": recall[\"Recall@100\"], \"R_cap@100\": rcap[\"R_cap@100\"]}\n",
    "    return all_result"
   ]
  },
  {
   "cell_type": "code",
   "execution_count": 15,
   "id": "b23d6598",
   "metadata": {},
   "outputs": [
    {
     "name": "stderr",
     "output_type": "stream",
     "text": [
      "100%|███████████████████████████████████████████████████████████████████████████████████████████████████████████████████████████████████████████████| 14914714/14914714 [02:02<00:00, 121810.97it/s]\n"
     ]
    },
    {
     "name": "stdout",
     "output_type": "stream",
     "text": [
      "['mlm-splade-org']\n",
      "['mlm-splade-tk-org']\n",
      "defaultdict(<class 'dict'>,\n",
      "            {'bioask': {'mlm-splade-org': {'ndcg@10': 0.57734,\n",
      "                                           'rcap@100': 0.82542,\n",
      "                                           'recall@100': 0.82542},\n",
      "                        'mlm-splade-tk-org': {'ndcg@10': 0.5511,\n",
      "                                              'rcap@100': 0.8041,\n",
      "                                              'recall@100': 0.8041}}})\n"
     ]
    }
   ],
   "source": [
    "# datasets = [\"bioask\", \"nfcorpus\", \"trec-covid\", \"scidocs\", \"scifact\"]\n",
    "datasets = [\"bioask\"]\n",
    "models_name = [[\"mlm-splade-org\"],  [\"mlm-splade-tk-org\"]]\n",
    "all_result = add_models_w_bm25(datasets, models_name, root_path, model_root_dir)\n",
    "pprint(all_result)"
   ]
  },
  {
   "cell_type": "code",
   "execution_count": 16,
   "id": "bc8864f8",
   "metadata": {},
   "outputs": [
    {
     "name": "stderr",
     "output_type": "stream",
     "text": [
      "100%|███████████████████████████████████████████████████████████████████████████████████████████████████████████████████████████████████████████████| 14914714/14914714 [01:53<00:00, 131493.30it/s]\n"
     ]
    },
    {
     "name": "stdout",
     "output_type": "stream",
     "text": [
      "['mlm-splade-idf']\n",
      "['mlm-splade-tk-idf']\n",
      "defaultdict(<class 'dict'>,\n",
      "            {'bioask': {'mlm-splade-idf': {'ndcg@10': 0.57674,\n",
      "                                           'rcap@100': 0.82077,\n",
      "                                           'recall@100': 0.82127},\n",
      "                        'mlm-splade-tk-idf': {'ndcg@10': 0.57292,\n",
      "                                              'rcap@100': 0.8255,\n",
      "                                              'recall@100': 0.8255}}})\n"
     ]
    }
   ],
   "source": [
    "# datasets = [\"bioask\", \"nfcorpus\", \"trec-covid\", \"scidocs\", \"scifact\"]\n",
    "datasets = [\"bioask\"]\n",
    "models_name = [[\"mlm-splade-idf\"],  [\"mlm-splade-tk-idf\"]]\n",
    "all_result = add_models_w_bm25(datasets, models_name, root_path, model_root_dir)\n",
    "pprint(all_result)"
   ]
  },
  {
   "cell_type": "code",
   "execution_count": 14,
   "id": "67ffb6d2",
   "metadata": {},
   "outputs": [
    {
     "name": "stderr",
     "output_type": "stream",
     "text": [
      "100%|████████████████████████████████████████████████████████████████████████████████████████████████████████████████████████████████████████████████████████| 3633/3633 [00:00<00:00, 76263.13it/s]\n"
     ]
    },
    {
     "name": "stdout",
     "output_type": "stream",
     "text": [
      "['mlm-splade-org']\n",
      "['mlm-splade-tk-org']\n",
      "['mlm-splade-org', 'mlm-dense-org']\n",
      "['mlm-splade-org', 'mlm-dense-org']\n"
     ]
    },
    {
     "name": "stderr",
     "output_type": "stream",
     "text": [
      "100%|████████████████████████████████████████████████████████████████████████████████████████████████████████████████████████████████████████████████████| 171332/171332 [00:01<00:00, 96563.26it/s]\n"
     ]
    },
    {
     "name": "stdout",
     "output_type": "stream",
     "text": [
      "['mlm-splade-org']\n",
      "['mlm-splade-tk-org']\n",
      "['mlm-splade-org', 'mlm-dense-org']\n",
      "['mlm-splade-org', 'mlm-dense-org']\n"
     ]
    },
    {
     "name": "stderr",
     "output_type": "stream",
     "text": [
      "100%|██████████████████████████████████████████████████████████████████████████████████████████████████████████████████████████████████████████████████████| 25657/25657 [00:01<00:00, 23922.46it/s]\n"
     ]
    },
    {
     "name": "stdout",
     "output_type": "stream",
     "text": [
      "['mlm-splade-org']\n",
      "['mlm-splade-tk-org']\n",
      "['mlm-splade-org', 'mlm-dense-org']\n",
      "['mlm-splade-org', 'mlm-dense-org']\n"
     ]
    },
    {
     "name": "stderr",
     "output_type": "stream",
     "text": [
      "100%|████████████████████████████████████████████████████████████████████████████████████████████████████████████████████████████████████████████████████████| 5183/5183 [00:00<00:00, 97261.34it/s]\n"
     ]
    },
    {
     "name": "stdout",
     "output_type": "stream",
     "text": [
      "['mlm-splade-org']\n",
      "['mlm-splade-tk-org']\n",
      "['mlm-splade-org', 'mlm-dense-org']\n",
      "['mlm-splade-org', 'mlm-dense-org']\n",
      "defaultdict(<class 'dict'>,\n",
      "            {'nfcorpus': {'mlm-splade-org': {'ndcg@10': 0.3537,\n",
      "                                             'rcap@100': 0.31059,\n",
      "                                             'recall@100': 0.2949},\n",
      "                          'mlm-splade-org-mlm-dense-org': {'ndcg@10': 0.36014,\n",
      "                                                           'rcap@100': 0.32801,\n",
      "                                                           'recall@100': 0.31256},\n",
      "                          'mlm-splade-tk-org': {'ndcg@10': 0.34322,\n",
      "                                                'rcap@100': 0.29448,\n",
      "                                                'recall@100': 0.27882}},\n",
      "             'scidocs': {'mlm-splade-org': {'ndcg@10': 0.16398,\n",
      "                                            'rcap@100': 0.37052,\n",
      "                                            'recall@100': 0.37052},\n",
      "                         'mlm-splade-org-mlm-dense-org': {'ndcg@10': 0.17362,\n",
      "                                                          'rcap@100': 0.37638,\n",
      "                                                          'recall@100': 0.37638},\n",
      "                         'mlm-splade-tk-org': {'ndcg@10': 0.15671,\n",
      "                                               'rcap@100': 0.36142,\n",
      "                                               'recall@100': 0.36142}},\n",
      "             'scifact': {'mlm-splade-org': {'ndcg@10': 0.72459,\n",
      "                                            'rcap@100': 0.952,\n",
      "                                            'recall@100': 0.952},\n",
      "                         'mlm-splade-org-mlm-dense-org': {'ndcg@10': 0.73259,\n",
      "                                                          'rcap@100': 0.962,\n",
      "                                                          'recall@100': 0.962},\n",
      "                         'mlm-splade-tk-org': {'ndcg@10': 0.70334,\n",
      "                                               'rcap@100': 0.93967,\n",
      "                                               'recall@100': 0.93967}},\n",
      "             'trec-covid': {'mlm-splade-org': {'ndcg@10': 0.72707,\n",
      "                                               'rcap@100': 0.5776,\n",
      "                                               'recall@100': 0.13467},\n",
      "                            'mlm-splade-org-mlm-dense-org': {'ndcg@10': 0.80586,\n",
      "                                                             'rcap@100': 0.6016,\n",
      "                                                             'recall@100': 0.14145},\n",
      "                            'mlm-splade-tk-org': {'ndcg@10': 0.64129,\n",
      "                                                  'rcap@100': 0.4874,\n",
      "                                                  'recall@100': 0.11397}}})\n"
     ]
    }
   ],
   "source": [
    "# datasets = [\"bioask\", \"nfcorpus\", \"trec-covid\", \"scidocs\", \"scifact\"]\n",
    "datasets = [\"nfcorpus\", \"trec-covid\", \"scidocs\", \"scifact\"]\n",
    "models_name = [[\"mlm-splade-org\"], [\"mlm-splade-tk-org\"], [\"mlm-splade-org\", \"mlm-dense-org\"]]\n",
    "all_result = add_models_w_bm25(datasets, models_name, root_path, model_root_dir)\n",
    "pprint(all_result)"
   ]
  },
  {
   "cell_type": "code",
   "execution_count": 18,
   "id": "abc4fc67",
   "metadata": {},
   "outputs": [
    {
     "name": "stderr",
     "output_type": "stream",
     "text": [
      "100%|████████████████████████████████████████████████████████████████████████████████████████████████████████████████████████████████████████████████████████| 3633/3633 [00:00<00:00, 86672.58it/s]\n"
     ]
    },
    {
     "name": "stdout",
     "output_type": "stream",
     "text": [
      "['mlm-splade-idf']\n",
      "['mlm-splade-tk-idf']\n"
     ]
    },
    {
     "name": "stderr",
     "output_type": "stream",
     "text": [
      "100%|████████████████████████████████████████████████████████████████████████████████████████████████████████████████████████████████████████████████████| 171332/171332 [00:01<00:00, 98418.13it/s]\n"
     ]
    },
    {
     "name": "stdout",
     "output_type": "stream",
     "text": [
      "['mlm-splade-idf']\n",
      "['mlm-splade-tk-idf']\n"
     ]
    },
    {
     "name": "stderr",
     "output_type": "stream",
     "text": [
      "100%|██████████████████████████████████████████████████████████████████████████████████████████████████████████████████████████████████████████████████████| 25657/25657 [00:01<00:00, 23703.99it/s]\n"
     ]
    },
    {
     "name": "stdout",
     "output_type": "stream",
     "text": [
      "['mlm-splade-idf']\n",
      "['mlm-splade-tk-idf']\n"
     ]
    },
    {
     "name": "stderr",
     "output_type": "stream",
     "text": [
      "100%|████████████████████████████████████████████████████████████████████████████████████████████████████████████████████████████████████████████████████████| 5183/5183 [00:00<00:00, 99111.78it/s]\n"
     ]
    },
    {
     "name": "stdout",
     "output_type": "stream",
     "text": [
      "['mlm-splade-idf']\n",
      "['mlm-splade-tk-idf']\n",
      "defaultdict(<class 'dict'>,\n",
      "            {'nfcorpus': {'mlm-splade-idf': {'ndcg@10': 0.35647,\n",
      "                                             'rcap@100': 0.3139,\n",
      "                                             'recall@100': 0.29799},\n",
      "                          'mlm-splade-tk-idf': {'ndcg@10': 0.34811,\n",
      "                                                'rcap@100': 0.29971,\n",
      "                                                'recall@100': 0.28395}},\n",
      "             'scidocs': {'mlm-splade-idf': {'ndcg@10': 0.16483,\n",
      "                                            'rcap@100': 0.37748,\n",
      "                                            'recall@100': 0.37748},\n",
      "                         'mlm-splade-tk-idf': {'ndcg@10': 0.16313,\n",
      "                                               'rcap@100': 0.37082,\n",
      "                                               'recall@100': 0.37082}},\n",
      "             'scifact': {'mlm-splade-idf': {'ndcg@10': 0.71765,\n",
      "                                            'rcap@100': 0.95533,\n",
      "                                            'recall@100': 0.95533},\n",
      "                         'mlm-splade-tk-idf': {'ndcg@10': 0.71439,\n",
      "                                               'rcap@100': 0.94767,\n",
      "                                               'recall@100': 0.94767}},\n",
      "             'trec-covid': {'mlm-splade-idf': {'ndcg@10': 0.74379,\n",
      "                                               'rcap@100': 0.6028,\n",
      "                                               'recall@100': 0.14246},\n",
      "                            'mlm-splade-tk-idf': {'ndcg@10': 0.65286,\n",
      "                                                  'rcap@100': 0.529,\n",
      "                                                  'recall@100': 0.12541}}})\n"
     ]
    }
   ],
   "source": [
    "# datasets = [\"bioask\", \"nfcorpus\", \"trec-covid\", \"scidocs\", \"scifact\"]\n",
    "datasets = [\"nfcorpus\", \"trec-covid\", \"scidocs\", \"scifact\"]\n",
    "models_name = [[\"mlm-splade-idf\"], [\"mlm-splade-tk-idf\"]]\n",
    "all_result = add_models_w_bm25(datasets, models_name, root_path, model_root_dir)\n",
    "pprint(all_result)"
   ]
  },
  {
   "cell_type": "code",
   "execution_count": 15,
   "id": "7299a7d0",
   "metadata": {},
   "outputs": [
    {
     "name": "stderr",
     "output_type": "stream",
     "text": [
      "100%|███████████████████████████████████████████████████████████████████████████████████████████████████████████████████████████████████████████████| 14914714/14914714 [02:20<00:00, 106320.50it/s]\n"
     ]
    },
    {
     "name": "stdout",
     "output_type": "stream",
     "text": [
      "['mlm-splade-org']\n",
      "['mlm-splade-org', 'mlm-dense-org']\n",
      "['mlm-splade-org', 'mlm-dense-org']\n",
      "defaultdict(<class 'dict'>,\n",
      "            {'bioask': {'mlm-splade-org': {'ndcg@10': 0.57734,\n",
      "                                           'rcap@100': 0.82542,\n",
      "                                           'recall@100': 0.82542},\n",
      "                        'mlm-splade-org-mlm-dense-org': {'ndcg@10': 0.57729,\n",
      "                                                         'rcap@100': 0.81891,\n",
      "                                                         'recall@100': 0.81891}}})\n"
     ]
    }
   ],
   "source": [
    "datasets = [\"bioask\"]\n",
    "models_name = [[\"mlm-splade-org\"], [\"mlm-splade-org\", \"mlm-dense-org\"]]\n",
    "all_result = add_models_w_bm25(datasets, models_name, root_path, model_root_dir)\n",
    "pprint(all_result)"
   ]
  },
  {
   "cell_type": "code",
   "execution_count": 23,
   "id": "96cb9892",
   "metadata": {},
   "outputs": [
    {
     "name": "stderr",
     "output_type": "stream",
     "text": [
      "100%|████████████████████████████████████████████████████████████████████████████████████████████████████████████████████████████████████████████████████████| 3633/3633 [00:00<00:00, 83428.18it/s]\n",
      "100%|███████████████████████████████████████████████████████████████████████████████████████████████████████████████████████████████████████████████████| 171332/171332 [00:01<00:00, 101540.13it/s]\n",
      "100%|██████████████████████████████████████████████████████████████████████████████████████████████████████████████████████████████████████████████████████| 25657/25657 [00:01<00:00, 24191.23it/s]\n",
      "100%|████████████████████████████████████████████████████████████████████████████████████████████████████████████████████████████████████████████████████████| 5183/5183 [00:00<00:00, 96539.60it/s]\n"
     ]
    },
    {
     "name": "stdout",
     "output_type": "stream",
     "text": [
      "defaultdict(<class 'dict'>,\n",
      "            {'nfcorpus': {'mlm-dense-org': {'R_cap@100': 0.3183,\n",
      "                                            'ndcg@10': 0.35384,\n",
      "                                            'recall@100': 0.30384},\n",
      "                          'mlm-splade-org': {'R_cap@100': 0.32236,\n",
      "                                             'ndcg@10': 0.35784,\n",
      "                                             'recall@100': 0.30711},\n",
      "                          'mlm-splade-org-mlm-dense-org': {'R_cap@100': 0.32522,\n",
      "                                                           'ndcg@10': 0.35973,\n",
      "                                                           'recall@100': 0.3104}},\n",
      "             'scidocs': {'mlm-dense-org': {'R_cap@100': 0.36835,\n",
      "                                           'ndcg@10': 0.17373,\n",
      "                                           'recall@100': 0.36835},\n",
      "                         'mlm-splade-org': {'R_cap@100': 0.38062,\n",
      "                                            'ndcg@10': 0.16856,\n",
      "                                            'recall@100': 0.38062},\n",
      "                         'mlm-splade-org-mlm-dense-org': {'R_cap@100': 0.37425,\n",
      "                                                          'ndcg@10': 0.17326,\n",
      "                                                          'recall@100': 0.37425}},\n",
      "             'scifact': {'mlm-dense-org': {'R_cap@100': 0.952,\n",
      "                                           'ndcg@10': 0.72853,\n",
      "                                           'recall@100': 0.952},\n",
      "                         'mlm-splade-org': {'R_cap@100': 0.95533,\n",
      "                                            'ndcg@10': 0.72318,\n",
      "                                            'recall@100': 0.95533},\n",
      "                         'mlm-splade-org-mlm-dense-org': {'R_cap@100': 0.95533,\n",
      "                                                          'ndcg@10': 0.72882,\n",
      "                                                          'recall@100': 0.95533}},\n",
      "             'trec-covid': {'mlm-dense-org': {'R_cap@100': 0.6136,\n",
      "                                              'ndcg@10': 0.82298,\n",
      "                                              'recall@100': 0.14458},\n",
      "                            'mlm-splade-org': {'R_cap@100': 0.6252,\n",
      "                                               'ndcg@10': 0.7746,\n",
      "                                               'recall@100': 0.14634},\n",
      "                            'mlm-splade-org-mlm-dense-org': {'R_cap@100': 0.6454,\n",
      "                                                             'ndcg@10': 0.81749,\n",
      "                                                             'recall@100': 0.15119}}})\n"
     ]
    }
   ],
   "source": [
    "datasets = [\"nfcorpus\", \"trec-covid\", \"scidocs\", \"scifact\"]\n",
    "models_name = [[\"mlm-dense-org\"],  [\"mlm-splade-org\"], [\"mlm-splade-org\", \"mlm-dense-org\"]]\n",
    "colbert_path_pattern = [(\"*search/2022-12/29/**/*.tsv\", False)]\n",
    "for cpp, gpl in colbert_path_pattern:\n",
    "    all_result = add_ensemble_w_da_colbert_and_bm25(datasets, models_name, root_path, model_root_dir, colbert_root_dir, cpp, gpl)\n",
    "    pprint(all_result)"
   ]
  },
  {
   "cell_type": "code",
   "execution_count": 91,
   "id": "0ef63681",
   "metadata": {},
   "outputs": [
    {
     "data": {
      "application/vnd.jupyter.widget-view+json": {
       "model_id": "2287fb741f3d437fbc090a9c5e42b58e",
       "version_major": 2,
       "version_minor": 0
      },
      "text/plain": [
       "  0%|          | 0/14914714 [00:00<?, ?it/s]"
      ]
     },
     "metadata": {},
     "output_type": "display_data"
    },
    {
     "name": "stdout",
     "output_type": "stream",
     "text": [
      "defaultdict(<class 'dict'>,\n",
      "            {'bioask': {'mlm-dense-org': {'ndcg@10': 0.54182,\n",
      "                                          'recall@100': 0.7904},\n",
      "                        'mlm-splade-org': {'ndcg@10': 0.57281,\n",
      "                                           'recall@100': 0.7904},\n",
      "                        'mlm-splade-org-mlm-dense-org': {'ndcg@10': 0.54083,\n",
      "                                                         'recall@100': 0.7904}}})\n"
     ]
    }
   ],
   "source": [
    "datasets = [\"bioask\"]\n",
    "models_name = [[\"mlm-dense-org\"],  [\"mlm-splade-org\"], [\"mlm-splade-org\", \"mlm-dense-org\"]]\n",
    "colbert_path_pattern = [(\"*search/2023-01/01/**/*.tsv\", False)]\n",
    "for cpp, gpl in colbert_path_pattern:\n",
    "    all_result = add_ensemble_w_da_colbert_and_bm25(datasets, models_name, root_path, model_root_dir, colbert_root_dir, cpp, gpl)\n",
    "    pprint(all_result)"
   ]
  },
  {
   "cell_type": "code",
   "execution_count": 14,
   "id": "659c1f68",
   "metadata": {},
   "outputs": [
    {
     "name": "stderr",
     "output_type": "stream",
     "text": [
      "100%|███████████████████████████████████████████████████████████████████████████████████████████████████████████████████████████████████████████████| 14914714/14914714 [02:17<00:00, 108082.67it/s]\n"
     ]
    },
    {
     "name": "stdout",
     "output_type": "stream",
     "text": [
      "[PosixPath('/home/gaia_data/iida.h/BEIR/colbert/experiments/DistilAdaLM-bio/bioask/home.acc12607xq.work.ColBERT.run.scripts.search/2023-01/01/14.14.16/bioask.nbits2.ranking.tsv')]\n",
      "[PosixPath('/home/gaia_data/iida.h/BEIR/colbert/experiments/DistilAdaLM-bio/bioask/home.acc12607xq.work.ColBERT.run.scripts.search/2023-01/01/14.14.16/bioask.nbits2.ranking.tsv')]\n",
      "defaultdict(<class 'dict'>,\n",
      "            {'bioask': {'bm25-mlm-splade-org': {'R_cap': 0.83779,\n",
      "                                                'ndcg@10': 0.59241,\n",
      "                                                'recall@100': 0.83779},\n",
      "                        'bm25-mlm-splade-org-mlm-dense-org': {'R_cap': 0.84146,\n",
      "                                                              'ndcg@10': 0.57995,\n",
      "                                                              'recall@100': 0.84146}}})\n"
     ]
    }
   ],
   "source": [
    "datasets = [\"bioask\"]\n",
    "models_name = [[\"bm25\", \"mlm-splade-org\"], [\"bm25\", \"mlm-splade-org\", \"mlm-dense-org\"]]\n",
    "colbert_path_pattern = [(\"*search/2023-01/01/**/*.tsv\", False)]\n",
    "for cpp, gpl in colbert_path_pattern:\n",
    "    all_result = add_ensemble_w_da_colbert(datasets, models_name, root_path, model_root_dir, colbert_root_dir, cpp, gpl)\n",
    "    pprint(all_result)"
   ]
  },
  {
   "cell_type": "code",
   "execution_count": 16,
   "id": "90ceffd9-67ac-48ff-9b87-32b5daa0f5f4",
   "metadata": {},
   "outputs": [
    {
     "name": "stderr",
     "output_type": "stream",
     "text": [
      "100%|███████████████████████████████████████████████████████████████████████████████████████████████████████████████████████████████████████████████████| 3633/3633 [00:00<00:00, 152946.50it/s]\n",
      "100%|███████████████████████████████████████████████████████████████████████████████████████████████████████████████████████████████████████████████| 171332/171332 [00:00<00:00, 185291.95it/s]\n",
      "100%|██████████████████████████████████████████████████████████████████████████████████████████████████████████████████████████████████████████████████| 25657/25657 [00:00<00:00, 44465.83it/s]\n",
      "100%|████████████████████████████████████████████████████████████████████████████████████████████████████████████████████████████████████████████████████| 5183/5183 [00:00<00:00, 84508.60it/s]\n",
      "100%|███████████████████████████████████████████████████████████████████████████████████████████████████████████████████████████████████████████| 14914714/14914714 [01:14<00:00, 200792.96it/s]\n"
     ]
    },
    {
     "name": "stdout",
     "output_type": "stream",
     "text": [
      "defaultdict(<class 'dict'>,\n",
      "            {'bioask': {'lss/mpnet-tod-dot/mpnet-v3-mse-beir-dot': {'R_cap@100': 0.71936,\n",
      "                                                                    'ndcg@10': 0.52644,\n",
      "                                                                    'recall@100': 0.71936}},\n",
      "             'nfcorpus': {'lss/mpnet-tod-dot/mpnet-v3-mse-beir-dot': {'R_cap@100': 0.25127,\n",
      "                                                                      'ndcg@10': 0.3607,\n",
      "                                                                      'recall@100': 0.25164}},\n",
      "             'scidocs': {'lss/mpnet-tod-dot/mpnet-v3-mse-beir-dot': {'R_cap@100': 0.32987,\n",
      "                                                                     'ndcg@10': 0.15933,\n",
      "                                                                     'recall@100': 0.32987}},\n",
      "             'scifact': {'lss/mpnet-tod-dot/mpnet-v3-mse-beir-dot': {'R_cap@100': 0.917,\n",
      "                                                                     'ndcg@10': 0.71104,\n",
      "                                                                     'recall@100': 0.917}},\n",
      "             'trec-covid': {'lss/mpnet-tod-dot/mpnet-v3-mse-beir-dot': {'R_cap@100': 0.4478,\n",
      "                                                                        'ndcg@10': 0.72409,\n",
      "                                                                        'recall@100': 0.10393}}})\n"
     ]
    }
   ],
   "source": [
    "datasets = [\"nfcorpus\", \"trec-covid\", \"scidocs\", \"scifact\", \"bioask\"]\n",
    "models_name = [[\"lss/mpnet-tod\", \"dot/mpnet-v3-mse-beir-dot\"]]\n",
    "all_result = add_models_cbm25(datasets, models_name, root_path, Path(\"/home/gaia_data/iida.h/BEIR/C-BM25/results/\"))\n",
    "pprint(all_result)"
   ]
  },
  {
   "cell_type": "markdown",
   "id": "2cb1f108",
   "metadata": {},
   "source": [
    "# No-DA-Ensemble"
   ]
  },
  {
   "cell_type": "code",
   "execution_count": 1,
   "id": "fe622d41",
   "metadata": {},
   "outputs": [
    {
     "ename": "NameError",
     "evalue": "name 'add_models_w_bm25' is not defined",
     "output_type": "error",
     "traceback": [
      "\u001b[0;31m---------------------------------------------------------------------------\u001b[0m",
      "\u001b[0;31mNameError\u001b[0m                                 Traceback (most recent call last)",
      "\u001b[0;32m<ipython-input-1-92d6efa5dd18>\u001b[0m in \u001b[0;36m<module>\u001b[0;34m\u001b[0m\n\u001b[1;32m      1\u001b[0m \u001b[0mdatasets\u001b[0m \u001b[0;34m=\u001b[0m \u001b[0;34m[\u001b[0m\u001b[0;34m\"msmarco\"\u001b[0m\u001b[0;34m]\u001b[0m\u001b[0;34m\u001b[0m\u001b[0;34m\u001b[0m\u001b[0m\n\u001b[1;32m      2\u001b[0m \u001b[0mmodels_name\u001b[0m \u001b[0;34m=\u001b[0m \u001b[0;34m[\u001b[0m\u001b[0;34m[\u001b[0m\u001b[0;34m\"dense-org\"\u001b[0m\u001b[0;34m]\u001b[0m\u001b[0;34m,\u001b[0m \u001b[0;34m[\u001b[0m\u001b[0;34m\"splade-org\"\u001b[0m\u001b[0;34m]\u001b[0m\u001b[0;34m,\u001b[0m \u001b[0;34m[\u001b[0m\u001b[0;34m\"dense-org\"\u001b[0m\u001b[0;34m,\u001b[0m \u001b[0;34m\"splade-org\"\u001b[0m\u001b[0;34m]\u001b[0m\u001b[0;34m]\u001b[0m\u001b[0;34m\u001b[0m\u001b[0;34m\u001b[0m\u001b[0m\n\u001b[0;32m----> 3\u001b[0;31m \u001b[0mall_result\u001b[0m \u001b[0;34m=\u001b[0m \u001b[0madd_models_w_bm25\u001b[0m\u001b[0;34m(\u001b[0m\u001b[0mdatasets\u001b[0m\u001b[0;34m,\u001b[0m \u001b[0mmodels_name\u001b[0m\u001b[0;34m,\u001b[0m \u001b[0mroot_path\u001b[0m\u001b[0;34m,\u001b[0m \u001b[0mmodel_root_dir\u001b[0m\u001b[0;34m)\u001b[0m\u001b[0;34m\u001b[0m\u001b[0;34m\u001b[0m\u001b[0m\n\u001b[0m\u001b[1;32m      4\u001b[0m \u001b[0mpprint\u001b[0m\u001b[0;34m(\u001b[0m\u001b[0mall_result\u001b[0m\u001b[0;34m)\u001b[0m\u001b[0;34m\u001b[0m\u001b[0;34m\u001b[0m\u001b[0m\n",
      "\u001b[0;31mNameError\u001b[0m: name 'add_models_w_bm25' is not defined"
     ]
    }
   ],
   "source": [
    "datasets = [\"msmarco\"]\n",
    "models_name = [[\"dense-org\"], [\"splade-org\"], [\"dense-org\", \"splade-org\"]]\n",
    "all_result = add_models(datasets, models_name, root_path, model_root_dir)\n",
    "pprint(all_result)"
   ]
  },
  {
   "cell_type": "code",
   "execution_count": 20,
   "id": "53618a79",
   "metadata": {},
   "outputs": [
    {
     "name": "stderr",
     "output_type": "stream",
     "text": [
      "100%|████████████████████████████████████████████████████████████████████████████████████████████████████████████████████████████████████████████████████████| 3633/3633 [00:00<00:00, 86434.63it/s]\n"
     ]
    },
    {
     "name": "stdout",
     "output_type": "stream",
     "text": [
      "['splade-org']\n",
      "['dense-org', 'splade-org']\n",
      "['dense-org', 'splade-org']\n"
     ]
    },
    {
     "name": "stderr",
     "output_type": "stream",
     "text": [
      "100%|███████████████████████████████████████████████████████████████████████████████████████████████████████████████████████████████████████████████████| 171332/171332 [00:01<00:00, 106342.41it/s]\n"
     ]
    },
    {
     "name": "stdout",
     "output_type": "stream",
     "text": [
      "['splade-org']\n",
      "['dense-org', 'splade-org']\n",
      "['dense-org', 'splade-org']\n"
     ]
    },
    {
     "name": "stderr",
     "output_type": "stream",
     "text": [
      "100%|██████████████████████████████████████████████████████████████████████████████████████████████████████████████████████████████████████████████████████| 25657/25657 [00:01<00:00, 24229.45it/s]\n"
     ]
    },
    {
     "name": "stdout",
     "output_type": "stream",
     "text": [
      "['splade-org']\n",
      "['dense-org', 'splade-org']\n",
      "['dense-org', 'splade-org']\n"
     ]
    },
    {
     "name": "stderr",
     "output_type": "stream",
     "text": [
      "100%|████████████████████████████████████████████████████████████████████████████████████████████████████████████████████████████████████████████████████████| 5183/5183 [00:00<00:00, 97301.39it/s]\n"
     ]
    },
    {
     "name": "stdout",
     "output_type": "stream",
     "text": [
      "['splade-org']\n",
      "['dense-org', 'splade-org']\n",
      "['dense-org', 'splade-org']\n",
      "defaultdict(<class 'dict'>,\n",
      "            {'nfcorpus': {'dense-org-splade-org': {'ndcg@10': 0.34493,\n",
      "                                                   'rcap@100': 0.29709,\n",
      "                                                   'recall@100': 0.28224},\n",
      "                          'splade-org': {'ndcg@10': 0.3441,\n",
      "                                         'rcap@100': 0.30116,\n",
      "                                         'recall@100': 0.28581}},\n",
      "             'scidocs': {'dense-org-splade-org': {'ndcg@10': 0.16937,\n",
      "                                                  'rcap@100': 0.37717,\n",
      "                                                  'recall@100': 0.37717},\n",
      "                         'splade-org': {'ndcg@10': 0.16199,\n",
      "                                        'rcap@100': 0.36867,\n",
      "                                        'recall@100': 0.36867}},\n",
      "             'scifact': {'dense-org-splade-org': {'ndcg@10': 0.71234,\n",
      "                                                  'rcap@100': 0.95367,\n",
      "                                                  'recall@100': 0.95367},\n",
      "                         'splade-org': {'ndcg@10': 0.71563,\n",
      "                                        'rcap@100': 0.947,\n",
      "                                        'recall@100': 0.947}},\n",
      "             'trec-covid': {'dense-org-splade-org': {'ndcg@10': 0.72672,\n",
      "                                                     'rcap@100': 0.5512,\n",
      "                                                     'recall@100': 0.12884},\n",
      "                            'splade-org': {'ndcg@10': 0.66259,\n",
      "                                           'rcap@100': 0.5352,\n",
      "                                           'recall@100': 0.12404}}})\n"
     ]
    }
   ],
   "source": [
    "datasets = [\"nfcorpus\", \"trec-covid\", \"scidocs\", \"scifact\"]\n",
    "models_name = [[\"splade-org\"], [\"dense-org\", \"splade-org\"]]\n",
    "all_result = add_models_w_bm25(datasets, models_name, root_path, model_root_dir)\n",
    "pprint(all_result)"
   ]
  },
  {
   "cell_type": "code",
   "execution_count": 13,
   "id": "f1888930",
   "metadata": {},
   "outputs": [
    {
     "name": "stderr",
     "output_type": "stream",
     "text": [
      "100%|█████████████████████████████████████████████████████████████████████████████████████████████████████████████████████████████████████████████| 8841823/8841823 [00:29<00:00, 302780.09it/s]\n"
     ]
    },
    {
     "name": "stdout",
     "output_type": "stream",
     "text": [
      "['dense-org']\n",
      "['splade-org']\n",
      "['dense-org', 'splade-org']\n",
      "['dense-org', 'splade-org']\n",
      "defaultdict(<class 'dict'>,\n",
      "            {'msmarco': {'dense-org': {'ndcg@10': 0.71131,\n",
      "                                       'rcap@100': 0.63959,\n",
      "                                       'recall@100': 0.55217},\n",
      "                         'dense-org-splade-org': {'ndcg@10': 0.73818,\n",
      "                                                  'rcap@100': 0.66757,\n",
      "                                                  'recall@100': 0.5765},\n",
      "                         'splade-org': {'ndcg@10': 0.72018,\n",
      "                                        'rcap@100': 0.66289,\n",
      "                                        'recall@100': 0.57248}}})\n"
     ]
    }
   ],
   "source": [
    "datasets = [\"msmarco\"]\n",
    "models_name = [[\"dense-org\"], [\"splade-org\"], [\"dense-org\", \"splade-org\"]]\n",
    "all_result = add_models_w_bm25(datasets, models_name, root_path, model_root_dir)\n",
    "pprint(all_result)"
   ]
  },
  {
   "cell_type": "code",
   "execution_count": 14,
   "id": "d7e9994d-1e48-45f4-ae8a-bdeadb3edeea",
   "metadata": {},
   "outputs": [
    {
     "name": "stderr",
     "output_type": "stream",
     "text": [
      "100%|█████████████████████████████████████████████████████████████████████████████████████████████████████████████████████████████████████████████| 8841823/8841823 [00:28<00:00, 306011.10it/s]\n"
     ]
    },
    {
     "name": "stdout",
     "output_type": "stream",
     "text": [
      "/home/gaia_data/iida.h/BEIR/colbert/experiments/colbertv2.0/msmarco\n",
      "/home/gaia_data/iida.h/BEIR/colbert/experiments/colbertv2.0/msmarco\n",
      "/home/gaia_data/iida.h/BEIR/colbert/experiments/colbertv2.0/msmarco\n",
      "/home/gaia_data/iida.h/BEIR/colbert/experiments/colbertv2.0/msmarco\n",
      "/home/gaia_data/iida.h/BEIR/colbert/experiments/colbertv2.0/msmarco\n",
      "defaultdict(<class 'dict'>,\n",
      "            {'msmarco': {'bm25-dense-org-splade-org': {'R)cap@100': 0.66887,\n",
      "                                                       'ndcg@10': 0.7469,\n",
      "                                                       'recall@100': 0.57635},\n",
      "                         'bm25-splade-org': {'R)cap@100': 0.67695,\n",
      "                                             'ndcg@10': 0.74788,\n",
      "                                             'recall@100': 0.58395}}})\n"
     ]
    }
   ],
   "source": [
    "datasets = [\"msmarco\"]\n",
    "# models_name = [[\"bm25\", \"dense-org\", \"splade-org\"]]\n",
    "models_name = [[\"bm25\", \"splade-org\"],[\"bm25\", \"dense-org\", \"splade-org\"]]\n",
    "colbert_path_pattern = [(\"*search/2022-12/**/*.tsv\", False)]\n",
    "for cpp, gpl in colbert_path_pattern:\n",
    "    all_result = add_ensemble_w_colbert(datasets, models_name, root_path, model_root_dir, colbert_root_dir, cpp, gpl)\n",
    "    pprint(all_result)"
   ]
  },
  {
   "cell_type": "code",
   "execution_count": null,
   "id": "d4583e54",
   "metadata": {},
   "outputs": [],
   "source": [
    "datasets = [\"msmarco\"]\n",
    "models_name = [[\"dense-org\"], [\"splade-org\"], [\"dense-org\", \"splade-org\"]]\n",
    "all_result = add_models_w_bm25(datasets, models_name, root_path, model_root_dir)\n",
    "pprint(all_result)"
   ]
  },
  {
   "cell_type": "code",
   "execution_count": 98,
   "id": "f6fd2251",
   "metadata": {},
   "outputs": [
    {
     "data": {
      "application/vnd.jupyter.widget-view+json": {
       "model_id": "073219f236ec4a9daecfa3e9888210bb",
       "version_major": 2,
       "version_minor": 0
      },
      "text/plain": [
       "  0%|          | 0/8841823 [00:00<?, ?it/s]"
      ]
     },
     "metadata": {},
     "output_type": "display_data"
    },
    {
     "name": "stdout",
     "output_type": "stream",
     "text": [
      "defaultdict(<class 'dict'>,\n",
      "            {'msmarco': {'ndcg@10': 0.74881, 'recall@100': 0.5519}})\n"
     ]
    }
   ],
   "source": [
    "colbert_path_pattern = [(\"*search/2023-01/07/**/*.tsv\", False)]\n",
    "for cpp, gpl in colbert_path_pattern:\n",
    "    all_result = colbert(datasets, root_path, colbert_root_dir, cpp, gpl)\n",
    "    pprint(all_result)"
   ]
  },
  {
   "cell_type": "code",
   "execution_count": 19,
   "id": "c5a08951",
   "metadata": {},
   "outputs": [
    {
     "name": "stderr",
     "output_type": "stream",
     "text": [
      "100%|████████████████████████████████████████████████████████████████████████████████████████████████████████████████████████████████████████████████████████| 3633/3633 [00:00<00:00, 85791.78it/s]\n"
     ]
    },
    {
     "name": "stdout",
     "output_type": "stream",
     "text": [
      "/home/gaia_data/iida.h/BEIR/colbert/experiments/colbertv2.0/nfcorpus\n",
      "/home/gaia_data/iida.h/BEIR/colbert/experiments/colbertv2.0/nfcorpus\n",
      "/home/gaia_data/iida.h/BEIR/colbert/experiments/colbertv2.0/nfcorpus\n",
      "/home/gaia_data/iida.h/BEIR/colbert/experiments/colbertv2.0/nfcorpus\n",
      "/home/gaia_data/iida.h/BEIR/colbert/experiments/colbertv2.0/nfcorpus\n"
     ]
    },
    {
     "name": "stderr",
     "output_type": "stream",
     "text": [
      "100%|███████████████████████████████████████████████████████████████████████████████████████████████████████████████████████████████████████████████████| 171332/171332 [00:01<00:00, 106360.13it/s]\n"
     ]
    },
    {
     "name": "stdout",
     "output_type": "stream",
     "text": [
      "/home/gaia_data/iida.h/BEIR/colbert/experiments/colbertv2.0/trec-covid\n",
      "/home/gaia_data/iida.h/BEIR/colbert/experiments/colbertv2.0/trec-covid\n",
      "/home/gaia_data/iida.h/BEIR/colbert/experiments/colbertv2.0/trec-covid\n",
      "/home/gaia_data/iida.h/BEIR/colbert/experiments/colbertv2.0/trec-covid\n",
      "/home/gaia_data/iida.h/BEIR/colbert/experiments/colbertv2.0/trec-covid\n"
     ]
    },
    {
     "name": "stderr",
     "output_type": "stream",
     "text": [
      "100%|██████████████████████████████████████████████████████████████████████████████████████████████████████████████████████████████████████████████████████| 25657/25657 [00:01<00:00, 24250.04it/s]\n"
     ]
    },
    {
     "name": "stdout",
     "output_type": "stream",
     "text": [
      "/home/gaia_data/iida.h/BEIR/colbert/experiments/colbertv2.0/scidocs\n",
      "/home/gaia_data/iida.h/BEIR/colbert/experiments/colbertv2.0/scidocs\n",
      "/home/gaia_data/iida.h/BEIR/colbert/experiments/colbertv2.0/scidocs\n",
      "/home/gaia_data/iida.h/BEIR/colbert/experiments/colbertv2.0/scidocs\n",
      "/home/gaia_data/iida.h/BEIR/colbert/experiments/colbertv2.0/scidocs\n"
     ]
    },
    {
     "name": "stderr",
     "output_type": "stream",
     "text": [
      "100%|████████████████████████████████████████████████████████████████████████████████████████████████████████████████████████████████████████████████████████| 5183/5183 [00:00<00:00, 95802.74it/s]\n"
     ]
    },
    {
     "name": "stdout",
     "output_type": "stream",
     "text": [
      "/home/gaia_data/iida.h/BEIR/colbert/experiments/colbertv2.0/scifact\n",
      "/home/gaia_data/iida.h/BEIR/colbert/experiments/colbertv2.0/scifact\n",
      "/home/gaia_data/iida.h/BEIR/colbert/experiments/colbertv2.0/scifact\n",
      "/home/gaia_data/iida.h/BEIR/colbert/experiments/colbertv2.0/scifact\n",
      "/home/gaia_data/iida.h/BEIR/colbert/experiments/colbertv2.0/scifact\n",
      "defaultdict(<class 'dict'>,\n",
      "            {'nfcorpus': {'bm25-splade-org': {'R)cap@100': 0.30598,\n",
      "                                              'ndcg@10': 0.34117,\n",
      "                                              'recall@100': 0.29106},\n",
      "                          'bm25-splade-org-dense-org': {'R)cap@100': 0.30187,\n",
      "                                                        'ndcg@10': 0.34114,\n",
      "                                                        'recall@100': 0.28731}},\n",
      "             'scidocs': {'bm25-splade-org': {'R)cap@100': 0.3811,\n",
      "                                             'ndcg@10': 0.16502,\n",
      "                                             'recall@100': 0.3811},\n",
      "                         'bm25-splade-org-dense-org': {'R)cap@100': 0.38083,\n",
      "                                                       'ndcg@10': 0.17196,\n",
      "                                                       'recall@100': 0.38083}},\n",
      "             'scifact': {'bm25-splade-org': {'R)cap@100': 0.947,\n",
      "                                             'ndcg@10': 0.71458,\n",
      "                                             'recall@100': 0.947},\n",
      "                         'bm25-splade-org-dense-org': {'R)cap@100': 0.947,\n",
      "                                                       'ndcg@10': 0.71321,\n",
      "                                                       'recall@100': 0.947}},\n",
      "             'trec-covid': {'bm25-splade-org': {'R)cap@100': 0.5556,\n",
      "                                                'ndcg@10': 0.7106,\n",
      "                                                'recall@100': 0.13012},\n",
      "                            'bm25-splade-org-dense-org': {'R)cap@100': 0.568,\n",
      "                                                          'ndcg@10': 0.74334,\n",
      "                                                          'recall@100': 0.13302}}})\n"
     ]
    }
   ],
   "source": [
    "datasets = [\"nfcorpus\", \"trec-covid\", \"scidocs\", \"scifact\"]\n",
    "# models_name = [[\"bm25\"], [\"dense-org\"], [\"splade-org\"], [\"dense-org\", \"splade-org\"],[\"bm25\", \"dense-org\", \"splade-org\"]]\n",
    "models_name = [[\"bm25\", \"splade-org\"], [\"bm25\", \"splade-org\", \"dense-org\"]]\n",
    "colbert_path_pattern = [(\"*search/2022-12/**/*.tsv\", False)]\n",
    "for cpp, gpl in colbert_path_pattern:\n",
    "    all_result = add_ensemble_w_colbert(datasets, models_name, root_path, model_root_dir, colbert_root_dir, cpp, gpl)\n",
    "    pprint(all_result)"
   ]
  },
  {
   "cell_type": "code",
   "execution_count": 14,
   "id": "55702b57",
   "metadata": {},
   "outputs": [
    {
     "name": "stderr",
     "output_type": "stream",
     "text": [
      "100%|███████████████████████████████████████████████████████████████████████████████████████████████████████████████████████████████████████████████| 14914714/14914714 [02:16<00:00, 109379.74it/s]\n"
     ]
    },
    {
     "name": "stdout",
     "output_type": "stream",
     "text": [
      "['splade-org']\n",
      "['dense-org', 'splade-org']\n",
      "['dense-org', 'splade-org']\n",
      "defaultdict(<class 'dict'>,\n",
      "            {'bioask': {'dense-org-splade-org': {'ndcg@10': 0.54872,\n",
      "                                                 'rcap@100': 0.76145,\n",
      "                                                 'recall@100': 0.76145},\n",
      "                        'splade-org': {'ndcg@10': 0.57512,\n",
      "                                       'rcap@100': 0.78845,\n",
      "                                       'recall@100': 0.78845}}})\n"
     ]
    }
   ],
   "source": [
    "datasets = [\"bioask\"]\n",
    "models_name = [[\"splade-org\"], [\"dense-org\", \"splade-org\"]]\n",
    "all_result = add_models_w_bm25(datasets, models_name, root_path, model_root_dir)\n",
    "pprint(all_result)"
   ]
  },
  {
   "cell_type": "code",
   "execution_count": 14,
   "id": "95c5645b",
   "metadata": {},
   "outputs": [
    {
     "name": "stderr",
     "output_type": "stream",
     "text": [
      "100%|███████████████████████████████████████████████████████████████████████████████████████████████████████████████████████████████████████████████| 14914714/14914714 [02:06<00:00, 118176.81it/s]\n"
     ]
    },
    {
     "name": "stdout",
     "output_type": "stream",
     "text": [
      "/home/gaia_data/iida.h/BEIR/colbert/experiments/colbertv2.0/bioask\n",
      "/home/gaia_data/iida.h/BEIR/colbert/experiments/colbertv2.0/bioask\n",
      "defaultdict(<class 'dict'>,\n",
      "            {'bioask': {'bm25-splade-org': {'R)cap@100': 0.79363,\n",
      "                                            'ndcg@10': 0.57311,\n",
      "                                            'recall@100': 0.79363}}})\n"
     ]
    }
   ],
   "source": [
    "datasets = [\"bioask\"]\n",
    "models_name = [[\"bm25\", \"splade-org\"]]\n",
    "colbert_path_pattern = [(\"*search/2022-12/**/*.tsv\", False)]\n",
    "for cpp, gpl in colbert_path_pattern:\n",
    "    all_result = add_ensemble_w_colbert(datasets, models_name, root_path, model_root_dir, colbert_root_dir, cpp, gpl)\n",
    "    pprint(all_result)"
   ]
  },
  {
   "cell_type": "code",
   "execution_count": 13,
   "id": "c0b93274",
   "metadata": {},
   "outputs": [
    {
     "name": "stderr",
     "output_type": "stream",
     "text": [
      "100%|███████████████████████████████████████████████████████████████████████████████████████████████████████████████████████████████████████████████| 14914714/14914714 [02:11<00:00, 113510.31it/s]\n"
     ]
    },
    {
     "name": "stdout",
     "output_type": "stream",
     "text": [
      "/home/gaia_data/iida.h/BEIR/colbert/experiments/colbertv2.0/bioask\n",
      "/home/gaia_data/iida.h/BEIR/colbert/experiments/colbertv2.0/bioask\n",
      "/home/gaia_data/iida.h/BEIR/colbert/experiments/colbertv2.0/bioask\n",
      "defaultdict(<class 'dict'>,\n",
      "            {'bioask': {'bm25-dense-org-splade-org': {'R)cap@100': 0.81969,\n",
      "                                                      'ndcg@10': 0.57043,\n",
      "                                                      'recall@100': 0.81969}}})\n"
     ]
    }
   ],
   "source": [
    "datasets = [\"bioask\"]\n",
    "# models_name = [[\"bm25\", \"dense-org\", \"splade-org\"]]\n",
    "models_name = [[\"bm25\", \"dense-org\", \"splade-org\"]]\n",
    "colbert_path_pattern = [(\"*search/2022-12/**/*.tsv\", False)]\n",
    "for cpp, gpl in colbert_path_pattern:\n",
    "    all_result = add_ensemble_w_colbert(datasets, models_name, root_path, model_root_dir, colbert_root_dir, cpp, gpl)\n",
    "    pprint(all_result)"
   ]
  },
  {
   "cell_type": "code",
   "execution_count": null,
   "id": "455066d6",
   "metadata": {},
   "outputs": [],
   "source": []
  }
 ],
 "metadata": {
  "kernelspec": {
   "display_name": "Python 3 (ipykernel)",
   "language": "python",
   "name": "python3"
  },
  "language_info": {
   "codemirror_mode": {
    "name": "ipython",
    "version": 3
   },
   "file_extension": ".py",
   "mimetype": "text/x-python",
   "name": "python",
   "nbconvert_exporter": "python",
   "pygments_lexer": "ipython3",
   "version": "3.10.12"
  }
 },
 "nbformat": 4,
 "nbformat_minor": 5
}
